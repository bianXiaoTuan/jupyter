{
 "cells": [
  {
   "cell_type": "code",
   "execution_count": 36,
   "metadata": {
    "collapsed": false
   },
   "outputs": [
    {
     "data": {
      "text/html": [
       "<div>\n",
       "<table border=\"1\" class=\"dataframe\">\n",
       "  <thead>\n",
       "    <tr style=\"text-align: right;\">\n",
       "      <th></th>\n",
       "      <th>A</th>\n",
       "      <th>B</th>\n",
       "      <th>C</th>\n",
       "      <th>D</th>\n",
       "    </tr>\n",
       "  </thead>\n",
       "  <tbody>\n",
       "    <tr>\n",
       "      <th>2013-01-01</th>\n",
       "      <td>-0.904760</td>\n",
       "      <td>-0.178933</td>\n",
       "      <td>-0.459041</td>\n",
       "      <td>1.466919</td>\n",
       "    </tr>\n",
       "    <tr>\n",
       "      <th>2013-01-02</th>\n",
       "      <td>0.490367</td>\n",
       "      <td>0.191141</td>\n",
       "      <td>0.087246</td>\n",
       "      <td>-0.305683</td>\n",
       "    </tr>\n",
       "    <tr>\n",
       "      <th>2013-01-03</th>\n",
       "      <td>-0.284313</td>\n",
       "      <td>0.600855</td>\n",
       "      <td>-0.552622</td>\n",
       "      <td>0.322855</td>\n",
       "    </tr>\n",
       "    <tr>\n",
       "      <th>2013-01-04</th>\n",
       "      <td>0.512534</td>\n",
       "      <td>0.632905</td>\n",
       "      <td>1.176434</td>\n",
       "      <td>0.142656</td>\n",
       "    </tr>\n",
       "    <tr>\n",
       "      <th>2013-01-05</th>\n",
       "      <td>0.513955</td>\n",
       "      <td>1.561148</td>\n",
       "      <td>-1.468751</td>\n",
       "      <td>-0.250276</td>\n",
       "    </tr>\n",
       "    <tr>\n",
       "      <th>2013-01-06</th>\n",
       "      <td>2.233567</td>\n",
       "      <td>-0.219259</td>\n",
       "      <td>1.505732</td>\n",
       "      <td>-1.188179</td>\n",
       "    </tr>\n",
       "    <tr>\n",
       "      <th>2013-01-07</th>\n",
       "      <td>-0.249106</td>\n",
       "      <td>0.475721</td>\n",
       "      <td>0.083594</td>\n",
       "      <td>0.697836</td>\n",
       "    </tr>\n",
       "    <tr>\n",
       "      <th>2013-01-08</th>\n",
       "      <td>0.982399</td>\n",
       "      <td>-0.019490</td>\n",
       "      <td>-0.066697</td>\n",
       "      <td>-2.008065</td>\n",
       "    </tr>\n",
       "    <tr>\n",
       "      <th>2013-01-09</th>\n",
       "      <td>-0.233115</td>\n",
       "      <td>0.036804</td>\n",
       "      <td>1.371220</td>\n",
       "      <td>1.463363</td>\n",
       "    </tr>\n",
       "    <tr>\n",
       "      <th>2013-01-10</th>\n",
       "      <td>0.265149</td>\n",
       "      <td>0.578331</td>\n",
       "      <td>0.141929</td>\n",
       "      <td>-1.361434</td>\n",
       "    </tr>\n",
       "  </tbody>\n",
       "</table>\n",
       "</div>"
      ],
      "text/plain": [
       "                   A         B         C         D\n",
       "2013-01-01 -0.904760 -0.178933 -0.459041  1.466919\n",
       "2013-01-02  0.490367  0.191141  0.087246 -0.305683\n",
       "2013-01-03 -0.284313  0.600855 -0.552622  0.322855\n",
       "2013-01-04  0.512534  0.632905  1.176434  0.142656\n",
       "2013-01-05  0.513955  1.561148 -1.468751 -0.250276\n",
       "2013-01-06  2.233567 -0.219259  1.505732 -1.188179\n",
       "2013-01-07 -0.249106  0.475721  0.083594  0.697836\n",
       "2013-01-08  0.982399 -0.019490 -0.066697 -2.008065\n",
       "2013-01-09 -0.233115  0.036804  1.371220  1.463363\n",
       "2013-01-10  0.265149  0.578331  0.141929 -1.361434"
      ]
     },
     "execution_count": 36,
     "metadata": {},
     "output_type": "execute_result"
    }
   ],
   "source": [
    "import numpy as np\n",
    "import pandas as pd\n",
    "\n",
    "dates = pd.date_range('20130101', periods=10)\n",
    "df = pd.DataFrame(np.random.randn(10,4), index=dates, columns=list('ABCD'))\n",
    "\n",
    "df"
   ]
  },
  {
   "cell_type": "markdown",
   "metadata": {},
   "source": [
    "# Inspecting your data"
   ]
  },
  {
   "cell_type": "code",
   "execution_count": 37,
   "metadata": {
    "collapsed": false
   },
   "outputs": [
    {
     "data": {
      "text/html": [
       "<div>\n",
       "<table border=\"1\" class=\"dataframe\">\n",
       "  <thead>\n",
       "    <tr style=\"text-align: right;\">\n",
       "      <th></th>\n",
       "      <th>A</th>\n",
       "      <th>B</th>\n",
       "      <th>C</th>\n",
       "      <th>D</th>\n",
       "    </tr>\n",
       "  </thead>\n",
       "  <tbody>\n",
       "    <tr>\n",
       "      <th>2013-01-01</th>\n",
       "      <td>-0.904760</td>\n",
       "      <td>-0.178933</td>\n",
       "      <td>-0.459041</td>\n",
       "      <td>1.466919</td>\n",
       "    </tr>\n",
       "    <tr>\n",
       "      <th>2013-01-02</th>\n",
       "      <td>0.490367</td>\n",
       "      <td>0.191141</td>\n",
       "      <td>0.087246</td>\n",
       "      <td>-0.305683</td>\n",
       "    </tr>\n",
       "    <tr>\n",
       "      <th>2013-01-03</th>\n",
       "      <td>-0.284313</td>\n",
       "      <td>0.600855</td>\n",
       "      <td>-0.552622</td>\n",
       "      <td>0.322855</td>\n",
       "    </tr>\n",
       "    <tr>\n",
       "      <th>2013-01-04</th>\n",
       "      <td>0.512534</td>\n",
       "      <td>0.632905</td>\n",
       "      <td>1.176434</td>\n",
       "      <td>0.142656</td>\n",
       "    </tr>\n",
       "    <tr>\n",
       "      <th>2013-01-05</th>\n",
       "      <td>0.513955</td>\n",
       "      <td>1.561148</td>\n",
       "      <td>-1.468751</td>\n",
       "      <td>-0.250276</td>\n",
       "    </tr>\n",
       "  </tbody>\n",
       "</table>\n",
       "</div>"
      ],
      "text/plain": [
       "                   A         B         C         D\n",
       "2013-01-01 -0.904760 -0.178933 -0.459041  1.466919\n",
       "2013-01-02  0.490367  0.191141  0.087246 -0.305683\n",
       "2013-01-03 -0.284313  0.600855 -0.552622  0.322855\n",
       "2013-01-04  0.512534  0.632905  1.176434  0.142656\n",
       "2013-01-05  0.513955  1.561148 -1.468751 -0.250276"
      ]
     },
     "execution_count": 37,
     "metadata": {},
     "output_type": "execute_result"
    }
   ],
   "source": [
    "# head\n",
    "\n",
    "df.head()"
   ]
  },
  {
   "cell_type": "code",
   "execution_count": 38,
   "metadata": {
    "collapsed": false
   },
   "outputs": [
    {
     "data": {
      "text/html": [
       "<div>\n",
       "<table border=\"1\" class=\"dataframe\">\n",
       "  <thead>\n",
       "    <tr style=\"text-align: right;\">\n",
       "      <th></th>\n",
       "      <th>A</th>\n",
       "      <th>B</th>\n",
       "      <th>C</th>\n",
       "      <th>D</th>\n",
       "    </tr>\n",
       "  </thead>\n",
       "  <tbody>\n",
       "    <tr>\n",
       "      <th>2013-01-06</th>\n",
       "      <td>2.233567</td>\n",
       "      <td>-0.219259</td>\n",
       "      <td>1.505732</td>\n",
       "      <td>-1.188179</td>\n",
       "    </tr>\n",
       "    <tr>\n",
       "      <th>2013-01-07</th>\n",
       "      <td>-0.249106</td>\n",
       "      <td>0.475721</td>\n",
       "      <td>0.083594</td>\n",
       "      <td>0.697836</td>\n",
       "    </tr>\n",
       "    <tr>\n",
       "      <th>2013-01-08</th>\n",
       "      <td>0.982399</td>\n",
       "      <td>-0.019490</td>\n",
       "      <td>-0.066697</td>\n",
       "      <td>-2.008065</td>\n",
       "    </tr>\n",
       "    <tr>\n",
       "      <th>2013-01-09</th>\n",
       "      <td>-0.233115</td>\n",
       "      <td>0.036804</td>\n",
       "      <td>1.371220</td>\n",
       "      <td>1.463363</td>\n",
       "    </tr>\n",
       "    <tr>\n",
       "      <th>2013-01-10</th>\n",
       "      <td>0.265149</td>\n",
       "      <td>0.578331</td>\n",
       "      <td>0.141929</td>\n",
       "      <td>-1.361434</td>\n",
       "    </tr>\n",
       "  </tbody>\n",
       "</table>\n",
       "</div>"
      ],
      "text/plain": [
       "                   A         B         C         D\n",
       "2013-01-06  2.233567 -0.219259  1.505732 -1.188179\n",
       "2013-01-07 -0.249106  0.475721  0.083594  0.697836\n",
       "2013-01-08  0.982399 -0.019490 -0.066697 -2.008065\n",
       "2013-01-09 -0.233115  0.036804  1.371220  1.463363\n",
       "2013-01-10  0.265149  0.578331  0.141929 -1.361434"
      ]
     },
     "execution_count": 38,
     "metadata": {},
     "output_type": "execute_result"
    }
   ],
   "source": [
    "# tail\n",
    "\n",
    "df.tail()"
   ]
  },
  {
   "cell_type": "code",
   "execution_count": 39,
   "metadata": {
    "collapsed": false
   },
   "outputs": [
    {
     "data": {
      "text/html": [
       "<div>\n",
       "<table border=\"1\" class=\"dataframe\">\n",
       "  <thead>\n",
       "    <tr style=\"text-align: right;\">\n",
       "      <th></th>\n",
       "      <th>A</th>\n",
       "      <th>B</th>\n",
       "      <th>C</th>\n",
       "      <th>D</th>\n",
       "    </tr>\n",
       "  </thead>\n",
       "  <tbody>\n",
       "    <tr>\n",
       "      <th>2013-01-01</th>\n",
       "      <td>-0.904760</td>\n",
       "      <td>-0.178933</td>\n",
       "      <td>-0.459041</td>\n",
       "      <td>1.466919</td>\n",
       "    </tr>\n",
       "    <tr>\n",
       "      <th>2013-01-02</th>\n",
       "      <td>0.490367</td>\n",
       "      <td>0.191141</td>\n",
       "      <td>0.087246</td>\n",
       "      <td>-0.305683</td>\n",
       "    </tr>\n",
       "  </tbody>\n",
       "</table>\n",
       "</div>"
      ],
      "text/plain": [
       "                   A         B         C         D\n",
       "2013-01-01 -0.904760 -0.178933 -0.459041  1.466919\n",
       "2013-01-02  0.490367  0.191141  0.087246 -0.305683"
      ]
     },
     "execution_count": 39,
     "metadata": {},
     "output_type": "execute_result"
    }
   ],
   "source": [
    "df.iloc[0:2, :]"
   ]
  },
  {
   "cell_type": "markdown",
   "metadata": {},
   "source": [
    "# DataFrame data types"
   ]
  },
  {
   "cell_type": "code",
   "execution_count": 40,
   "metadata": {
    "collapsed": false
   },
   "outputs": [
    {
     "name": "stdout",
     "output_type": "stream",
     "text": [
      "<class 'pandas.core.frame.DataFrame'>\n",
      "DatetimeIndex: 10 entries, 2013-01-01 to 2013-01-10\n",
      "Freq: D\n",
      "Data columns (total 4 columns):\n",
      "A    10 non-null float64\n",
      "B    10 non-null float64\n",
      "C    10 non-null float64\n",
      "D    10 non-null float64\n",
      "dtypes: float64(4)\n",
      "memory usage: 400.0 bytes\n"
     ]
    }
   ],
   "source": [
    "# info\n",
    "\n",
    "df.info()"
   ]
  },
  {
   "cell_type": "code",
   "execution_count": 41,
   "metadata": {
    "collapsed": false
   },
   "outputs": [
    {
     "data": {
      "text/html": [
       "<div>\n",
       "<table border=\"1\" class=\"dataframe\">\n",
       "  <thead>\n",
       "    <tr style=\"text-align: right;\">\n",
       "      <th></th>\n",
       "      <th>A</th>\n",
       "      <th>B</th>\n",
       "      <th>C</th>\n",
       "      <th>D</th>\n",
       "    </tr>\n",
       "  </thead>\n",
       "  <tbody>\n",
       "    <tr>\n",
       "      <th>count</th>\n",
       "      <td>10.000000</td>\n",
       "      <td>10.000000</td>\n",
       "      <td>10.000000</td>\n",
       "      <td>10.000000</td>\n",
       "    </tr>\n",
       "    <tr>\n",
       "      <th>mean</th>\n",
       "      <td>0.332668</td>\n",
       "      <td>0.365922</td>\n",
       "      <td>0.181904</td>\n",
       "      <td>-0.102001</td>\n",
       "    </tr>\n",
       "    <tr>\n",
       "      <th>std</th>\n",
       "      <td>0.862856</td>\n",
       "      <td>0.531133</td>\n",
       "      <td>0.937675</td>\n",
       "      <td>1.166880</td>\n",
       "    </tr>\n",
       "    <tr>\n",
       "      <th>min</th>\n",
       "      <td>-0.904760</td>\n",
       "      <td>-0.219259</td>\n",
       "      <td>-1.468751</td>\n",
       "      <td>-2.008065</td>\n",
       "    </tr>\n",
       "    <tr>\n",
       "      <th>25%</th>\n",
       "      <td>-0.245108</td>\n",
       "      <td>-0.005416</td>\n",
       "      <td>-0.360955</td>\n",
       "      <td>-0.967555</td>\n",
       "    </tr>\n",
       "    <tr>\n",
       "      <th>50%</th>\n",
       "      <td>0.377758</td>\n",
       "      <td>0.333431</td>\n",
       "      <td>0.085420</td>\n",
       "      <td>-0.053810</td>\n",
       "    </tr>\n",
       "    <tr>\n",
       "      <th>75%</th>\n",
       "      <td>0.513600</td>\n",
       "      <td>0.595224</td>\n",
       "      <td>0.917808</td>\n",
       "      <td>0.604091</td>\n",
       "    </tr>\n",
       "    <tr>\n",
       "      <th>max</th>\n",
       "      <td>2.233567</td>\n",
       "      <td>1.561148</td>\n",
       "      <td>1.505732</td>\n",
       "      <td>1.466919</td>\n",
       "    </tr>\n",
       "  </tbody>\n",
       "</table>\n",
       "</div>"
      ],
      "text/plain": [
       "               A          B          C          D\n",
       "count  10.000000  10.000000  10.000000  10.000000\n",
       "mean    0.332668   0.365922   0.181904  -0.102001\n",
       "std     0.862856   0.531133   0.937675   1.166880\n",
       "min    -0.904760  -0.219259  -1.468751  -2.008065\n",
       "25%    -0.245108  -0.005416  -0.360955  -0.967555\n",
       "50%     0.377758   0.333431   0.085420  -0.053810\n",
       "75%     0.513600   0.595224   0.917808   0.604091\n",
       "max     2.233567   1.561148   1.505732   1.466919"
      ]
     },
     "execution_count": 41,
     "metadata": {},
     "output_type": "execute_result"
    }
   ],
   "source": [
    "# describe\n",
    "\n",
    "df.describe()"
   ]
  },
  {
   "cell_type": "markdown",
   "metadata": {},
   "source": [
    "# Numpy and pandas working together"
   ]
  },
  {
   "cell_type": "code",
   "execution_count": 42,
   "metadata": {
    "collapsed": false
   },
   "outputs": [
    {
     "data": {
      "text/plain": [
       "array([[-0.90476031, -0.17893283, -0.45904115,  1.46691941],\n",
       "       [ 0.49036695,  0.19114108,  0.08724611, -0.30568313],\n",
       "       [-0.28431316,  0.6008552 , -0.55262233,  0.32285532],\n",
       "       [ 0.51253424,  0.63290503,  1.17643423,  0.1426559 ],\n",
       "       [ 0.51395507,  1.5611478 , -1.46875078, -0.25027595],\n",
       "       [ 2.23356733, -0.2192586 ,  1.50573221, -1.18817856],\n",
       "       [-0.24910575,  0.47572099,  0.0835942 ,  0.69783572],\n",
       "       [ 0.98239934, -0.01948979, -0.06669687, -2.00806454],\n",
       "       [-0.23311503,  0.03680442,  1.37121978,  1.46336283],\n",
       "       [ 0.26514884,  0.57833097,  0.14192933, -1.36143383]])"
      ]
     },
     "execution_count": 42,
     "metadata": {},
     "output_type": "execute_result"
    }
   ],
   "source": [
    "# values\n",
    "\n",
    "df.values"
   ]
  },
  {
   "cell_type": "code",
   "execution_count": 43,
   "metadata": {
    "collapsed": false
   },
   "outputs": [
    {
     "name": "stdout",
     "output_type": "stream",
     "text": [
      "(<type 'numpy.ndarray'>, <type 'numpy.ndarray'>)\n",
      "(<class 'pandas.core.frame.DataFrame'>, <class 'pandas.core.frame.DataFrame'>)\n"
     ]
    }
   ],
   "source": [
    "# DataFrame and numpy\n",
    "\n",
    "np_vals = df.values\n",
    "np_vals_log10 = np.log10(np_vals)\n",
    "print(type(np_vals), type(np_vals_log10))\n",
    "\n",
    "df_log10 = np.log10(df)\n",
    "print(type(df), type(df_log10))"
   ]
  },
  {
   "cell_type": "markdown",
   "metadata": {},
   "source": [
    "# Zip list to build a DataFrame"
   ]
  },
  {
   "cell_type": "code",
   "execution_count": 44,
   "metadata": {
    "collapsed": false
   },
   "outputs": [
    {
     "data": {
      "text/plain": [
       "[('Country', ['United States', 'Soviet Union', 'United Kingdom']),\n",
       " ('Total', [1118, 473, 273])]"
      ]
     },
     "execution_count": 44,
     "metadata": {},
     "output_type": "execute_result"
    }
   ],
   "source": [
    "list_keys = ['Country', 'Total']\n",
    "list_values = [['United States', 'Soviet Union', 'United Kingdom'], [1118, 473, 273]]\n",
    "\n",
    "zip(list_keys, list_values)"
   ]
  },
  {
   "cell_type": "code",
   "execution_count": 45,
   "metadata": {
    "collapsed": false
   },
   "outputs": [
    {
     "data": {
      "text/plain": [
       "[('Country', ['United States', 'Soviet Union', 'United Kingdom']),\n",
       " ('Total', [1118, 473, 273])]"
      ]
     },
     "execution_count": 45,
     "metadata": {},
     "output_type": "execute_result"
    }
   ],
   "source": [
    "zipped = list(zip(list_keys, list_values))\n",
    "zipped"
   ]
  },
  {
   "cell_type": "code",
   "execution_count": 46,
   "metadata": {
    "collapsed": false
   },
   "outputs": [
    {
     "data": {
      "text/plain": [
       "{'Country': ['United States', 'Soviet Union', 'United Kingdom'],\n",
       " 'Total': [1118, 473, 273]}"
      ]
     },
     "execution_count": 46,
     "metadata": {},
     "output_type": "execute_result"
    }
   ],
   "source": [
    "data = dict(zipped)\n",
    "data"
   ]
  },
  {
   "cell_type": "code",
   "execution_count": 47,
   "metadata": {
    "collapsed": false
   },
   "outputs": [
    {
     "data": {
      "text/html": [
       "<div>\n",
       "<table border=\"1\" class=\"dataframe\">\n",
       "  <thead>\n",
       "    <tr style=\"text-align: right;\">\n",
       "      <th></th>\n",
       "      <th>Country</th>\n",
       "      <th>Total</th>\n",
       "    </tr>\n",
       "  </thead>\n",
       "  <tbody>\n",
       "    <tr>\n",
       "      <th>0</th>\n",
       "      <td>United States</td>\n",
       "      <td>1118</td>\n",
       "    </tr>\n",
       "    <tr>\n",
       "      <th>1</th>\n",
       "      <td>Soviet Union</td>\n",
       "      <td>473</td>\n",
       "    </tr>\n",
       "    <tr>\n",
       "      <th>2</th>\n",
       "      <td>United Kingdom</td>\n",
       "      <td>273</td>\n",
       "    </tr>\n",
       "  </tbody>\n",
       "</table>\n",
       "</div>"
      ],
      "text/plain": [
       "          Country  Total\n",
       "0   United States   1118\n",
       "1    Soviet Union    473\n",
       "2  United Kingdom    273"
      ]
     },
     "execution_count": 47,
     "metadata": {},
     "output_type": "execute_result"
    }
   ],
   "source": [
    "df = pd.DataFrame(data)\n",
    "df"
   ]
  },
  {
   "cell_type": "markdown",
   "metadata": {},
   "source": [
    "# Labeling your data"
   ]
  },
  {
   "cell_type": "code",
   "execution_count": 48,
   "metadata": {
    "collapsed": false
   },
   "outputs": [
    {
     "data": {
      "text/html": [
       "<div>\n",
       "<table border=\"1\" class=\"dataframe\">\n",
       "  <thead>\n",
       "    <tr style=\"text-align: right;\">\n",
       "      <th></th>\n",
       "      <th>国家</th>\n",
       "      <th>收入</th>\n",
       "    </tr>\n",
       "  </thead>\n",
       "  <tbody>\n",
       "    <tr>\n",
       "      <th>0</th>\n",
       "      <td>United States</td>\n",
       "      <td>1118</td>\n",
       "    </tr>\n",
       "    <tr>\n",
       "      <th>1</th>\n",
       "      <td>Soviet Union</td>\n",
       "      <td>473</td>\n",
       "    </tr>\n",
       "    <tr>\n",
       "      <th>2</th>\n",
       "      <td>United Kingdom</td>\n",
       "      <td>273</td>\n",
       "    </tr>\n",
       "  </tbody>\n",
       "</table>\n",
       "</div>"
      ],
      "text/plain": [
       "               国家    收入\n",
       "0   United States  1118\n",
       "1    Soviet Union   473\n",
       "2  United Kingdom   273"
      ]
     },
     "execution_count": 48,
     "metadata": {},
     "output_type": "execute_result"
    }
   ],
   "source": [
    "list_labels = [u'国家', u'收入']\n",
    "df.columns = list_labels\n",
    "\n",
    "df"
   ]
  },
  {
   "cell_type": "markdown",
   "metadata": {},
   "source": [
    "# Building DataFrames with broadcasting"
   ]
  },
  {
   "cell_type": "code",
   "execution_count": 49,
   "metadata": {
    "collapsed": false
   },
   "outputs": [
    {
     "data": {
      "text/html": [
       "<div>\n",
       "<table border=\"1\" class=\"dataframe\">\n",
       "  <thead>\n",
       "    <tr style=\"text-align: right;\">\n",
       "      <th></th>\n",
       "      <th>city</th>\n",
       "      <th>state</th>\n",
       "    </tr>\n",
       "  </thead>\n",
       "  <tbody>\n",
       "    <tr>\n",
       "      <th>0</th>\n",
       "      <td>Manheim</td>\n",
       "      <td>PA</td>\n",
       "    </tr>\n",
       "    <tr>\n",
       "      <th>1</th>\n",
       "      <td>Preston park</td>\n",
       "      <td>PA</td>\n",
       "    </tr>\n",
       "    <tr>\n",
       "      <th>2</th>\n",
       "      <td>Biglerville</td>\n",
       "      <td>PA</td>\n",
       "    </tr>\n",
       "    <tr>\n",
       "      <th>3</th>\n",
       "      <td>Indiana</td>\n",
       "      <td>PA</td>\n",
       "    </tr>\n",
       "    <tr>\n",
       "      <th>4</th>\n",
       "      <td>Curwensville</td>\n",
       "      <td>PA</td>\n",
       "    </tr>\n",
       "  </tbody>\n",
       "</table>\n",
       "</div>"
      ],
      "text/plain": [
       "           city state\n",
       "0       Manheim    PA\n",
       "1  Preston park    PA\n",
       "2   Biglerville    PA\n",
       "3       Indiana    PA\n",
       "4  Curwensville    PA"
      ]
     },
     "execution_count": 49,
     "metadata": {},
     "output_type": "execute_result"
    }
   ],
   "source": [
    "# Make a string with the value 'PA': state\n",
    "state = 'PA'\n",
    "cities = ['Manheim', 'Preston park', 'Biglerville', 'Indiana', 'Curwensville']\n",
    "\n",
    "data = {'state':state, 'city':cities}\n",
    "\n",
    "df = pd.DataFrame(data)\n",
    "\n",
    "df"
   ]
  },
  {
   "cell_type": "markdown",
   "metadata": {},
   "source": [
    "# Reading a flat file"
   ]
  },
  {
   "cell_type": "code",
   "execution_count": 50,
   "metadata": {
    "collapsed": false
   },
   "outputs": [
    {
     "data": {
      "text/html": [
       "<div>\n",
       "<table border=\"1\" class=\"dataframe\">\n",
       "  <thead>\n",
       "    <tr style=\"text-align: right;\">\n",
       "      <th></th>\n",
       "      <th>Year</th>\n",
       "      <th>Total Population</th>\n",
       "    </tr>\n",
       "  </thead>\n",
       "  <tbody>\n",
       "    <tr>\n",
       "      <th>0</th>\n",
       "      <td>1960</td>\n",
       "      <td>3.034971e+09</td>\n",
       "    </tr>\n",
       "    <tr>\n",
       "      <th>1</th>\n",
       "      <td>1970</td>\n",
       "      <td>3.684823e+09</td>\n",
       "    </tr>\n",
       "    <tr>\n",
       "      <th>2</th>\n",
       "      <td>1980</td>\n",
       "      <td>4.436590e+09</td>\n",
       "    </tr>\n",
       "    <tr>\n",
       "      <th>3</th>\n",
       "      <td>1990</td>\n",
       "      <td>5.282716e+09</td>\n",
       "    </tr>\n",
       "    <tr>\n",
       "      <th>4</th>\n",
       "      <td>2000</td>\n",
       "      <td>6.115974e+09</td>\n",
       "    </tr>\n",
       "    <tr>\n",
       "      <th>5</th>\n",
       "      <td>2010</td>\n",
       "      <td>6.924283e+09</td>\n",
       "    </tr>\n",
       "  </tbody>\n",
       "</table>\n",
       "</div>"
      ],
      "text/plain": [
       "   Year  Total Population\n",
       "0  1960      3.034971e+09\n",
       "1  1970      3.684823e+09\n",
       "2  1980      4.436590e+09\n",
       "3  1990      5.282716e+09\n",
       "4  2000      6.115974e+09\n",
       "5  2010      6.924283e+09"
      ]
     },
     "execution_count": 50,
     "metadata": {},
     "output_type": "execute_result"
    }
   ],
   "source": [
    "# Read in the file: df1\n",
    "df1 = pd.read_csv('data/world_population.csv')\n",
    "df1"
   ]
  },
  {
   "cell_type": "code",
   "execution_count": 51,
   "metadata": {
    "collapsed": false
   },
   "outputs": [
    {
     "data": {
      "text/html": [
       "<div>\n",
       "<table border=\"1\" class=\"dataframe\">\n",
       "  <thead>\n",
       "    <tr style=\"text-align: right;\">\n",
       "      <th></th>\n",
       "      <th>year</th>\n",
       "      <th>population</th>\n",
       "    </tr>\n",
       "  </thead>\n",
       "  <tbody>\n",
       "    <tr>\n",
       "      <th>0</th>\n",
       "      <td>Year</td>\n",
       "      <td>Total Population</td>\n",
       "    </tr>\n",
       "    <tr>\n",
       "      <th>1</th>\n",
       "      <td>1960</td>\n",
       "      <td>3.034971e+09</td>\n",
       "    </tr>\n",
       "    <tr>\n",
       "      <th>2</th>\n",
       "      <td>1970</td>\n",
       "      <td>3.684823e+09</td>\n",
       "    </tr>\n",
       "    <tr>\n",
       "      <th>3</th>\n",
       "      <td>1980</td>\n",
       "      <td>4.436590e+09</td>\n",
       "    </tr>\n",
       "    <tr>\n",
       "      <th>4</th>\n",
       "      <td>1990</td>\n",
       "      <td>5.282716e+09</td>\n",
       "    </tr>\n",
       "    <tr>\n",
       "      <th>5</th>\n",
       "      <td>2000</td>\n",
       "      <td>6.115974e+09</td>\n",
       "    </tr>\n",
       "    <tr>\n",
       "      <th>6</th>\n",
       "      <td>2010</td>\n",
       "      <td>6.924283e+09</td>\n",
       "    </tr>\n",
       "  </tbody>\n",
       "</table>\n",
       "</div>"
      ],
      "text/plain": [
       "   year        population\n",
       "0  Year  Total Population\n",
       "1  1960      3.034971e+09\n",
       "2  1970      3.684823e+09\n",
       "3  1980      4.436590e+09\n",
       "4  1990      5.282716e+09\n",
       "5  2000      6.115974e+09\n",
       "6  2010      6.924283e+09"
      ]
     },
     "execution_count": 51,
     "metadata": {},
     "output_type": "execute_result"
    }
   ],
   "source": [
    "new_labels = ['year', 'population']\n",
    "df2 = pd.read_csv('data/world_population.csv', names=new_labels)\n",
    "\n",
    "df2"
   ]
  },
  {
   "cell_type": "code",
   "execution_count": 52,
   "metadata": {
    "collapsed": false
   },
   "outputs": [
    {
     "data": {
      "text/html": [
       "<div>\n",
       "<table border=\"1\" class=\"dataframe\">\n",
       "  <thead>\n",
       "    <tr style=\"text-align: right;\">\n",
       "      <th></th>\n",
       "      <th>year</th>\n",
       "      <th>population</th>\n",
       "    </tr>\n",
       "  </thead>\n",
       "  <tbody>\n",
       "    <tr>\n",
       "      <th>0</th>\n",
       "      <td>1960</td>\n",
       "      <td>3.034971e+09</td>\n",
       "    </tr>\n",
       "    <tr>\n",
       "      <th>1</th>\n",
       "      <td>1970</td>\n",
       "      <td>3.684823e+09</td>\n",
       "    </tr>\n",
       "    <tr>\n",
       "      <th>2</th>\n",
       "      <td>1980</td>\n",
       "      <td>4.436590e+09</td>\n",
       "    </tr>\n",
       "    <tr>\n",
       "      <th>3</th>\n",
       "      <td>1990</td>\n",
       "      <td>5.282716e+09</td>\n",
       "    </tr>\n",
       "    <tr>\n",
       "      <th>4</th>\n",
       "      <td>2000</td>\n",
       "      <td>6.115974e+09</td>\n",
       "    </tr>\n",
       "    <tr>\n",
       "      <th>5</th>\n",
       "      <td>2010</td>\n",
       "      <td>6.924283e+09</td>\n",
       "    </tr>\n",
       "  </tbody>\n",
       "</table>\n",
       "</div>"
      ],
      "text/plain": [
       "   year    population\n",
       "0  1960  3.034971e+09\n",
       "1  1970  3.684823e+09\n",
       "2  1980  4.436590e+09\n",
       "3  1990  5.282716e+09\n",
       "4  2000  6.115974e+09\n",
       "5  2010  6.924283e+09"
      ]
     },
     "execution_count": 52,
     "metadata": {},
     "output_type": "execute_result"
    }
   ],
   "source": [
    "# header !=0 会将第一行标题也作为数据加载进来\n",
    "\n",
    "new_labels = ['year', 'population']\n",
    "df3 = pd.read_csv('data/world_population.csv', header=0, names=new_labels)\n",
    "\n",
    "df3"
   ]
  },
  {
   "cell_type": "markdown",
   "metadata": {},
   "source": [
    "# Delimiters headers and extensions"
   ]
  },
  {
   "cell_type": "code",
   "execution_count": 53,
   "metadata": {
    "collapsed": false
   },
   "outputs": [
    {
     "data": {
      "text/html": [
       "<div>\n",
       "<table border=\"1\" class=\"dataframe\">\n",
       "  <thead>\n",
       "    <tr style=\"text-align: right;\">\n",
       "      <th></th>\n",
       "      <th>The following stock data was collect on 2016-AUG-25 from an unknown source</th>\n",
       "    </tr>\n",
       "  </thead>\n",
       "  <tbody>\n",
       "    <tr>\n",
       "      <th>These kind of comments are not very useful</th>\n",
       "      <td>are they?</td>\n",
       "    </tr>\n",
       "    <tr>\n",
       "      <th>Probably should just throw this line away too</th>\n",
       "      <td>but not the next since those are column labels</td>\n",
       "    </tr>\n",
       "    <tr>\n",
       "      <th>name Jan Feb Mar Apr May Jun Jul Aug Sep Oct Nov Dec</th>\n",
       "      <td>NaN</td>\n",
       "    </tr>\n",
       "    <tr>\n",
       "      <th># So that line you just read has all the column headers labels</th>\n",
       "      <td>NaN</td>\n",
       "    </tr>\n",
       "    <tr>\n",
       "      <th>IBM 156.08 160.01 159.81 165.22 172.25 167.15 164.75 152.77 145.36 146.11 137.21 137.96</th>\n",
       "      <td>NaN</td>\n",
       "    </tr>\n",
       "  </tbody>\n",
       "</table>\n",
       "</div>"
      ],
      "text/plain": [
       "                                                   The following stock data was collect on 2016-AUG-25 from an unknown source\n",
       "These kind of comments are not very useful                                                  are they?                        \n",
       "Probably should just throw this line away too          but not the next since those are column labels                        \n",
       "name Jan Feb Mar Apr May Jun Jul Aug Sep Oct No...                                                NaN                        \n",
       "# So that line you just read has all the column...                                                NaN                        \n",
       "IBM 156.08 160.01 159.81 165.22 172.25 167.15 1...                                                NaN                        "
      ]
     },
     "execution_count": 53,
     "metadata": {},
     "output_type": "execute_result"
    }
   ],
   "source": [
    "df1 = pd.read_csv('data/finance.csv')\n",
    "df1.head()"
   ]
  },
  {
   "cell_type": "code",
   "execution_count": 54,
   "metadata": {
    "collapsed": false
   },
   "outputs": [
    {
     "data": {
      "text/html": [
       "<div>\n",
       "<table border=\"1\" class=\"dataframe\">\n",
       "  <thead>\n",
       "    <tr style=\"text-align: right;\">\n",
       "      <th></th>\n",
       "      <th>name</th>\n",
       "      <th>Jan</th>\n",
       "      <th>Feb</th>\n",
       "      <th>Mar</th>\n",
       "      <th>Apr</th>\n",
       "      <th>May</th>\n",
       "      <th>Jun</th>\n",
       "      <th>Jul</th>\n",
       "      <th>Aug</th>\n",
       "      <th>Sep</th>\n",
       "      <th>Oct</th>\n",
       "      <th>Nov</th>\n",
       "      <th>Dec</th>\n",
       "    </tr>\n",
       "  </thead>\n",
       "  <tbody>\n",
       "    <tr>\n",
       "      <th>0</th>\n",
       "      <td>IBM</td>\n",
       "      <td>156.08</td>\n",
       "      <td>160.01</td>\n",
       "      <td>159.81</td>\n",
       "      <td>165.22</td>\n",
       "      <td>172.25</td>\n",
       "      <td>167.15</td>\n",
       "      <td>164.75</td>\n",
       "      <td>152.77</td>\n",
       "      <td>145.36</td>\n",
       "      <td>146.11</td>\n",
       "      <td>137.21</td>\n",
       "      <td>137.96</td>\n",
       "    </tr>\n",
       "    <tr>\n",
       "      <th>1</th>\n",
       "      <td>MSFT</td>\n",
       "      <td>45.51</td>\n",
       "      <td>43.08</td>\n",
       "      <td>42.13</td>\n",
       "      <td>43.47</td>\n",
       "      <td>47.53</td>\n",
       "      <td>45.96</td>\n",
       "      <td>45.61</td>\n",
       "      <td>45.51</td>\n",
       "      <td>43.56</td>\n",
       "      <td>48.70</td>\n",
       "      <td>53.88</td>\n",
       "      <td>55.40</td>\n",
       "    </tr>\n",
       "    <tr>\n",
       "      <th>2</th>\n",
       "      <td>GOOGLE</td>\n",
       "      <td>512.42</td>\n",
       "      <td>537.99</td>\n",
       "      <td>559.72</td>\n",
       "      <td>540.50</td>\n",
       "      <td>535.24</td>\n",
       "      <td>532.92</td>\n",
       "      <td>590.09</td>\n",
       "      <td>636.84</td>\n",
       "      <td>617.93</td>\n",
       "      <td>663.59</td>\n",
       "      <td>735.39</td>\n",
       "      <td>755.35</td>\n",
       "    </tr>\n",
       "    <tr>\n",
       "      <th>3</th>\n",
       "      <td>APPLE</td>\n",
       "      <td>110.64</td>\n",
       "      <td>125.43</td>\n",
       "      <td>125.97</td>\n",
       "      <td>127.29</td>\n",
       "      <td>128.76</td>\n",
       "      <td>127.81</td>\n",
       "      <td>125.34</td>\n",
       "      <td>113.39</td>\n",
       "      <td>112.80</td>\n",
       "      <td>113.36</td>\n",
       "      <td>118.16</td>\n",
       "      <td>111.73</td>\n",
       "    </tr>\n",
       "  </tbody>\n",
       "</table>\n",
       "</div>"
      ],
      "text/plain": [
       "     name     Jan     Feb     Mar     Apr     May     Jun     Jul     Aug  \\\n",
       "0     IBM  156.08  160.01  159.81  165.22  172.25  167.15  164.75  152.77   \n",
       "1    MSFT   45.51   43.08   42.13   43.47   47.53   45.96   45.61   45.51   \n",
       "2  GOOGLE  512.42  537.99  559.72  540.50  535.24  532.92  590.09  636.84   \n",
       "3   APPLE  110.64  125.43  125.97  127.29  128.76  127.81  125.34  113.39   \n",
       "\n",
       "      Sep     Oct     Nov     Dec  \n",
       "0  145.36  146.11  137.21  137.96  \n",
       "1   43.56   48.70   53.88   55.40  \n",
       "2  617.93  663.59  735.39  755.35  \n",
       "3  112.80  113.36  118.16  111.73  "
      ]
     },
     "execution_count": 54,
     "metadata": {},
     "output_type": "execute_result"
    }
   ],
   "source": [
    "df2 = pd.read_csv('data/finance.csv', delimiter=' ', header=3, comment='#')\n",
    "\n",
    "df2"
   ]
  },
  {
   "cell_type": "markdown",
   "metadata": {},
   "source": [
    "# Plotting series using pandas"
   ]
  },
  {
   "cell_type": "code",
   "execution_count": 67,
   "metadata": {
    "collapsed": false
   },
   "outputs": [
    {
     "data": {
      "text/html": [
       "<div>\n",
       "<table border=\"1\" class=\"dataframe\">\n",
       "  <thead>\n",
       "    <tr style=\"text-align: right;\">\n",
       "      <th></th>\n",
       "      <th>0</th>\n",
       "    </tr>\n",
       "  </thead>\n",
       "  <tbody>\n",
       "    <tr>\n",
       "      <th>0</th>\n",
       "      <td>0.0</td>\n",
       "    </tr>\n",
       "    <tr>\n",
       "      <th>1</th>\n",
       "      <td>0.2</td>\n",
       "    </tr>\n",
       "    <tr>\n",
       "      <th>2</th>\n",
       "      <td>0.5</td>\n",
       "    </tr>\n",
       "    <tr>\n",
       "      <th>3</th>\n",
       "      <td>0.5</td>\n",
       "    </tr>\n",
       "    <tr>\n",
       "      <th>4</th>\n",
       "      <td>0.7</td>\n",
       "    </tr>\n",
       "  </tbody>\n",
       "</table>\n",
       "</div>"
      ],
      "text/plain": [
       "     0\n",
       "0  0.0\n",
       "1  0.2\n",
       "2  0.5\n",
       "3  0.5\n",
       "4  0.7"
      ]
     },
     "execution_count": 67,
     "metadata": {},
     "output_type": "execute_result"
    }
   ],
   "source": [
    "df = pd.read_csv('data/plot.csv', header=-1)\n",
    "df.head()"
   ]
  },
  {
   "cell_type": "code",
   "execution_count": 68,
   "metadata": {
    "collapsed": false
   },
   "outputs": [
    {
     "data": {
      "image/png": "[encoded data removed]",
      "text/plain": [
       "<matplotlib.figure.Figure at 0x1167d8950>"
      ]
     },
     "metadata": {},
     "output_type": "display_data"
    }
   ],
   "source": [
    "import matplotlib.pyplot as plt\n",
    "\n",
    "df.plot(color='red')\n",
    "\n",
    "# Add a title\n",
    "plt.title('Random variable')\n",
    "\n",
    "# Specify the x-axis label\n",
    "plt.xlabel('Num of Random variable')\n",
    "\n",
    "# Specify the y-axis label\n",
    "plt.ylabel('Value of Random variable')\n",
    "\n",
    "# Display the plot\n",
    "plt.show()"
   ]
  },
  {
   "cell_type": "markdown",
   "metadata": {},
   "source": [
    "# Plotting DataFrames"
   ]
  },
  {
   "cell_type": "code",
   "execution_count": 76,
   "metadata": {
    "collapsed": false
   },
   "outputs": [
    {
     "data": {
      "text/html": [
       "<div>\n",
       "<table border=\"1\" class=\"dataframe\">\n",
       "  <thead>\n",
       "    <tr style=\"text-align: right;\">\n",
       "      <th></th>\n",
       "      <th>Temperature (deg F)</th>\n",
       "      <th>Dew Point (deg F)</th>\n",
       "      <th>Pressure (atm)</th>\n",
       "    </tr>\n",
       "  </thead>\n",
       "  <tbody>\n",
       "    <tr>\n",
       "      <th>0</th>\n",
       "      <td>70.1</td>\n",
       "      <td>50.0</td>\n",
       "      <td>0.0</td>\n",
       "    </tr>\n",
       "    <tr>\n",
       "      <th>1</th>\n",
       "      <td>70.1</td>\n",
       "      <td>50.0</td>\n",
       "      <td>0.0</td>\n",
       "    </tr>\n",
       "    <tr>\n",
       "      <th>2</th>\n",
       "      <td>70.2</td>\n",
       "      <td>50.1</td>\n",
       "      <td>0.0</td>\n",
       "    </tr>\n",
       "    <tr>\n",
       "      <th>3</th>\n",
       "      <td>70.2</td>\n",
       "      <td>50.1</td>\n",
       "      <td>0.0</td>\n",
       "    </tr>\n",
       "    <tr>\n",
       "      <th>4</th>\n",
       "      <td>70.2</td>\n",
       "      <td>50.1</td>\n",
       "      <td>0.0</td>\n",
       "    </tr>\n",
       "  </tbody>\n",
       "</table>\n",
       "</div>"
      ],
      "text/plain": [
       "   Temperature (deg F)  Dew Point (deg F)  Pressure (atm)\n",
       "0                 70.1               50.0             0.0\n",
       "1                 70.1               50.0             0.0\n",
       "2                 70.2               50.1             0.0\n",
       "3                 70.2               50.1             0.0\n",
       "4                 70.2               50.1             0.0"
      ]
     },
     "execution_count": 76,
     "metadata": {},
     "output_type": "execute_result"
    }
   ],
   "source": [
    "df = pd.read_csv('data/temperature.csv', header=0)\n",
    "\n",
    "df.head()"
   ]
  },
  {
   "cell_type": "code",
   "execution_count": 77,
   "metadata": {
    "collapsed": false
   },
   "outputs": [
    {
     "data": {
      "image/png": "[encoded data removed]",
      "text/plain": [
       "<matplotlib.figure.Figure at 0x11787dd50>"
      ]
     },
     "metadata": {},
     "output_type": "display_data"
    }
   ],
   "source": [
    "df.plot()\n",
    "plt.show()"
   ]
  },
  {
   "cell_type": "code",
   "execution_count": 80,
   "metadata": {
    "collapsed": false
   },
   "outputs": [
    {
     "data": {
      "image/png": "[encoded data removed]",
      "text/plain": [
       "<matplotlib.figure.Figure at 0x117558510>"
      ]
     },
     "metadata": {},
     "output_type": "display_data"
    }
   ],
   "source": [
    "df.plot(subplots=True)\n",
    "plt.show()"
   ]
  },
  {
   "cell_type": "code",
   "execution_count": 82,
   "metadata": {
    "collapsed": false
   },
   "outputs": [
    {
     "data": {
      "image/png": "[encoded data removed]",
      "text/plain": [
       "<matplotlib.figure.Figure at 0x116633210>"
      ]
     },
     "metadata": {},
     "output_type": "display_data"
    }
   ],
   "source": [
    "df[['Dew Point (deg F)']].plot()\n",
    "plt.show()"
   ]
  },
  {
   "cell_type": "code",
   "execution_count": 83,
   "metadata": {
    "collapsed": false
   },
   "outputs": [
    {
     "data": {
      "image/png": "[encoded data removed]",
      "text/plain": [
       "<matplotlib.figure.Figure at 0x1044e9390>"
      ]
     },
     "metadata": {},
     "output_type": "display_data"
    }
   ],
   "source": [
    "df[ ['Temperature (deg F)','Dew Point (deg F)']].plot()\n",
    "plt.show()"
   ]
  }
 ],
 "metadata": {
  "anaconda-cloud": {},
  "kernelspec": {
   "display_name": "Python [default]",
   "language": "python",
   "name": "python2"
  },
  "language_info": {
   "codemirror_mode": {
    "name": "ipython",
    "version": 2
   },
   "file_extension": ".py",
   "mimetype": "text/x-python",
   "name": "python",
   "nbconvert_exporter": "python",
   "pygments_lexer": "ipython2",
   "version": "2.7.12"
  }
 },
 "nbformat": 4,
 "nbformat_minor": 1
}

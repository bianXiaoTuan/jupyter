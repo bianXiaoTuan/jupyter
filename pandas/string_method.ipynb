{
 "cells": [
  {
   "cell_type": "code",
   "execution_count": 1,
   "metadata": {
    "collapsed": true
   },
   "outputs": [],
   "source": [
    "import numpy as np\n",
    "import pandas as pd"
   ]
  },
  {
   "cell_type": "code",
   "execution_count": 2,
   "metadata": {
    "collapsed": false
   },
   "outputs": [
    {
     "data": {
      "text/html": [
       "<div>\n",
       "<table border=\"1\" class=\"dataframe\">\n",
       "  <thead>\n",
       "    <tr style=\"text-align: right;\">\n",
       "      <th></th>\n",
       "      <th>mpg</th>\n",
       "      <th>cyl</th>\n",
       "      <th>displ</th>\n",
       "      <th>hp</th>\n",
       "      <th>weight</th>\n",
       "      <th>accel</th>\n",
       "      <th>yr</th>\n",
       "      <th>origin</th>\n",
       "      <th>name</th>\n",
       "    </tr>\n",
       "  </thead>\n",
       "  <tbody>\n",
       "    <tr>\n",
       "      <th>0</th>\n",
       "      <td>18.0</td>\n",
       "      <td>8</td>\n",
       "      <td>307.0</td>\n",
       "      <td>130.0</td>\n",
       "      <td>3504</td>\n",
       "      <td>12.0</td>\n",
       "      <td>70</td>\n",
       "      <td>1</td>\n",
       "      <td>chevrolet chevelle malibu</td>\n",
       "    </tr>\n",
       "    <tr>\n",
       "      <th>1</th>\n",
       "      <td>15.0</td>\n",
       "      <td>8</td>\n",
       "      <td>350.0</td>\n",
       "      <td>165.0</td>\n",
       "      <td>3693</td>\n",
       "      <td>11.5</td>\n",
       "      <td>70</td>\n",
       "      <td>1</td>\n",
       "      <td>buick skylark 320</td>\n",
       "    </tr>\n",
       "    <tr>\n",
       "      <th>2</th>\n",
       "      <td>18.0</td>\n",
       "      <td>8</td>\n",
       "      <td>318.0</td>\n",
       "      <td>150.0</td>\n",
       "      <td>3436</td>\n",
       "      <td>11.0</td>\n",
       "      <td>70</td>\n",
       "      <td>1</td>\n",
       "      <td>plymouth satellite</td>\n",
       "    </tr>\n",
       "    <tr>\n",
       "      <th>3</th>\n",
       "      <td>16.0</td>\n",
       "      <td>8</td>\n",
       "      <td>304.0</td>\n",
       "      <td>150.0</td>\n",
       "      <td>3433</td>\n",
       "      <td>12.0</td>\n",
       "      <td>70</td>\n",
       "      <td>1</td>\n",
       "      <td>amc rebel sst</td>\n",
       "    </tr>\n",
       "    <tr>\n",
       "      <th>4</th>\n",
       "      <td>17.0</td>\n",
       "      <td>8</td>\n",
       "      <td>302.0</td>\n",
       "      <td>140.0</td>\n",
       "      <td>3449</td>\n",
       "      <td>10.5</td>\n",
       "      <td>70</td>\n",
       "      <td>1</td>\n",
       "      <td>ford torino</td>\n",
       "    </tr>\n",
       "  </tbody>\n",
       "</table>\n",
       "</div>"
      ],
      "text/plain": [
       "    mpg  cyl  displ     hp  weight  accel  yr  origin  \\\n",
       "0  18.0    8  307.0  130.0    3504   12.0  70       1   \n",
       "1  15.0    8  350.0  165.0    3693   11.5  70       1   \n",
       "2  18.0    8  318.0  150.0    3436   11.0  70       1   \n",
       "3  16.0    8  304.0  150.0    3433   12.0  70       1   \n",
       "4  17.0    8  302.0  140.0    3449   10.5  70       1   \n",
       "\n",
       "                        name  \n",
       "0  chevrolet chevelle malibu  \n",
       "1          buick skylark 320  \n",
       "2         plymouth satellite  \n",
       "3              amc rebel sst  \n",
       "4                ford torino  "
      ]
     },
     "execution_count": 2,
     "metadata": {},
     "output_type": "execute_result"
    }
   ],
   "source": [
    "df = pd.read_csv('data/automobiles.csv')\n",
    "df.head()"
   ]
  },
  {
   "cell_type": "code",
   "execution_count": 3,
   "metadata": {
    "collapsed": false
   },
   "outputs": [
    {
     "data": {
      "text/plain": [
       "0              CHEVROLET CHEVELLE MALIBU\n",
       "1                      BUICK SKYLARK 320\n",
       "2                     PLYMOUTH SATELLITE\n",
       "3                          AMC REBEL SST\n",
       "4                            FORD TORINO\n",
       "5                       FORD GALAXIE 500\n",
       "6                       CHEVROLET IMPALA\n",
       "7                      PLYMOUTH FURY III\n",
       "8                       PONTIAC CATALINA\n",
       "9                     AMC AMBASSADOR DPL\n",
       "10                   DODGE CHALLENGER SE\n",
       "11                    PLYMOUTH 'CUDA 340\n",
       "12                 CHEVROLET MONTE CARLO\n",
       "13               BUICK ESTATE WAGON (SW)\n",
       "14                 TOYOTA CORONA MARK II\n",
       "15                       PLYMOUTH DUSTER\n",
       "16                            AMC HORNET\n",
       "17                         FORD MAVERICK\n",
       "18                          DATSUN PL510\n",
       "19          VOLKSWAGEN 1131 DELUXE SEDAN\n",
       "20                           PEUGEOT 504\n",
       "21                           AUDI 100 LS\n",
       "22                              SAAB 99E\n",
       "23                              BMW 2002\n",
       "24                           AMC GREMLIN\n",
       "25                             FORD F250\n",
       "26                             CHEVY C20\n",
       "27                            DODGE D200\n",
       "28                          DATSUN PL510\n",
       "29                   CHEVROLET VEGA 2300\n",
       "                     ...                \n",
       "167                        PONTIAC ASTRO\n",
       "168                        TOYOTA CORONA\n",
       "169                    VOLKSWAGEN DASHER\n",
       "170                           DATSUN 710\n",
       "171                           FORD PINTO\n",
       "172                    VOLKSWAGEN RABBIT\n",
       "173                            AMC PACER\n",
       "174                           AUDI 100LS\n",
       "175                          PEUGEOT 504\n",
       "176                          VOLVO 244DL\n",
       "177                            SAAB 99LE\n",
       "178                     HONDA CIVIC CVCC\n",
       "179                             FIAT 131\n",
       "180                            OPEL 1900\n",
       "181                             CAPRI II\n",
       "182                           DODGE COLT\n",
       "183                         RENAULT 12TL\n",
       "184    CHEVROLET CHEVELLE MALIBU CLASSIC\n",
       "185               DODGE CORONET BROUGHAM\n",
       "186                          AMC MATADOR\n",
       "187                     FORD GRAN TORINO\n",
       "188                     PLYMOUTH VALIANT\n",
       "189                       CHEVROLET NOVA\n",
       "190                        FORD MAVERICK\n",
       "191                           AMC HORNET\n",
       "192                   CHEVROLET CHEVETTE\n",
       "193                      CHEVROLET WOODY\n",
       "194                            VW RABBIT\n",
       "195                          HONDA CIVIC\n",
       "196                       DODGE ASPEN SE\n",
       "Name: name, dtype: object"
      ]
     },
     "execution_count": 3,
     "metadata": {},
     "output_type": "execute_result"
    }
   ],
   "source": [
    "df['name'].str.upper()"
   ]
  },
  {
   "cell_type": "code",
   "execution_count": 6,
   "metadata": {
    "collapsed": false
   },
   "outputs": [
    {
     "data": {
      "text/plain": [
       "0      False\n",
       "1      False\n",
       "2       True\n",
       "3      False\n",
       "4      False\n",
       "5      False\n",
       "6      False\n",
       "7       True\n",
       "8      False\n",
       "9      False\n",
       "10     False\n",
       "11      True\n",
       "12     False\n",
       "13     False\n",
       "14     False\n",
       "15      True\n",
       "16     False\n",
       "17     False\n",
       "18     False\n",
       "19     False\n",
       "20     False\n",
       "21     False\n",
       "22     False\n",
       "23     False\n",
       "24     False\n",
       "25     False\n",
       "26     False\n",
       "27     False\n",
       "28     False\n",
       "29     False\n",
       "       ...  \n",
       "167    False\n",
       "168    False\n",
       "169    False\n",
       "170    False\n",
       "171    False\n",
       "172    False\n",
       "173    False\n",
       "174    False\n",
       "175    False\n",
       "176    False\n",
       "177    False\n",
       "178    False\n",
       "179    False\n",
       "180    False\n",
       "181    False\n",
       "182    False\n",
       "183    False\n",
       "184    False\n",
       "185    False\n",
       "186    False\n",
       "187    False\n",
       "188     True\n",
       "189    False\n",
       "190    False\n",
       "191    False\n",
       "192    False\n",
       "193    False\n",
       "194    False\n",
       "195    False\n",
       "196    False\n",
       "Name: name, dtype: bool"
      ]
     },
     "execution_count": 6,
     "metadata": {},
     "output_type": "execute_result"
    }
   ],
   "source": [
    "df['name'].str.contains('plymouth')"
   ]
  },
  {
   "cell_type": "code",
   "execution_count": 7,
   "metadata": {
    "collapsed": false
   },
   "outputs": [
    {
     "data": {
      "text/plain": [
       "19"
      ]
     },
     "execution_count": 7,
     "metadata": {},
     "output_type": "execute_result"
    }
   ],
   "source": [
    "df['name'].str.contains('plymouth').sum()"
   ]
  }
 ],
 "metadata": {
  "anaconda-cloud": {},
  "kernelspec": {
   "display_name": "Python [default]",
   "language": "python",
   "name": "python2"
  },
  "language_info": {
   "codemirror_mode": {
    "name": "ipython",
    "version": 2
   },
   "file_extension": ".py",
   "mimetype": "text/x-python",
   "name": "python",
   "nbconvert_exporter": "python",
   "pygments_lexer": "ipython2",
   "version": "2.7.12"
  }
 },
 "nbformat": 4,
 "nbformat_minor": 1
}

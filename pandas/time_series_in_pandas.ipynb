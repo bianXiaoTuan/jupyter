{
 "cells": [
  {
   "cell_type": "markdown",
   "metadata": {},
   "source": [
    "# Indexing pandas time series"
   ]
  },
  {
   "cell_type": "code",
   "execution_count": 2,
   "metadata": {
    "collapsed": false
   },
   "outputs": [],
   "source": [
    "import numpy as np\n",
    "import pandas as pd\n",
    "import matplotlib.pyplot as plt"
   ]
  },
  {
   "cell_type": "markdown",
   "metadata": {},
   "source": [
    "# Readning and slicing times"
   ]
  },
  {
   "cell_type": "code",
   "execution_count": 11,
   "metadata": {
    "collapsed": false
   },
   "outputs": [
    {
     "data": {
      "text/html": [
       "<div>\n",
       "<table border=\"1\" class=\"dataframe\">\n",
       "  <thead>\n",
       "    <tr style=\"text-align: right;\">\n",
       "      <th></th>\n",
       "      <th>Temperature (deg F)</th>\n",
       "      <th>Dew Point (deg F)</th>\n",
       "      <th>Pressure (atm)</th>\n",
       "      <th>Date</th>\n",
       "    </tr>\n",
       "  </thead>\n",
       "  <tbody>\n",
       "    <tr>\n",
       "      <th>0</th>\n",
       "      <td>70.1</td>\n",
       "      <td>50.0</td>\n",
       "      <td>0.0</td>\n",
       "      <td>2014-01-01 00:00:00</td>\n",
       "    </tr>\n",
       "    <tr>\n",
       "      <th>1</th>\n",
       "      <td>70.1</td>\n",
       "      <td>50.0</td>\n",
       "      <td>0.0</td>\n",
       "      <td>2014-01-01 01:00:00</td>\n",
       "    </tr>\n",
       "    <tr>\n",
       "      <th>2</th>\n",
       "      <td>70.2</td>\n",
       "      <td>50.1</td>\n",
       "      <td>0.0</td>\n",
       "      <td>2014-01-01 02:00:00</td>\n",
       "    </tr>\n",
       "    <tr>\n",
       "      <th>3</th>\n",
       "      <td>70.2</td>\n",
       "      <td>50.1</td>\n",
       "      <td>0.0</td>\n",
       "      <td>2014-01-01 03:00:00</td>\n",
       "    </tr>\n",
       "    <tr>\n",
       "      <th>4</th>\n",
       "      <td>70.2</td>\n",
       "      <td>50.1</td>\n",
       "      <td>0.0</td>\n",
       "      <td>2014-01-01 04:00:00</td>\n",
       "    </tr>\n",
       "  </tbody>\n",
       "</table>\n",
       "</div>"
      ],
      "text/plain": [
       "   Temperature (deg F)  Dew Point (deg F)  Pressure (atm)                 Date\n",
       "0                 70.1               50.0             0.0  2014-01-01 00:00:00\n",
       "1                 70.1               50.0             0.0  2014-01-01 01:00:00\n",
       "2                 70.2               50.1             0.0  2014-01-01 02:00:00\n",
       "3                 70.2               50.1             0.0  2014-01-01 03:00:00\n",
       "4                 70.2               50.1             0.0  2014-01-01 04:00:00"
      ]
     },
     "execution_count": 11,
     "metadata": {},
     "output_type": "execute_result"
    }
   ],
   "source": [
    "df = pd.read_csv('data/temperature_with_date.csv')\n",
    "df.head()"
   ]
  },
  {
   "cell_type": "code",
   "execution_count": 12,
   "metadata": {
    "collapsed": false
   },
   "outputs": [
    {
     "data": {
      "text/html": [
       "<div>\n",
       "<table border=\"1\" class=\"dataframe\">\n",
       "  <thead>\n",
       "    <tr style=\"text-align: right;\">\n",
       "      <th></th>\n",
       "      <th>Temperature (deg F)</th>\n",
       "      <th>Dew Point (deg F)</th>\n",
       "      <th>Pressure (atm)</th>\n",
       "    </tr>\n",
       "    <tr>\n",
       "      <th>Date</th>\n",
       "      <th></th>\n",
       "      <th></th>\n",
       "      <th></th>\n",
       "    </tr>\n",
       "  </thead>\n",
       "  <tbody>\n",
       "    <tr>\n",
       "      <th>2014-01-01 00:00:00</th>\n",
       "      <td>70.1</td>\n",
       "      <td>50.0</td>\n",
       "      <td>0.0</td>\n",
       "    </tr>\n",
       "    <tr>\n",
       "      <th>2014-01-01 01:00:00</th>\n",
       "      <td>70.1</td>\n",
       "      <td>50.0</td>\n",
       "      <td>0.0</td>\n",
       "    </tr>\n",
       "    <tr>\n",
       "      <th>2014-01-01 02:00:00</th>\n",
       "      <td>70.2</td>\n",
       "      <td>50.1</td>\n",
       "      <td>0.0</td>\n",
       "    </tr>\n",
       "    <tr>\n",
       "      <th>2014-01-01 03:00:00</th>\n",
       "      <td>70.2</td>\n",
       "      <td>50.1</td>\n",
       "      <td>0.0</td>\n",
       "    </tr>\n",
       "    <tr>\n",
       "      <th>2014-01-01 04:00:00</th>\n",
       "      <td>70.2</td>\n",
       "      <td>50.1</td>\n",
       "      <td>0.0</td>\n",
       "    </tr>\n",
       "  </tbody>\n",
       "</table>\n",
       "</div>"
      ],
      "text/plain": [
       "                     Temperature (deg F)  Dew Point (deg F)  Pressure (atm)\n",
       "Date                                                                       \n",
       "2014-01-01 00:00:00                 70.1               50.0             0.0\n",
       "2014-01-01 01:00:00                 70.1               50.0             0.0\n",
       "2014-01-01 02:00:00                 70.2               50.1             0.0\n",
       "2014-01-01 03:00:00                 70.2               50.1             0.0\n",
       "2014-01-01 04:00:00                 70.2               50.1             0.0"
      ]
     },
     "execution_count": 12,
     "metadata": {},
     "output_type": "execute_result"
    }
   ],
   "source": [
    "df = pd.read_csv('data/temperature_with_date.csv', index_col='Date', parse_dates=True)\n",
    "df.head()"
   ]
  },
  {
   "cell_type": "code",
   "execution_count": 14,
   "metadata": {
    "collapsed": false
   },
   "outputs": [
    {
     "data": {
      "text/plain": [
       "Temperature (deg F)    70.1\n",
       "Dew Point (deg F)      50.0\n",
       "Pressure (atm)          0.0\n",
       "Name: 2014-01-01 01:00:00, dtype: float64"
      ]
     },
     "execution_count": 14,
     "metadata": {},
     "output_type": "execute_result"
    }
   ],
   "source": [
    "df.loc['2014-01-01 01:00:00']"
   ]
  },
  {
   "cell_type": "markdown",
   "metadata": {},
   "source": [
    "# Creating and using a DatetimeIndex"
   ]
  },
  {
   "cell_type": "code",
   "execution_count": 34,
   "metadata": {
    "collapsed": false
   },
   "outputs": [
    {
     "data": {
      "text/plain": [
       "['20140101 00:00',\n",
       " '20140101 01:00',\n",
       " '20140101 02:00',\n",
       " '20140101 03:00',\n",
       " '20140101 04:00']"
      ]
     },
     "execution_count": 34,
     "metadata": {},
     "output_type": "execute_result"
    }
   ],
   "source": [
    "from datetime import datetime\n",
    "\n",
    "# 构建奇葩的time series\n",
    "dates = pd.date_range('2014-01-01 00:00:00', periods=100, freq='1H')\n",
    "dates = [date.strftime('%Y%m%d %H:%M') for date in dates]\n",
    "dates[0:5]"
   ]
  },
  {
   "cell_type": "code",
   "execution_count": 40,
   "metadata": {
    "collapsed": false
   },
   "outputs": [
    {
     "data": {
      "text/plain": [
       "DatetimeIndex(['2014-01-01 00:00:00', '2014-01-01 01:00:00',\n",
       "               '2014-01-01 02:00:00', '2014-01-01 03:00:00',\n",
       "               '2014-01-01 04:00:00'],\n",
       "              dtype='datetime64[ns]', freq=None)"
      ]
     },
     "execution_count": 40,
     "metadata": {},
     "output_type": "execute_result"
    }
   ],
   "source": [
    "# 转成格式化的DatetimeIndex\n",
    "datetimes = pd.to_datetime(dates, format='%Y-%m-%d %H:%M:%S')\n",
    "datetimes[0:5]"
   ]
  },
  {
   "cell_type": "code",
   "execution_count": 43,
   "metadata": {
    "collapsed": false
   },
   "outputs": [
    {
     "data": {
      "text/plain": [
       "2014-01-01 00:00:00    1.179114\n",
       "2014-01-01 01:00:00    1.144815\n",
       "2014-01-01 02:00:00   -0.139964\n",
       "2014-01-01 03:00:00    0.394016\n",
       "2014-01-01 04:00:00    1.326695\n",
       "dtype: float64"
      ]
     },
     "execution_count": 43,
     "metadata": {},
     "output_type": "execute_result"
    }
   ],
   "source": [
    "# 以DatetimeInde为索引构建Series\n",
    "series = pd.Series(np.random.randn(100), index = datetimes)\n",
    "series.head()"
   ]
  },
  {
   "cell_type": "markdown",
   "metadata": {},
   "source": [
    "# Partial string indexing and slicing"
   ]
  },
  {
   "cell_type": "code",
   "execution_count": 45,
   "metadata": {
    "collapsed": false
   },
   "outputs": [
    {
     "data": {
      "text/plain": [
       "2014-01-01 00:00:00    1.179114\n",
       "2014-01-01 01:00:00    1.144815\n",
       "2014-01-01 02:00:00   -0.139964\n",
       "2014-01-01 03:00:00    0.394016\n",
       "2014-01-01 04:00:00    1.326695\n",
       "dtype: float64"
      ]
     },
     "execution_count": 45,
     "metadata": {},
     "output_type": "execute_result"
    }
   ],
   "source": [
    "series.head()"
   ]
  },
  {
   "cell_type": "code",
   "execution_count": 47,
   "metadata": {
    "collapsed": false
   },
   "outputs": [
    {
     "data": {
      "text/plain": [
       "-0.13996423306414421"
      ]
     },
     "execution_count": 47,
     "metadata": {},
     "output_type": "execute_result"
    }
   ],
   "source": [
    "series.loc['2014-01-01 02:00:00']"
   ]
  },
  {
   "cell_type": "code",
   "execution_count": 48,
   "metadata": {
    "collapsed": false
   },
   "outputs": [
    {
     "data": {
      "text/plain": [
       "2014-01-01 00:00:00    1.179114\n",
       "2014-01-01 01:00:00    1.144815\n",
       "2014-01-01 02:00:00   -0.139964\n",
       "2014-01-01 03:00:00    0.394016\n",
       "2014-01-01 04:00:00    1.326695\n",
       "2014-01-01 05:00:00    0.846242\n",
       "2014-01-01 06:00:00   -0.284385\n",
       "2014-01-01 07:00:00    0.132625\n",
       "2014-01-01 08:00:00   -1.489304\n",
       "2014-01-01 09:00:00    0.845247\n",
       "2014-01-01 10:00:00   -0.190809\n",
       "2014-01-01 11:00:00   -0.052209\n",
       "2014-01-01 12:00:00    1.838720\n",
       "2014-01-01 13:00:00   -0.726570\n",
       "2014-01-01 14:00:00    1.089657\n",
       "2014-01-01 15:00:00   -2.598899\n",
       "2014-01-01 16:00:00   -0.752987\n",
       "2014-01-01 17:00:00    0.432658\n",
       "2014-01-01 18:00:00   -2.153558\n",
       "2014-01-01 19:00:00   -1.261777\n",
       "2014-01-01 20:00:00   -0.054899\n",
       "2014-01-01 21:00:00    1.733527\n",
       "2014-01-01 22:00:00    0.288773\n",
       "2014-01-01 23:00:00   -0.865243\n",
       "dtype: float64"
      ]
     },
     "execution_count": 48,
     "metadata": {},
     "output_type": "execute_result"
    }
   ],
   "source": [
    "series.loc['2014-01-01']"
   ]
  },
  {
   "cell_type": "code",
   "execution_count": 49,
   "metadata": {
    "collapsed": false
   },
   "outputs": [
    {
     "data": {
      "text/plain": [
       "2014-01-01 01:00:00    1.144815\n",
       "2014-01-01 02:00:00   -0.139964\n",
       "2014-01-01 03:00:00    0.394016\n",
       "2014-01-01 04:00:00    1.326695\n",
       "2014-01-01 05:00:00    0.846242\n",
       "dtype: float64"
      ]
     },
     "execution_count": 49,
     "metadata": {},
     "output_type": "execute_result"
    }
   ],
   "source": [
    "series.loc['2014-01-01 01:00:00':'2014-01-01 05:00:00']"
   ]
  },
  {
   "cell_type": "markdown",
   "metadata": {},
   "source": []
  },
  {
   "cell_type": "markdown",
   "metadata": {},
   "source": [
    "# Reindexing the Index"
   ]
  },
  {
   "cell_type": "markdown",
   "metadata": {},
   "source": [
    "* Reindexing is useful in preparation for adding or otherwise combining two time series data sets. \n",
    "* To reindex the data, we provide a new index and ask pandas to try and match the old data to the new index. \n",
    "* If data is unavailble for one of the new index dates or times, you must tell pandas how to fill it in. \n",
    "* Otherwise, pandas will fill with NaN by default."
   ]
  },
  {
   "cell_type": "code",
   "execution_count": 56,
   "metadata": {
    "collapsed": false
   },
   "outputs": [
    {
     "data": {
      "text/plain": [
       "2016-07-01     0\n",
       "2016-07-02     1\n",
       "2016-07-03     2\n",
       "2016-07-04     3\n",
       "2016-07-05     4\n",
       "2016-07-06     5\n",
       "2016-07-07     6\n",
       "2016-07-08     7\n",
       "2016-07-09     8\n",
       "2016-07-10     9\n",
       "2016-07-11    10\n",
       "2016-07-12    11\n",
       "2016-07-13    12\n",
       "2016-07-14    13\n",
       "2016-07-15    14\n",
       "2016-07-16    15\n",
       "2016-07-17    16\n",
       "2016-07-18    17\n",
       "2016-07-19    18\n",
       "2016-07-20    19\n",
       "Freq: D, dtype: int64"
      ]
     },
     "execution_count": 56,
     "metadata": {},
     "output_type": "execute_result"
    }
   ],
   "source": [
    "ts1 = pd.date_range('2016-07-01', periods=20)\n",
    "ts1 = pd.Series(range(20), index = ts1)\n",
    "ts1"
   ]
  },
  {
   "cell_type": "code",
   "execution_count": 57,
   "metadata": {
    "collapsed": false
   },
   "outputs": [
    {
     "data": {
      "text/plain": [
       "2016-07-11     0\n",
       "2016-07-12     1\n",
       "2016-07-13     2\n",
       "2016-07-14     3\n",
       "2016-07-15     4\n",
       "2016-07-16     5\n",
       "2016-07-17     6\n",
       "2016-07-18     7\n",
       "2016-07-19     8\n",
       "2016-07-20     9\n",
       "2016-07-21    10\n",
       "2016-07-22    11\n",
       "2016-07-23    12\n",
       "2016-07-24    13\n",
       "2016-07-25    14\n",
       "2016-07-26    15\n",
       "2016-07-27    16\n",
       "2016-07-28    17\n",
       "2016-07-29    18\n",
       "2016-07-30    19\n",
       "Freq: D, dtype: int64"
      ]
     },
     "execution_count": 57,
     "metadata": {},
     "output_type": "execute_result"
    }
   ],
   "source": [
    "ts2 = pd.date_range('2016-07-11', periods=20)\n",
    "ts2 = pd.Series(range(20), index = ts2)\n",
    "ts2"
   ]
  },
  {
   "cell_type": "code",
   "execution_count": 59,
   "metadata": {
    "collapsed": false
   },
   "outputs": [
    {
     "data": {
      "text/plain": [
       "2016-07-01    NaN\n",
       "2016-07-02    NaN\n",
       "2016-07-03    NaN\n",
       "2016-07-04    NaN\n",
       "2016-07-05    NaN\n",
       "2016-07-06    NaN\n",
       "2016-07-07    NaN\n",
       "2016-07-08    NaN\n",
       "2016-07-09    NaN\n",
       "2016-07-10    NaN\n",
       "2016-07-11    0.0\n",
       "2016-07-12    1.0\n",
       "2016-07-13    2.0\n",
       "2016-07-14    3.0\n",
       "2016-07-15    4.0\n",
       "2016-07-16    5.0\n",
       "2016-07-17    6.0\n",
       "2016-07-18    7.0\n",
       "2016-07-19    8.0\n",
       "2016-07-20    9.0\n",
       "Freq: D, dtype: float64"
      ]
     },
     "execution_count": 59,
     "metadata": {},
     "output_type": "execute_result"
    }
   ],
   "source": [
    "# 创建一个新的index，用ts1的来匹配ts2\n",
    "ts3 = ts2.reindex(ts1.index)\n",
    "ts3"
   ]
  },
  {
   "cell_type": "code",
   "execution_count": 60,
   "metadata": {
    "collapsed": false
   },
   "outputs": [
    {
     "data": {
      "text/plain": [
       "2016-07-01    NaN\n",
       "2016-07-02    NaN\n",
       "2016-07-03    NaN\n",
       "2016-07-04    NaN\n",
       "2016-07-05    NaN\n",
       "2016-07-06    NaN\n",
       "2016-07-07    NaN\n",
       "2016-07-08    NaN\n",
       "2016-07-09    NaN\n",
       "2016-07-10    NaN\n",
       "2016-07-11    0.0\n",
       "2016-07-12    1.0\n",
       "2016-07-13    2.0\n",
       "2016-07-14    3.0\n",
       "2016-07-15    4.0\n",
       "2016-07-16    5.0\n",
       "2016-07-17    6.0\n",
       "2016-07-18    7.0\n",
       "2016-07-19    8.0\n",
       "2016-07-20    9.0\n",
       "Freq: D, dtype: float64"
      ]
     },
     "execution_count": 60,
     "metadata": {},
     "output_type": "execute_result"
    }
   ],
   "source": [
    "ts4 = ts2.reindex(ts1.index, method = 'ffill')\n",
    "ts4"
   ]
  },
  {
   "cell_type": "code",
   "execution_count": 61,
   "metadata": {
    "collapsed": false
   },
   "outputs": [
    {
     "data": {
      "text/plain": [
       "2016-07-01    0\n",
       "2016-07-02    0\n",
       "2016-07-03    0\n",
       "2016-07-04    0\n",
       "2016-07-05    0\n",
       "2016-07-06    0\n",
       "2016-07-07    0\n",
       "2016-07-08    0\n",
       "2016-07-09    0\n",
       "2016-07-10    0\n",
       "2016-07-11    0\n",
       "2016-07-12    1\n",
       "2016-07-13    2\n",
       "2016-07-14    3\n",
       "2016-07-15    4\n",
       "2016-07-16    5\n",
       "2016-07-17    6\n",
       "2016-07-18    7\n",
       "2016-07-19    8\n",
       "2016-07-20    9\n",
       "Freq: D, dtype: int64"
      ]
     },
     "execution_count": 61,
     "metadata": {},
     "output_type": "execute_result"
    }
   ],
   "source": [
    "ts5 = ts2.reindex(ts1.index, method = 'bfill')\n",
    "ts5"
   ]
  },
  {
   "cell_type": "code",
   "execution_count": 62,
   "metadata": {
    "collapsed": false
   },
   "outputs": [
    {
     "data": {
      "text/plain": [
       "2016-07-01     NaN\n",
       "2016-07-02     NaN\n",
       "2016-07-03     NaN\n",
       "2016-07-04     NaN\n",
       "2016-07-05     NaN\n",
       "2016-07-06     NaN\n",
       "2016-07-07     NaN\n",
       "2016-07-08     NaN\n",
       "2016-07-09     NaN\n",
       "2016-07-10     NaN\n",
       "2016-07-11    10.0\n",
       "2016-07-12    12.0\n",
       "2016-07-13    14.0\n",
       "2016-07-14    16.0\n",
       "2016-07-15    18.0\n",
       "2016-07-16    20.0\n",
       "2016-07-17    22.0\n",
       "2016-07-18    24.0\n",
       "2016-07-19    26.0\n",
       "2016-07-20    28.0\n",
       "2016-07-21     NaN\n",
       "2016-07-22     NaN\n",
       "2016-07-23     NaN\n",
       "2016-07-24     NaN\n",
       "2016-07-25     NaN\n",
       "2016-07-26     NaN\n",
       "2016-07-27     NaN\n",
       "2016-07-28     NaN\n",
       "2016-07-29     NaN\n",
       "2016-07-30     NaN\n",
       "Freq: D, dtype: float64"
      ]
     },
     "execution_count": 62,
     "metadata": {},
     "output_type": "execute_result"
    }
   ],
   "source": [
    "ts1 + ts2"
   ]
  },
  {
   "cell_type": "code",
   "execution_count": 63,
   "metadata": {
    "collapsed": false
   },
   "outputs": [
    {
     "data": {
      "text/plain": [
       "2016-07-01     NaN\n",
       "2016-07-02     NaN\n",
       "2016-07-03     NaN\n",
       "2016-07-04     NaN\n",
       "2016-07-05     NaN\n",
       "2016-07-06     NaN\n",
       "2016-07-07     NaN\n",
       "2016-07-08     NaN\n",
       "2016-07-09     NaN\n",
       "2016-07-10     NaN\n",
       "2016-07-11    10.0\n",
       "2016-07-12    12.0\n",
       "2016-07-13    14.0\n",
       "2016-07-14    16.0\n",
       "2016-07-15    18.0\n",
       "2016-07-16    20.0\n",
       "2016-07-17    22.0\n",
       "2016-07-18    24.0\n",
       "2016-07-19    26.0\n",
       "2016-07-20    28.0\n",
       "Freq: D, dtype: float64"
      ]
     },
     "execution_count": 63,
     "metadata": {},
     "output_type": "execute_result"
    }
   ],
   "source": [
    "ts1 + ts3"
   ]
  },
  {
   "cell_type": "code",
   "execution_count": 64,
   "metadata": {
    "collapsed": false
   },
   "outputs": [
    {
     "data": {
      "text/plain": [
       "2016-07-01     NaN\n",
       "2016-07-02     NaN\n",
       "2016-07-03     NaN\n",
       "2016-07-04     NaN\n",
       "2016-07-05     NaN\n",
       "2016-07-06     NaN\n",
       "2016-07-07     NaN\n",
       "2016-07-08     NaN\n",
       "2016-07-09     NaN\n",
       "2016-07-10     NaN\n",
       "2016-07-11    10.0\n",
       "2016-07-12    12.0\n",
       "2016-07-13    14.0\n",
       "2016-07-14    16.0\n",
       "2016-07-15    18.0\n",
       "2016-07-16    20.0\n",
       "2016-07-17    22.0\n",
       "2016-07-18    24.0\n",
       "2016-07-19    26.0\n",
       "2016-07-20    28.0\n",
       "Freq: D, dtype: float64"
      ]
     },
     "execution_count": 64,
     "metadata": {},
     "output_type": "execute_result"
    }
   ],
   "source": [
    "ts1 + ts4"
   ]
  },
  {
   "cell_type": "code",
   "execution_count": 65,
   "metadata": {
    "collapsed": false
   },
   "outputs": [
    {
     "data": {
      "text/plain": [
       "2016-07-01     0\n",
       "2016-07-02     1\n",
       "2016-07-03     2\n",
       "2016-07-04     3\n",
       "2016-07-05     4\n",
       "2016-07-06     5\n",
       "2016-07-07     6\n",
       "2016-07-08     7\n",
       "2016-07-09     8\n",
       "2016-07-10     9\n",
       "2016-07-11    10\n",
       "2016-07-12    12\n",
       "2016-07-13    14\n",
       "2016-07-14    16\n",
       "2016-07-15    18\n",
       "2016-07-16    20\n",
       "2016-07-17    22\n",
       "2016-07-18    24\n",
       "2016-07-19    26\n",
       "2016-07-20    28\n",
       "Freq: D, dtype: int64"
      ]
     },
     "execution_count": 65,
     "metadata": {},
     "output_type": "execute_result"
    }
   ],
   "source": [
    "ts1 + ts5"
   ]
  },
  {
   "cell_type": "markdown",
   "metadata": {},
   "source": [
    "# Resampling pandas times series"
   ]
  },
  {
   "cell_type": "code",
   "execution_count": 73,
   "metadata": {
    "collapsed": false
   },
   "outputs": [
    {
     "data": {
      "text/html": [
       "<div>\n",
       "<table border=\"1\" class=\"dataframe\">\n",
       "  <thead>\n",
       "    <tr style=\"text-align: right;\">\n",
       "      <th></th>\n",
       "      <th>Temperature</th>\n",
       "      <th>Dew Point</th>\n",
       "      <th>Pressure</th>\n",
       "    </tr>\n",
       "    <tr>\n",
       "      <th>Date</th>\n",
       "      <th></th>\n",
       "      <th></th>\n",
       "      <th></th>\n",
       "    </tr>\n",
       "  </thead>\n",
       "  <tbody>\n",
       "    <tr>\n",
       "      <th>2014-01-01 00:00:00</th>\n",
       "      <td>70.1</td>\n",
       "      <td>50.0</td>\n",
       "      <td>0.0</td>\n",
       "    </tr>\n",
       "    <tr>\n",
       "      <th>2014-01-01 01:00:00</th>\n",
       "      <td>70.1</td>\n",
       "      <td>50.0</td>\n",
       "      <td>0.0</td>\n",
       "    </tr>\n",
       "    <tr>\n",
       "      <th>2014-01-01 02:00:00</th>\n",
       "      <td>70.2</td>\n",
       "      <td>50.1</td>\n",
       "      <td>0.0</td>\n",
       "    </tr>\n",
       "    <tr>\n",
       "      <th>2014-01-01 03:00:00</th>\n",
       "      <td>70.2</td>\n",
       "      <td>50.1</td>\n",
       "      <td>0.0</td>\n",
       "    </tr>\n",
       "    <tr>\n",
       "      <th>2014-01-01 04:00:00</th>\n",
       "      <td>70.2</td>\n",
       "      <td>50.1</td>\n",
       "      <td>0.0</td>\n",
       "    </tr>\n",
       "  </tbody>\n",
       "</table>\n",
       "</div>"
      ],
      "text/plain": [
       "                     Temperature  Dew Point  Pressure\n",
       "Date                                                 \n",
       "2014-01-01 00:00:00         70.1       50.0       0.0\n",
       "2014-01-01 01:00:00         70.1       50.0       0.0\n",
       "2014-01-01 02:00:00         70.2       50.1       0.0\n",
       "2014-01-01 03:00:00         70.2       50.1       0.0\n",
       "2014-01-01 04:00:00         70.2       50.1       0.0"
      ]
     },
     "execution_count": 73,
     "metadata": {},
     "output_type": "execute_result"
    }
   ],
   "source": [
    "df = pd.read_csv('data/temperature_with_date.csv', parse_dates=True, index_col='Date')\n",
    "df.head()"
   ]
  },
  {
   "cell_type": "code",
   "execution_count": 79,
   "metadata": {
    "collapsed": false
   },
   "outputs": [
    {
     "data": {
      "text/plain": [
       "Date\n",
       "2014-01-01 00:00:00    70.166667\n",
       "2014-01-01 06:00:00    70.366667\n",
       "2014-01-01 12:00:00    70.500000\n",
       "2014-01-01 18:00:00    70.666667\n",
       "2014-01-02 00:00:00    70.916667\n",
       "Freq: 6H, Name: Temperature, dtype: float64"
      ]
     },
     "execution_count": 79,
     "metadata": {},
     "output_type": "execute_result"
    }
   ],
   "source": [
    "df1 = df['Temperature'].resample('6H').mean()\n",
    "df1.head()"
   ]
  },
  {
   "cell_type": "code",
   "execution_count": 80,
   "metadata": {
    "collapsed": false
   },
   "outputs": [
    {
     "data": {
      "text/plain": [
       "Date\n",
       "2014-01-01    24\n",
       "2014-01-02    24\n",
       "2014-01-03    24\n",
       "2014-01-04    24\n",
       "2014-01-05    24\n",
       "Freq: D, Name: Temperature, dtype: int64"
      ]
     },
     "execution_count": 80,
     "metadata": {},
     "output_type": "execute_result"
    }
   ],
   "source": [
    "df2 = df['Temperature'].resample('D').count()\n",
    "df2.head()"
   ]
  },
  {
   "cell_type": "code",
   "execution_count": 81,
   "metadata": {
    "collapsed": false
   },
   "outputs": [
    {
     "data": {
      "text/plain": [
       "Date\n",
       "2014-01-01    1690.2\n",
       "2014-01-02    1709.2\n",
       "2014-01-03    1737.8\n",
       "2014-01-04    1763.1\n",
       "2014-01-05    1787.5\n",
       "Freq: D, Name: Temperature, dtype: float64"
      ]
     },
     "execution_count": 81,
     "metadata": {},
     "output_type": "execute_result"
    }
   ],
   "source": [
    "df3 = df['Temperature'].resample('D').sum()\n",
    "df3.head()"
   ]
  },
  {
   "cell_type": "markdown",
   "metadata": {},
   "source": [
    "# Separating and resampling"
   ]
  },
  {
   "cell_type": "code",
   "execution_count": 82,
   "metadata": {
    "collapsed": false
   },
   "outputs": [
    {
     "data": {
      "text/html": [
       "<div>\n",
       "<table border=\"1\" class=\"dataframe\">\n",
       "  <thead>\n",
       "    <tr style=\"text-align: right;\">\n",
       "      <th></th>\n",
       "      <th>Temperature</th>\n",
       "      <th>Dew Point</th>\n",
       "      <th>Pressure</th>\n",
       "    </tr>\n",
       "    <tr>\n",
       "      <th>Date</th>\n",
       "      <th></th>\n",
       "      <th></th>\n",
       "      <th></th>\n",
       "    </tr>\n",
       "  </thead>\n",
       "  <tbody>\n",
       "    <tr>\n",
       "      <th>2014-01-01 00:00:00</th>\n",
       "      <td>70.1</td>\n",
       "      <td>50.0</td>\n",
       "      <td>0.0</td>\n",
       "    </tr>\n",
       "    <tr>\n",
       "      <th>2014-01-01 01:00:00</th>\n",
       "      <td>70.1</td>\n",
       "      <td>50.0</td>\n",
       "      <td>0.0</td>\n",
       "    </tr>\n",
       "    <tr>\n",
       "      <th>2014-01-01 02:00:00</th>\n",
       "      <td>70.2</td>\n",
       "      <td>50.1</td>\n",
       "      <td>0.0</td>\n",
       "    </tr>\n",
       "    <tr>\n",
       "      <th>2014-01-01 03:00:00</th>\n",
       "      <td>70.2</td>\n",
       "      <td>50.1</td>\n",
       "      <td>0.0</td>\n",
       "    </tr>\n",
       "    <tr>\n",
       "      <th>2014-01-01 04:00:00</th>\n",
       "      <td>70.2</td>\n",
       "      <td>50.1</td>\n",
       "      <td>0.0</td>\n",
       "    </tr>\n",
       "  </tbody>\n",
       "</table>\n",
       "</div>"
      ],
      "text/plain": [
       "                     Temperature  Dew Point  Pressure\n",
       "Date                                                 \n",
       "2014-01-01 00:00:00         70.1       50.0       0.0\n",
       "2014-01-01 01:00:00         70.1       50.0       0.0\n",
       "2014-01-01 02:00:00         70.2       50.1       0.0\n",
       "2014-01-01 03:00:00         70.2       50.1       0.0\n",
       "2014-01-01 04:00:00         70.2       50.1       0.0"
      ]
     },
     "execution_count": 82,
     "metadata": {},
     "output_type": "execute_result"
    }
   ],
   "source": [
    "df.head()"
   ]
  },
  {
   "cell_type": "code",
   "execution_count": 84,
   "metadata": {
    "collapsed": false
   },
   "outputs": [
    {
     "data": {
      "text/plain": [
       "Date\n",
       "2014-01-10 00:00:00    78.8\n",
       "2014-01-10 01:00:00    78.8\n",
       "2014-01-10 02:00:00    78.9\n",
       "2014-01-10 03:00:00    78.9\n",
       "2014-01-10 04:00:00    78.9\n",
       "2014-01-10 05:00:00    78.9\n",
       "2014-01-10 06:00:00    78.9\n",
       "2014-01-10 07:00:00    79.0\n",
       "2014-01-10 08:00:00    79.0\n",
       "2014-01-10 09:00:00    79.1\n",
       "2014-01-10 10:00:00    79.1\n",
       "2014-01-10 11:00:00    79.2\n",
       "2014-01-10 12:00:00    79.2\n",
       "2014-01-10 13:00:00    79.3\n",
       "2014-01-10 14:00:00    79.3\n",
       "2014-01-10 15:00:00    79.3\n",
       "2014-01-10 16:00:00    79.3\n",
       "2014-01-10 17:00:00    79.4\n",
       "2014-01-10 18:00:00    79.4\n",
       "2014-01-10 19:00:00    79.4\n",
       "2014-01-10 20:00:00    79.5\n",
       "2014-01-10 21:00:00    79.6\n",
       "2014-01-10 22:00:00    79.6\n",
       "2014-01-10 23:00:00    79.7\n",
       "Name: Temperature, dtype: float64"
      ]
     },
     "execution_count": 84,
     "metadata": {},
     "output_type": "execute_result"
    }
   ],
   "source": [
    "temperature = df['Temperature'].loc['2014-01-10']\n",
    "temperature"
   ]
  },
  {
   "cell_type": "code",
   "execution_count": 87,
   "metadata": {
    "collapsed": false
   },
   "outputs": [
    {
     "data": {
      "text/plain": [
       "Date\n",
       "2014-01-10 00:00:00    78.850\n",
       "2014-01-10 04:00:00    78.925\n",
       "2014-01-10 08:00:00    79.100\n",
       "2014-01-10 12:00:00    79.275\n",
       "2014-01-10 16:00:00    79.375\n",
       "2014-01-10 20:00:00    79.600\n",
       "Freq: 4H, Name: Temperature, dtype: float64"
      ]
     },
     "execution_count": 87,
     "metadata": {},
     "output_type": "execute_result"
    }
   ],
   "source": [
    "temperature.resample('4h').mean()"
   ]
  },
  {
   "cell_type": "code",
   "execution_count": 88,
   "metadata": {
    "collapsed": false
   },
   "outputs": [
    {
     "data": {
      "text/plain": [
       "Date\n",
       "2014-01-10 00:00:00    315.4\n",
       "2014-01-10 04:00:00    315.7\n",
       "2014-01-10 08:00:00    316.4\n",
       "2014-01-10 12:00:00    317.1\n",
       "2014-01-10 16:00:00    317.5\n",
       "2014-01-10 20:00:00    318.4\n",
       "Freq: 4H, Name: Temperature, dtype: float64"
      ]
     },
     "execution_count": 88,
     "metadata": {},
     "output_type": "execute_result"
    }
   ],
   "source": [
    "temperature.resample('4h').sum()"
   ]
  },
  {
   "cell_type": "markdown",
   "metadata": {},
   "source": [
    "# Rolling mean and frequency"
   ]
  },
  {
   "cell_type": "code",
   "execution_count": 89,
   "metadata": {
    "collapsed": false
   },
   "outputs": [
    {
     "data": {
      "text/html": [
       "<div>\n",
       "<table border=\"1\" class=\"dataframe\">\n",
       "  <thead>\n",
       "    <tr style=\"text-align: right;\">\n",
       "      <th></th>\n",
       "      <th>Temperature</th>\n",
       "      <th>DewPoint</th>\n",
       "      <th>Pressure</th>\n",
       "    </tr>\n",
       "    <tr>\n",
       "      <th>Date</th>\n",
       "      <th></th>\n",
       "      <th></th>\n",
       "      <th></th>\n",
       "    </tr>\n",
       "  </thead>\n",
       "  <tbody>\n",
       "    <tr>\n",
       "      <th>2014-01-01 00:00:00</th>\n",
       "      <td>42.6</td>\n",
       "      <td>34.7</td>\n",
       "      <td>2.8</td>\n",
       "    </tr>\n",
       "    <tr>\n",
       "      <th>2014-01-01 01:00:00</th>\n",
       "      <td>42.1</td>\n",
       "      <td>32.7</td>\n",
       "      <td>2.4</td>\n",
       "    </tr>\n",
       "    <tr>\n",
       "      <th>2014-01-01 02:00:00</th>\n",
       "      <td>49.2</td>\n",
       "      <td>34.9</td>\n",
       "      <td>2.6</td>\n",
       "    </tr>\n",
       "    <tr>\n",
       "      <th>2014-01-01 03:00:00</th>\n",
       "      <td>42.7</td>\n",
       "      <td>38.5</td>\n",
       "      <td>0.1</td>\n",
       "    </tr>\n",
       "    <tr>\n",
       "      <th>2014-01-01 04:00:00</th>\n",
       "      <td>49.6</td>\n",
       "      <td>36.6</td>\n",
       "      <td>1.2</td>\n",
       "    </tr>\n",
       "  </tbody>\n",
       "</table>\n",
       "</div>"
      ],
      "text/plain": [
       "                     Temperature  DewPoint  Pressure\n",
       "Date                                                \n",
       "2014-01-01 00:00:00         42.6      34.7       2.8\n",
       "2014-01-01 01:00:00         42.1      32.7       2.4\n",
       "2014-01-01 02:00:00         49.2      34.9       2.6\n",
       "2014-01-01 03:00:00         42.7      38.5       0.1\n",
       "2014-01-01 04:00:00         49.6      36.6       1.2"
      ]
     },
     "execution_count": 89,
     "metadata": {},
     "output_type": "execute_result"
    }
   ],
   "source": [
    "df = pd.read_csv('data/temperature_with_date.csv', parse_dates=True, index_col='Date')\n",
    "df.head()"
   ]
  },
  {
   "cell_type": "code",
   "execution_count": 94,
   "metadata": {
    "collapsed": false
   },
   "outputs": [
    {
     "data": {
      "text/plain": [
       "Date\n",
       "2014-08-01 00:00:00    41.9\n",
       "2014-08-01 01:00:00    44.5\n",
       "2014-08-01 02:00:00    43.4\n",
       "2014-08-01 03:00:00    42.9\n",
       "2014-08-01 04:00:00    48.9\n",
       "2014-08-01 05:00:00    43.5\n",
       "2014-08-01 06:00:00    46.1\n",
       "2014-08-01 07:00:00    49.3\n",
       "2014-08-01 08:00:00    43.5\n",
       "2014-08-01 09:00:00    41.0\n",
       "2014-08-01 10:00:00    44.1\n",
       "2014-08-01 11:00:00    41.5\n",
       "2014-08-01 12:00:00    45.0\n",
       "2014-08-01 13:00:00    45.0\n",
       "2014-08-01 14:00:00    41.3\n",
       "2014-08-01 15:00:00    48.1\n",
       "2014-08-01 16:00:00    41.1\n",
       "2014-08-01 17:00:00    49.2\n",
       "2014-08-01 18:00:00    41.0\n",
       "2014-08-01 19:00:00    47.6\n",
       "2014-08-01 20:00:00    40.1\n",
       "2014-08-01 21:00:00    47.5\n",
       "2014-08-01 22:00:00    49.3\n",
       "2014-08-01 23:00:00    45.0\n",
       "2014-08-02 00:00:00    48.4\n",
       "2014-08-02 01:00:00    48.5\n",
       "2014-08-02 02:00:00    46.8\n",
       "2014-08-02 03:00:00    43.2\n",
       "2014-08-02 04:00:00    49.2\n",
       "2014-08-02 05:00:00    43.3\n",
       "                       ... \n",
       "2014-08-14 18:00:00    43.7\n",
       "2014-08-14 19:00:00    40.2\n",
       "2014-08-14 20:00:00    47.2\n",
       "2014-08-14 21:00:00    45.4\n",
       "2014-08-14 22:00:00    41.2\n",
       "2014-08-14 23:00:00    45.5\n",
       "2014-08-15 00:00:00    46.7\n",
       "2014-08-15 01:00:00    45.1\n",
       "2014-08-15 02:00:00    43.7\n",
       "2014-08-15 03:00:00    42.9\n",
       "2014-08-15 04:00:00    44.0\n",
       "2014-08-15 05:00:00    48.1\n",
       "2014-08-15 06:00:00    40.6\n",
       "2014-08-15 07:00:00    43.4\n",
       "2014-08-15 08:00:00    43.8\n",
       "2014-08-15 09:00:00    40.5\n",
       "2014-08-15 10:00:00    47.5\n",
       "2014-08-15 11:00:00    49.7\n",
       "2014-08-15 12:00:00    46.9\n",
       "2014-08-15 13:00:00    47.5\n",
       "2014-08-15 14:00:00    49.9\n",
       "2014-08-15 15:00:00    47.4\n",
       "2014-08-15 16:00:00    43.5\n",
       "2014-08-15 17:00:00    45.3\n",
       "2014-08-15 18:00:00    46.6\n",
       "2014-08-15 19:00:00    47.2\n",
       "2014-08-15 20:00:00    41.3\n",
       "2014-08-15 21:00:00    42.2\n",
       "2014-08-15 22:00:00    48.3\n",
       "2014-08-15 23:00:00    43.5\n",
       "Name: Temperature, dtype: float64"
      ]
     },
     "execution_count": 94,
     "metadata": {},
     "output_type": "execute_result"
    }
   ],
   "source": [
    "unsmoothed = df['Temperature'].loc['2014-August-1' : '2014-August-15']\n",
    "unsmoothed"
   ]
  },
  {
   "cell_type": "code",
   "execution_count": 93,
   "metadata": {
    "collapsed": false
   },
   "outputs": [
    {
     "data": {
      "text/plain": [
       "Date\n",
       "2014-08-01 00:00:00          NaN\n",
       "2014-08-01 01:00:00          NaN\n",
       "2014-08-01 02:00:00          NaN\n",
       "2014-08-01 03:00:00          NaN\n",
       "2014-08-01 04:00:00          NaN\n",
       "2014-08-01 05:00:00          NaN\n",
       "2014-08-01 06:00:00          NaN\n",
       "2014-08-01 07:00:00          NaN\n",
       "2014-08-01 08:00:00          NaN\n",
       "2014-08-01 09:00:00          NaN\n",
       "2014-08-01 10:00:00          NaN\n",
       "2014-08-01 11:00:00          NaN\n",
       "2014-08-01 12:00:00          NaN\n",
       "2014-08-01 13:00:00          NaN\n",
       "2014-08-01 14:00:00          NaN\n",
       "2014-08-01 15:00:00          NaN\n",
       "2014-08-01 16:00:00          NaN\n",
       "2014-08-01 17:00:00          NaN\n",
       "2014-08-01 18:00:00          NaN\n",
       "2014-08-01 19:00:00          NaN\n",
       "2014-08-01 20:00:00          NaN\n",
       "2014-08-01 21:00:00          NaN\n",
       "2014-08-01 22:00:00          NaN\n",
       "2014-08-01 23:00:00    44.616667\n",
       "2014-08-02 00:00:00    44.887500\n",
       "2014-08-02 01:00:00    45.054167\n",
       "2014-08-02 02:00:00    45.195833\n",
       "2014-08-02 03:00:00    45.208333\n",
       "2014-08-02 04:00:00    45.220833\n",
       "2014-08-02 05:00:00    45.212500\n",
       "                         ...    \n",
       "2014-08-14 18:00:00    45.241667\n",
       "2014-08-14 19:00:00    45.041667\n",
       "2014-08-14 20:00:00    45.266667\n",
       "2014-08-14 21:00:00    45.083333\n",
       "2014-08-14 22:00:00    44.725000\n",
       "2014-08-14 23:00:00    44.612500\n",
       "2014-08-15 00:00:00    44.504167\n",
       "2014-08-15 01:00:00    44.479167\n",
       "2014-08-15 02:00:00    44.458333\n",
       "2014-08-15 03:00:00    44.466667\n",
       "2014-08-15 04:00:00    44.404167\n",
       "2014-08-15 05:00:00    44.487500\n",
       "2014-08-15 06:00:00    44.325000\n",
       "2014-08-15 07:00:00    44.358333\n",
       "2014-08-15 08:00:00    44.233333\n",
       "2014-08-15 09:00:00    44.225000\n",
       "2014-08-15 10:00:00    44.316667\n",
       "2014-08-15 11:00:00    44.720833\n",
       "2014-08-15 12:00:00    44.812500\n",
       "2014-08-15 13:00:00    44.795833\n",
       "2014-08-15 14:00:00    45.045833\n",
       "2014-08-15 15:00:00    45.216667\n",
       "2014-08-15 16:00:00    45.012500\n",
       "2014-08-15 17:00:00    44.987500\n",
       "2014-08-15 18:00:00    45.108333\n",
       "2014-08-15 19:00:00    45.400000\n",
       "2014-08-15 20:00:00    45.154167\n",
       "2014-08-15 21:00:00    45.020833\n",
       "2014-08-15 22:00:00    45.316667\n",
       "2014-08-15 23:00:00    45.233333\n",
       "Name: Temperature, dtype: float64"
      ]
     },
     "execution_count": 93,
     "metadata": {},
     "output_type": "execute_result"
    }
   ],
   "source": [
    "smoothed = unsmoothed.rolling(window=24).mean()\n",
    "smoothed"
   ]
  },
  {
   "cell_type": "code",
   "execution_count": 96,
   "metadata": {
    "collapsed": false
   },
   "outputs": [
    {
     "data": {
      "text/html": [
       "<div>\n",
       "<table border=\"1\" class=\"dataframe\">\n",
       "  <thead>\n",
       "    <tr style=\"text-align: right;\">\n",
       "      <th></th>\n",
       "      <th>smoothed</th>\n",
       "      <th>unsmoothed</th>\n",
       "    </tr>\n",
       "    <tr>\n",
       "      <th>Date</th>\n",
       "      <th></th>\n",
       "      <th></th>\n",
       "    </tr>\n",
       "  </thead>\n",
       "  <tbody>\n",
       "    <tr>\n",
       "      <th>2014-08-01 00:00:00</th>\n",
       "      <td>NaN</td>\n",
       "      <td>41.9</td>\n",
       "    </tr>\n",
       "    <tr>\n",
       "      <th>2014-08-01 01:00:00</th>\n",
       "      <td>NaN</td>\n",
       "      <td>44.5</td>\n",
       "    </tr>\n",
       "    <tr>\n",
       "      <th>2014-08-01 02:00:00</th>\n",
       "      <td>NaN</td>\n",
       "      <td>43.4</td>\n",
       "    </tr>\n",
       "    <tr>\n",
       "      <th>2014-08-01 03:00:00</th>\n",
       "      <td>NaN</td>\n",
       "      <td>42.9</td>\n",
       "    </tr>\n",
       "    <tr>\n",
       "      <th>2014-08-01 04:00:00</th>\n",
       "      <td>NaN</td>\n",
       "      <td>48.9</td>\n",
       "    </tr>\n",
       "    <tr>\n",
       "      <th>2014-08-01 05:00:00</th>\n",
       "      <td>NaN</td>\n",
       "      <td>43.5</td>\n",
       "    </tr>\n",
       "    <tr>\n",
       "      <th>2014-08-01 06:00:00</th>\n",
       "      <td>NaN</td>\n",
       "      <td>46.1</td>\n",
       "    </tr>\n",
       "    <tr>\n",
       "      <th>2014-08-01 07:00:00</th>\n",
       "      <td>NaN</td>\n",
       "      <td>49.3</td>\n",
       "    </tr>\n",
       "    <tr>\n",
       "      <th>2014-08-01 08:00:00</th>\n",
       "      <td>NaN</td>\n",
       "      <td>43.5</td>\n",
       "    </tr>\n",
       "    <tr>\n",
       "      <th>2014-08-01 09:00:00</th>\n",
       "      <td>NaN</td>\n",
       "      <td>41.0</td>\n",
       "    </tr>\n",
       "    <tr>\n",
       "      <th>2014-08-01 10:00:00</th>\n",
       "      <td>NaN</td>\n",
       "      <td>44.1</td>\n",
       "    </tr>\n",
       "    <tr>\n",
       "      <th>2014-08-01 11:00:00</th>\n",
       "      <td>NaN</td>\n",
       "      <td>41.5</td>\n",
       "    </tr>\n",
       "    <tr>\n",
       "      <th>2014-08-01 12:00:00</th>\n",
       "      <td>NaN</td>\n",
       "      <td>45.0</td>\n",
       "    </tr>\n",
       "    <tr>\n",
       "      <th>2014-08-01 13:00:00</th>\n",
       "      <td>NaN</td>\n",
       "      <td>45.0</td>\n",
       "    </tr>\n",
       "    <tr>\n",
       "      <th>2014-08-01 14:00:00</th>\n",
       "      <td>NaN</td>\n",
       "      <td>41.3</td>\n",
       "    </tr>\n",
       "    <tr>\n",
       "      <th>2014-08-01 15:00:00</th>\n",
       "      <td>NaN</td>\n",
       "      <td>48.1</td>\n",
       "    </tr>\n",
       "    <tr>\n",
       "      <th>2014-08-01 16:00:00</th>\n",
       "      <td>NaN</td>\n",
       "      <td>41.1</td>\n",
       "    </tr>\n",
       "    <tr>\n",
       "      <th>2014-08-01 17:00:00</th>\n",
       "      <td>NaN</td>\n",
       "      <td>49.2</td>\n",
       "    </tr>\n",
       "    <tr>\n",
       "      <th>2014-08-01 18:00:00</th>\n",
       "      <td>NaN</td>\n",
       "      <td>41.0</td>\n",
       "    </tr>\n",
       "    <tr>\n",
       "      <th>2014-08-01 19:00:00</th>\n",
       "      <td>NaN</td>\n",
       "      <td>47.6</td>\n",
       "    </tr>\n",
       "    <tr>\n",
       "      <th>2014-08-01 20:00:00</th>\n",
       "      <td>NaN</td>\n",
       "      <td>40.1</td>\n",
       "    </tr>\n",
       "    <tr>\n",
       "      <th>2014-08-01 21:00:00</th>\n",
       "      <td>NaN</td>\n",
       "      <td>47.5</td>\n",
       "    </tr>\n",
       "    <tr>\n",
       "      <th>2014-08-01 22:00:00</th>\n",
       "      <td>NaN</td>\n",
       "      <td>49.3</td>\n",
       "    </tr>\n",
       "    <tr>\n",
       "      <th>2014-08-01 23:00:00</th>\n",
       "      <td>44.616667</td>\n",
       "      <td>45.0</td>\n",
       "    </tr>\n",
       "    <tr>\n",
       "      <th>2014-08-02 00:00:00</th>\n",
       "      <td>44.887500</td>\n",
       "      <td>48.4</td>\n",
       "    </tr>\n",
       "    <tr>\n",
       "      <th>2014-08-02 01:00:00</th>\n",
       "      <td>45.054167</td>\n",
       "      <td>48.5</td>\n",
       "    </tr>\n",
       "    <tr>\n",
       "      <th>2014-08-02 02:00:00</th>\n",
       "      <td>45.195833</td>\n",
       "      <td>46.8</td>\n",
       "    </tr>\n",
       "    <tr>\n",
       "      <th>2014-08-02 03:00:00</th>\n",
       "      <td>45.208333</td>\n",
       "      <td>43.2</td>\n",
       "    </tr>\n",
       "    <tr>\n",
       "      <th>2014-08-02 04:00:00</th>\n",
       "      <td>45.220833</td>\n",
       "      <td>49.2</td>\n",
       "    </tr>\n",
       "    <tr>\n",
       "      <th>2014-08-02 05:00:00</th>\n",
       "      <td>45.212500</td>\n",
       "      <td>43.3</td>\n",
       "    </tr>\n",
       "    <tr>\n",
       "      <th>...</th>\n",
       "      <td>...</td>\n",
       "      <td>...</td>\n",
       "    </tr>\n",
       "    <tr>\n",
       "      <th>2014-08-14 18:00:00</th>\n",
       "      <td>45.241667</td>\n",
       "      <td>43.7</td>\n",
       "    </tr>\n",
       "    <tr>\n",
       "      <th>2014-08-14 19:00:00</th>\n",
       "      <td>45.041667</td>\n",
       "      <td>40.2</td>\n",
       "    </tr>\n",
       "    <tr>\n",
       "      <th>2014-08-14 20:00:00</th>\n",
       "      <td>45.266667</td>\n",
       "      <td>47.2</td>\n",
       "    </tr>\n",
       "    <tr>\n",
       "      <th>2014-08-14 21:00:00</th>\n",
       "      <td>45.083333</td>\n",
       "      <td>45.4</td>\n",
       "    </tr>\n",
       "    <tr>\n",
       "      <th>2014-08-14 22:00:00</th>\n",
       "      <td>44.725000</td>\n",
       "      <td>41.2</td>\n",
       "    </tr>\n",
       "    <tr>\n",
       "      <th>2014-08-14 23:00:00</th>\n",
       "      <td>44.612500</td>\n",
       "      <td>45.5</td>\n",
       "    </tr>\n",
       "    <tr>\n",
       "      <th>2014-08-15 00:00:00</th>\n",
       "      <td>44.504167</td>\n",
       "      <td>46.7</td>\n",
       "    </tr>\n",
       "    <tr>\n",
       "      <th>2014-08-15 01:00:00</th>\n",
       "      <td>44.479167</td>\n",
       "      <td>45.1</td>\n",
       "    </tr>\n",
       "    <tr>\n",
       "      <th>2014-08-15 02:00:00</th>\n",
       "      <td>44.458333</td>\n",
       "      <td>43.7</td>\n",
       "    </tr>\n",
       "    <tr>\n",
       "      <th>2014-08-15 03:00:00</th>\n",
       "      <td>44.466667</td>\n",
       "      <td>42.9</td>\n",
       "    </tr>\n",
       "    <tr>\n",
       "      <th>2014-08-15 04:00:00</th>\n",
       "      <td>44.404167</td>\n",
       "      <td>44.0</td>\n",
       "    </tr>\n",
       "    <tr>\n",
       "      <th>2014-08-15 05:00:00</th>\n",
       "      <td>44.487500</td>\n",
       "      <td>48.1</td>\n",
       "    </tr>\n",
       "    <tr>\n",
       "      <th>2014-08-15 06:00:00</th>\n",
       "      <td>44.325000</td>\n",
       "      <td>40.6</td>\n",
       "    </tr>\n",
       "    <tr>\n",
       "      <th>2014-08-15 07:00:00</th>\n",
       "      <td>44.358333</td>\n",
       "      <td>43.4</td>\n",
       "    </tr>\n",
       "    <tr>\n",
       "      <th>2014-08-15 08:00:00</th>\n",
       "      <td>44.233333</td>\n",
       "      <td>43.8</td>\n",
       "    </tr>\n",
       "    <tr>\n",
       "      <th>2014-08-15 09:00:00</th>\n",
       "      <td>44.225000</td>\n",
       "      <td>40.5</td>\n",
       "    </tr>\n",
       "    <tr>\n",
       "      <th>2014-08-15 10:00:00</th>\n",
       "      <td>44.316667</td>\n",
       "      <td>47.5</td>\n",
       "    </tr>\n",
       "    <tr>\n",
       "      <th>2014-08-15 11:00:00</th>\n",
       "      <td>44.720833</td>\n",
       "      <td>49.7</td>\n",
       "    </tr>\n",
       "    <tr>\n",
       "      <th>2014-08-15 12:00:00</th>\n",
       "      <td>44.812500</td>\n",
       "      <td>46.9</td>\n",
       "    </tr>\n",
       "    <tr>\n",
       "      <th>2014-08-15 13:00:00</th>\n",
       "      <td>44.795833</td>\n",
       "      <td>47.5</td>\n",
       "    </tr>\n",
       "    <tr>\n",
       "      <th>2014-08-15 14:00:00</th>\n",
       "      <td>45.045833</td>\n",
       "      <td>49.9</td>\n",
       "    </tr>\n",
       "    <tr>\n",
       "      <th>2014-08-15 15:00:00</th>\n",
       "      <td>45.216667</td>\n",
       "      <td>47.4</td>\n",
       "    </tr>\n",
       "    <tr>\n",
       "      <th>2014-08-15 16:00:00</th>\n",
       "      <td>45.012500</td>\n",
       "      <td>43.5</td>\n",
       "    </tr>\n",
       "    <tr>\n",
       "      <th>2014-08-15 17:00:00</th>\n",
       "      <td>44.987500</td>\n",
       "      <td>45.3</td>\n",
       "    </tr>\n",
       "    <tr>\n",
       "      <th>2014-08-15 18:00:00</th>\n",
       "      <td>45.108333</td>\n",
       "      <td>46.6</td>\n",
       "    </tr>\n",
       "    <tr>\n",
       "      <th>2014-08-15 19:00:00</th>\n",
       "      <td>45.400000</td>\n",
       "      <td>47.2</td>\n",
       "    </tr>\n",
       "    <tr>\n",
       "      <th>2014-08-15 20:00:00</th>\n",
       "      <td>45.154167</td>\n",
       "      <td>41.3</td>\n",
       "    </tr>\n",
       "    <tr>\n",
       "      <th>2014-08-15 21:00:00</th>\n",
       "      <td>45.020833</td>\n",
       "      <td>42.2</td>\n",
       "    </tr>\n",
       "    <tr>\n",
       "      <th>2014-08-15 22:00:00</th>\n",
       "      <td>45.316667</td>\n",
       "      <td>48.3</td>\n",
       "    </tr>\n",
       "    <tr>\n",
       "      <th>2014-08-15 23:00:00</th>\n",
       "      <td>45.233333</td>\n",
       "      <td>43.5</td>\n",
       "    </tr>\n",
       "  </tbody>\n",
       "</table>\n",
       "<p>360 rows × 2 columns</p>\n",
       "</div>"
      ],
      "text/plain": [
       "                      smoothed  unsmoothed\n",
       "Date                                      \n",
       "2014-08-01 00:00:00        NaN        41.9\n",
       "2014-08-01 01:00:00        NaN        44.5\n",
       "2014-08-01 02:00:00        NaN        43.4\n",
       "2014-08-01 03:00:00        NaN        42.9\n",
       "2014-08-01 04:00:00        NaN        48.9\n",
       "2014-08-01 05:00:00        NaN        43.5\n",
       "2014-08-01 06:00:00        NaN        46.1\n",
       "2014-08-01 07:00:00        NaN        49.3\n",
       "2014-08-01 08:00:00        NaN        43.5\n",
       "2014-08-01 09:00:00        NaN        41.0\n",
       "2014-08-01 10:00:00        NaN        44.1\n",
       "2014-08-01 11:00:00        NaN        41.5\n",
       "2014-08-01 12:00:00        NaN        45.0\n",
       "2014-08-01 13:00:00        NaN        45.0\n",
       "2014-08-01 14:00:00        NaN        41.3\n",
       "2014-08-01 15:00:00        NaN        48.1\n",
       "2014-08-01 16:00:00        NaN        41.1\n",
       "2014-08-01 17:00:00        NaN        49.2\n",
       "2014-08-01 18:00:00        NaN        41.0\n",
       "2014-08-01 19:00:00        NaN        47.6\n",
       "2014-08-01 20:00:00        NaN        40.1\n",
       "2014-08-01 21:00:00        NaN        47.5\n",
       "2014-08-01 22:00:00        NaN        49.3\n",
       "2014-08-01 23:00:00  44.616667        45.0\n",
       "2014-08-02 00:00:00  44.887500        48.4\n",
       "2014-08-02 01:00:00  45.054167        48.5\n",
       "2014-08-02 02:00:00  45.195833        46.8\n",
       "2014-08-02 03:00:00  45.208333        43.2\n",
       "2014-08-02 04:00:00  45.220833        49.2\n",
       "2014-08-02 05:00:00  45.212500        43.3\n",
       "...                        ...         ...\n",
       "2014-08-14 18:00:00  45.241667        43.7\n",
       "2014-08-14 19:00:00  45.041667        40.2\n",
       "2014-08-14 20:00:00  45.266667        47.2\n",
       "2014-08-14 21:00:00  45.083333        45.4\n",
       "2014-08-14 22:00:00  44.725000        41.2\n",
       "2014-08-14 23:00:00  44.612500        45.5\n",
       "2014-08-15 00:00:00  44.504167        46.7\n",
       "2014-08-15 01:00:00  44.479167        45.1\n",
       "2014-08-15 02:00:00  44.458333        43.7\n",
       "2014-08-15 03:00:00  44.466667        42.9\n",
       "2014-08-15 04:00:00  44.404167        44.0\n",
       "2014-08-15 05:00:00  44.487500        48.1\n",
       "2014-08-15 06:00:00  44.325000        40.6\n",
       "2014-08-15 07:00:00  44.358333        43.4\n",
       "2014-08-15 08:00:00  44.233333        43.8\n",
       "2014-08-15 09:00:00  44.225000        40.5\n",
       "2014-08-15 10:00:00  44.316667        47.5\n",
       "2014-08-15 11:00:00  44.720833        49.7\n",
       "2014-08-15 12:00:00  44.812500        46.9\n",
       "2014-08-15 13:00:00  44.795833        47.5\n",
       "2014-08-15 14:00:00  45.045833        49.9\n",
       "2014-08-15 15:00:00  45.216667        47.4\n",
       "2014-08-15 16:00:00  45.012500        43.5\n",
       "2014-08-15 17:00:00  44.987500        45.3\n",
       "2014-08-15 18:00:00  45.108333        46.6\n",
       "2014-08-15 19:00:00  45.400000        47.2\n",
       "2014-08-15 20:00:00  45.154167        41.3\n",
       "2014-08-15 21:00:00  45.020833        42.2\n",
       "2014-08-15 22:00:00  45.316667        48.3\n",
       "2014-08-15 23:00:00  45.233333        43.5\n",
       "\n",
       "[360 rows x 2 columns]"
      ]
     },
     "execution_count": 96,
     "metadata": {},
     "output_type": "execute_result"
    }
   ],
   "source": [
    "august = pd.DataFrame({'smoothed' : smoothed, 'unsmoothed' : unsmoothed})\n",
    "august"
   ]
  },
  {
   "cell_type": "code",
   "execution_count": 97,
   "metadata": {
    "collapsed": false
   },
   "outputs": [
    {
     "data": {
      "image/png": "[encoded data removed]",
      "text/plain": [
       "<matplotlib.figure.Figure at 0x1152a3f50>"
      ]
     },
     "metadata": {},
     "output_type": "display_data"
    }
   ],
   "source": [
    "august.plot()\n",
    "plt.show()"
   ]
  },
  {
   "cell_type": "markdown",
   "metadata": {},
   "source": [
    "# Resample and roll with it"
   ]
  },
  {
   "cell_type": "code",
   "execution_count": 98,
   "metadata": {
    "collapsed": false
   },
   "outputs": [
    {
     "data": {
      "text/html": [
       "<div>\n",
       "<table border=\"1\" class=\"dataframe\">\n",
       "  <thead>\n",
       "    <tr style=\"text-align: right;\">\n",
       "      <th></th>\n",
       "      <th>Temperature</th>\n",
       "      <th>DewPoint</th>\n",
       "      <th>Pressure</th>\n",
       "    </tr>\n",
       "    <tr>\n",
       "      <th>Date</th>\n",
       "      <th></th>\n",
       "      <th></th>\n",
       "      <th></th>\n",
       "    </tr>\n",
       "  </thead>\n",
       "  <tbody>\n",
       "    <tr>\n",
       "      <th>2014-01-01 00:00:00</th>\n",
       "      <td>42.6</td>\n",
       "      <td>34.7</td>\n",
       "      <td>2.8</td>\n",
       "    </tr>\n",
       "    <tr>\n",
       "      <th>2014-01-01 01:00:00</th>\n",
       "      <td>42.1</td>\n",
       "      <td>32.7</td>\n",
       "      <td>2.4</td>\n",
       "    </tr>\n",
       "    <tr>\n",
       "      <th>2014-01-01 02:00:00</th>\n",
       "      <td>49.2</td>\n",
       "      <td>34.9</td>\n",
       "      <td>2.6</td>\n",
       "    </tr>\n",
       "    <tr>\n",
       "      <th>2014-01-01 03:00:00</th>\n",
       "      <td>42.7</td>\n",
       "      <td>38.5</td>\n",
       "      <td>0.1</td>\n",
       "    </tr>\n",
       "    <tr>\n",
       "      <th>2014-01-01 04:00:00</th>\n",
       "      <td>49.6</td>\n",
       "      <td>36.6</td>\n",
       "      <td>1.2</td>\n",
       "    </tr>\n",
       "  </tbody>\n",
       "</table>\n",
       "</div>"
      ],
      "text/plain": [
       "                     Temperature  DewPoint  Pressure\n",
       "Date                                                \n",
       "2014-01-01 00:00:00         42.6      34.7       2.8\n",
       "2014-01-01 01:00:00         42.1      32.7       2.4\n",
       "2014-01-01 02:00:00         49.2      34.9       2.6\n",
       "2014-01-01 03:00:00         42.7      38.5       0.1\n",
       "2014-01-01 04:00:00         49.6      36.6       1.2"
      ]
     },
     "execution_count": 98,
     "metadata": {},
     "output_type": "execute_result"
    }
   ],
   "source": [
    "df.head()"
   ]
  },
  {
   "cell_type": "code",
   "execution_count": 100,
   "metadata": {
    "collapsed": false
   },
   "outputs": [
    {
     "data": {
      "text/plain": [
       "Date\n",
       "2014-08-01 00:00:00    41.9\n",
       "2014-08-01 01:00:00    44.5\n",
       "2014-08-01 02:00:00    43.4\n",
       "2014-08-01 03:00:00    42.9\n",
       "2014-08-01 04:00:00    48.9\n",
       "Name: Temperature, dtype: float64"
      ]
     },
     "execution_count": 100,
     "metadata": {},
     "output_type": "execute_result"
    }
   ],
   "source": [
    "august = df['Temperature'].loc['2014-August']\n",
    "august.head()"
   ]
  },
  {
   "cell_type": "code",
   "execution_count": 103,
   "metadata": {
    "collapsed": false
   },
   "outputs": [
    {
     "data": {
      "text/plain": [
       "Date\n",
       "2014-08-01    49.3\n",
       "2014-08-02    49.2\n",
       "2014-08-03    49.7\n",
       "2014-08-04    49.5\n",
       "2014-08-05    48.8\n",
       "2014-08-06    49.9\n",
       "2014-08-07    49.7\n",
       "2014-08-08    49.7\n",
       "2014-08-09    49.3\n",
       "2014-08-10    49.9\n",
       "2014-08-11    49.9\n",
       "2014-08-12    49.1\n",
       "2014-08-13    49.8\n",
       "2014-08-14    49.3\n",
       "2014-08-15    49.9\n",
       "2014-08-16    49.9\n",
       "2014-08-17    49.4\n",
       "2014-08-18    50.0\n",
       "2014-08-19    49.8\n",
       "2014-08-20    49.9\n",
       "2014-08-21    47.9\n",
       "2014-08-22    49.2\n",
       "2014-08-23    49.6\n",
       "2014-08-24    49.4\n",
       "2014-08-25    49.7\n",
       "2014-08-26    49.1\n",
       "2014-08-27    49.6\n",
       "2014-08-28    49.9\n",
       "2014-08-29    49.8\n",
       "2014-08-30    49.8\n",
       "2014-08-31    49.2\n",
       "Freq: D, Name: Temperature, dtype: float64"
      ]
     },
     "execution_count": 103,
     "metadata": {},
     "output_type": "execute_result"
    }
   ],
   "source": [
    "daily_highs = august.resample('D').max()\n",
    "daily_highs"
   ]
  },
  {
   "cell_type": "code",
   "execution_count": 105,
   "metadata": {
    "collapsed": false
   },
   "outputs": [
    {
     "data": {
      "text/plain": [
       "Date\n",
       "2014-08-01     NaN\n",
       "2014-08-02     NaN\n",
       "2014-08-03     NaN\n",
       "2014-08-04     NaN\n",
       "2014-08-05     NaN\n",
       "2014-08-06     NaN\n",
       "2014-08-07    49.9\n",
       "2014-08-08    49.9\n",
       "2014-08-09    49.9\n",
       "2014-08-10    49.9\n",
       "2014-08-11    49.9\n",
       "2014-08-12    49.9\n",
       "2014-08-13    49.9\n",
       "2014-08-14    49.9\n",
       "2014-08-15    49.9\n",
       "2014-08-16    49.9\n",
       "2014-08-17    49.9\n",
       "2014-08-18    50.0\n",
       "2014-08-19    50.0\n",
       "2014-08-20    50.0\n",
       "2014-08-21    50.0\n",
       "2014-08-22    50.0\n",
       "2014-08-23    50.0\n",
       "2014-08-24    50.0\n",
       "2014-08-25    49.9\n",
       "2014-08-26    49.9\n",
       "2014-08-27    49.7\n",
       "2014-08-28    49.9\n",
       "2014-08-29    49.9\n",
       "2014-08-30    49.9\n",
       "2014-08-31    49.9\n",
       "Freq: D, Name: Temperature, dtype: float64"
      ]
     },
     "execution_count": 105,
     "metadata": {},
     "output_type": "execute_result"
    }
   ],
   "source": [
    "daily_highs_smoothed = august.resample('D').max().rolling(window=7).max()\n",
    "daily_highs_smoothed"
   ]
  },
  {
   "cell_type": "code",
   "execution_count": 109,
   "metadata": {
    "collapsed": false
   },
   "outputs": [
    {
     "data": {
      "image/png": "[encoded data removed]",
      "text/plain": [
       "<matplotlib.figure.Figure at 0x1153bef90>"
      ]
     },
     "metadata": {},
     "output_type": "display_data"
    }
   ],
   "source": [
    "pd.DataFrame({'unsmoothed':daily_highs, 'smoothed':daily_highs_smoothed}).plot()\n",
    "plt.show()"
   ]
  },
  {
   "cell_type": "markdown",
   "metadata": {},
   "source": [
    "# Method chaining and filtering"
   ]
  },
  {
   "cell_type": "code",
   "execution_count": 119,
   "metadata": {
    "collapsed": false
   },
   "outputs": [
    {
     "data": {
      "text/html": [
       "<div>\n",
       "<table border=\"1\" class=\"dataframe\">\n",
       "  <thead>\n",
       "    <tr style=\"text-align: right;\">\n",
       "      <th></th>\n",
       "      <th>city</th>\n",
       "    </tr>\n",
       "    <tr>\n",
       "      <th>date</th>\n",
       "      <th></th>\n",
       "    </tr>\n",
       "  </thead>\n",
       "  <tbody>\n",
       "    <tr>\n",
       "      <th>2014-01-01 00:00:00</th>\n",
       "      <td>!!shenzheng!!</td>\n",
       "    </tr>\n",
       "    <tr>\n",
       "      <th>2014-01-01 01:00:00</th>\n",
       "      <td>!beijing</td>\n",
       "    </tr>\n",
       "    <tr>\n",
       "      <th>2014-01-01 02:00:00</th>\n",
       "      <td>!!shanghai!</td>\n",
       "    </tr>\n",
       "    <tr>\n",
       "      <th>2014-01-01 03:00:00</th>\n",
       "      <td>!!hangzhou!</td>\n",
       "    </tr>\n",
       "    <tr>\n",
       "      <th>2014-01-01 04:00:00</th>\n",
       "      <td>!!shenzheng!!</td>\n",
       "    </tr>\n",
       "  </tbody>\n",
       "</table>\n",
       "</div>"
      ],
      "text/plain": [
       "                              city\n",
       "date                              \n",
       "2014-01-01 00:00:00  !!shenzheng!!\n",
       "2014-01-01 01:00:00       !beijing\n",
       "2014-01-01 02:00:00    !!shanghai!\n",
       "2014-01-01 03:00:00    !!hangzhou!\n",
       "2014-01-01 04:00:00  !!shenzheng!!"
      ]
     },
     "execution_count": 119,
     "metadata": {},
     "output_type": "execute_result"
    }
   ],
   "source": [
    "df = pd.read_csv('data/air_plane.csv', parse_dates=True, index_col='date')\n",
    "df.head()"
   ]
  },
  {
   "cell_type": "code",
   "execution_count": 120,
   "metadata": {
    "collapsed": false
   },
   "outputs": [
    {
     "data": {
      "text/html": [
       "<div>\n",
       "<table border=\"1\" class=\"dataframe\">\n",
       "  <thead>\n",
       "    <tr style=\"text-align: right;\">\n",
       "      <th></th>\n",
       "      <th>city</th>\n",
       "    </tr>\n",
       "    <tr>\n",
       "      <th>date</th>\n",
       "      <th></th>\n",
       "    </tr>\n",
       "  </thead>\n",
       "  <tbody>\n",
       "    <tr>\n",
       "      <th>2014-01-01 00:00:00</th>\n",
       "      <td>shenzheng</td>\n",
       "    </tr>\n",
       "    <tr>\n",
       "      <th>2014-01-01 01:00:00</th>\n",
       "      <td>beijing</td>\n",
       "    </tr>\n",
       "    <tr>\n",
       "      <th>2014-01-01 02:00:00</th>\n",
       "      <td>shanghai</td>\n",
       "    </tr>\n",
       "    <tr>\n",
       "      <th>2014-01-01 03:00:00</th>\n",
       "      <td>hangzhou</td>\n",
       "    </tr>\n",
       "    <tr>\n",
       "      <th>2014-01-01 04:00:00</th>\n",
       "      <td>shenzheng</td>\n",
       "    </tr>\n",
       "  </tbody>\n",
       "</table>\n",
       "</div>"
      ],
      "text/plain": [
       "                          city\n",
       "date                          \n",
       "2014-01-01 00:00:00  shenzheng\n",
       "2014-01-01 01:00:00    beijing\n",
       "2014-01-01 02:00:00   shanghai\n",
       "2014-01-01 03:00:00   hangzhou\n",
       "2014-01-01 04:00:00  shenzheng"
      ]
     },
     "execution_count": 120,
     "metadata": {},
     "output_type": "execute_result"
    }
   ],
   "source": [
    "# 删除city中的!\n",
    "df['city'] = df['city'].str.strip('!')\n",
    "df.head()"
   ]
  },
  {
   "cell_type": "code",
   "execution_count": 121,
   "metadata": {
    "collapsed": false
   },
   "outputs": [
    {
     "data": {
      "text/plain": [
       "date\n",
       "2014-01-01 00:00:00    False\n",
       "2014-01-01 01:00:00    False\n",
       "2014-01-01 02:00:00    False\n",
       "2014-01-01 03:00:00    False\n",
       "2014-01-01 04:00:00    False\n",
       "Name: city, dtype: bool"
      ]
     },
     "execution_count": 121,
     "metadata": {},
     "output_type": "execute_result"
    }
   ],
   "source": [
    "wuhan = df['city'].str.contains('wuhan')\n",
    "wuhan.head()"
   ]
  },
  {
   "cell_type": "code",
   "execution_count": 125,
   "metadata": {
    "collapsed": false
   },
   "outputs": [
    {
     "data": {
      "image/png": "[encoded data removed]",
      "text/plain": [
       "<matplotlib.figure.Figure at 0x11878ea10>"
      ]
     },
     "metadata": {},
     "output_type": "display_data"
    }
   ],
   "source": [
    "# 每天起飞的航班数量\n",
    "wuhan.resample('D').sum().rolling(window=7).mean().plot()\n",
    "plt.show()"
   ]
  },
  {
   "cell_type": "code",
   "execution_count": null,
   "metadata": {
    "collapsed": true
   },
   "outputs": [],
   "source": []
  }
 ],
 "metadata": {
  "anaconda-cloud": {},
  "kernelspec": {
   "display_name": "Python [default]",
   "language": "python",
   "name": "python2"
  },
  "language_info": {
   "codemirror_mode": {
    "name": "ipython",
    "version": 2
   },
   "file_extension": ".py",
   "mimetype": "text/x-python",
   "name": "python",
   "nbconvert_exporter": "python",
   "pygments_lexer": "ipython2",
   "version": "2.7.12"
  }
 },
 "nbformat": 4,
 "nbformat_minor": 1
}

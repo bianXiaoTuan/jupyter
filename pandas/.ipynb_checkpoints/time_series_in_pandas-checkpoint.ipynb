{
 "cells": [
  {
   "cell_type": "markdown",
   "metadata": {},
   "source": [
    "# Indexing pandas time series"
   ]
  },
  {
   "cell_type": "code",
   "execution_count": 2,
   "metadata": {
    "collapsed": false
   },
   "outputs": [],
   "source": [
    "import numpy as np\n",
    "import pandas as pd\n",
    "import matplotlib.pyplot as plt"
   ]
  },
  {
   "cell_type": "markdown",
   "metadata": {},
   "source": [
    "# Readning and slicing times"
   ]
  },
  {
   "cell_type": "code",
   "execution_count": 11,
   "metadata": {
    "collapsed": false
   },
   "outputs": [
    {
     "data": {
      "text/html": [
       "<div>\n",
       "<table border=\"1\" class=\"dataframe\">\n",
       "  <thead>\n",
       "    <tr style=\"text-align: right;\">\n",
       "      <th></th>\n",
       "      <th>Temperature (deg F)</th>\n",
       "      <th>Dew Point (deg F)</th>\n",
       "      <th>Pressure (atm)</th>\n",
       "      <th>Date</th>\n",
       "    </tr>\n",
       "  </thead>\n",
       "  <tbody>\n",
       "    <tr>\n",
       "      <th>0</th>\n",
       "      <td>70.1</td>\n",
       "      <td>50.0</td>\n",
       "      <td>0.0</td>\n",
       "      <td>2014-01-01 00:00:00</td>\n",
       "    </tr>\n",
       "    <tr>\n",
       "      <th>1</th>\n",
       "      <td>70.1</td>\n",
       "      <td>50.0</td>\n",
       "      <td>0.0</td>\n",
       "      <td>2014-01-01 01:00:00</td>\n",
       "    </tr>\n",
       "    <tr>\n",
       "      <th>2</th>\n",
       "      <td>70.2</td>\n",
       "      <td>50.1</td>\n",
       "      <td>0.0</td>\n",
       "      <td>2014-01-01 02:00:00</td>\n",
       "    </tr>\n",
       "    <tr>\n",
       "      <th>3</th>\n",
       "      <td>70.2</td>\n",
       "      <td>50.1</td>\n",
       "      <td>0.0</td>\n",
       "      <td>2014-01-01 03:00:00</td>\n",
       "    </tr>\n",
       "    <tr>\n",
       "      <th>4</th>\n",
       "      <td>70.2</td>\n",
       "      <td>50.1</td>\n",
       "      <td>0.0</td>\n",
       "      <td>2014-01-01 04:00:00</td>\n",
       "    </tr>\n",
       "  </tbody>\n",
       "</table>\n",
       "</div>"
      ],
      "text/plain": [
       "   Temperature (deg F)  Dew Point (deg F)  Pressure (atm)                 Date\n",
       "0                 70.1               50.0             0.0  2014-01-01 00:00:00\n",
       "1                 70.1               50.0             0.0  2014-01-01 01:00:00\n",
       "2                 70.2               50.1             0.0  2014-01-01 02:00:00\n",
       "3                 70.2               50.1             0.0  2014-01-01 03:00:00\n",
       "4                 70.2               50.1             0.0  2014-01-01 04:00:00"
      ]
     },
     "execution_count": 11,
     "metadata": {},
     "output_type": "execute_result"
    }
   ],
   "source": [
    "df = pd.read_csv('data/temperature_with_date.csv')\n",
    "df.head()"
   ]
  },
  {
   "cell_type": "code",
   "execution_count": 12,
   "metadata": {
    "collapsed": false
   },
   "outputs": [
    {
     "data": {
      "text/html": [
       "<div>\n",
       "<table border=\"1\" class=\"dataframe\">\n",
       "  <thead>\n",
       "    <tr style=\"text-align: right;\">\n",
       "      <th></th>\n",
       "      <th>Temperature (deg F)</th>\n",
       "      <th>Dew Point (deg F)</th>\n",
       "      <th>Pressure (atm)</th>\n",
       "    </tr>\n",
       "    <tr>\n",
       "      <th>Date</th>\n",
       "      <th></th>\n",
       "      <th></th>\n",
       "      <th></th>\n",
       "    </tr>\n",
       "  </thead>\n",
       "  <tbody>\n",
       "    <tr>\n",
       "      <th>2014-01-01 00:00:00</th>\n",
       "      <td>70.1</td>\n",
       "      <td>50.0</td>\n",
       "      <td>0.0</td>\n",
       "    </tr>\n",
       "    <tr>\n",
       "      <th>2014-01-01 01:00:00</th>\n",
       "      <td>70.1</td>\n",
       "      <td>50.0</td>\n",
       "      <td>0.0</td>\n",
       "    </tr>\n",
       "    <tr>\n",
       "      <th>2014-01-01 02:00:00</th>\n",
       "      <td>70.2</td>\n",
       "      <td>50.1</td>\n",
       "      <td>0.0</td>\n",
       "    </tr>\n",
       "    <tr>\n",
       "      <th>2014-01-01 03:00:00</th>\n",
       "      <td>70.2</td>\n",
       "      <td>50.1</td>\n",
       "      <td>0.0</td>\n",
       "    </tr>\n",
       "    <tr>\n",
       "      <th>2014-01-01 04:00:00</th>\n",
       "      <td>70.2</td>\n",
       "      <td>50.1</td>\n",
       "      <td>0.0</td>\n",
       "    </tr>\n",
       "  </tbody>\n",
       "</table>\n",
       "</div>"
      ],
      "text/plain": [
       "                     Temperature (deg F)  Dew Point (deg F)  Pressure (atm)\n",
       "Date                                                                       \n",
       "2014-01-01 00:00:00                 70.1               50.0             0.0\n",
       "2014-01-01 01:00:00                 70.1               50.0             0.0\n",
       "2014-01-01 02:00:00                 70.2               50.1             0.0\n",
       "2014-01-01 03:00:00                 70.2               50.1             0.0\n",
       "2014-01-01 04:00:00                 70.2               50.1             0.0"
      ]
     },
     "execution_count": 12,
     "metadata": {},
     "output_type": "execute_result"
    }
   ],
   "source": [
    "df = pd.read_csv('data/temperature_with_date.csv', index_col='Date', parse_dates=True)\n",
    "df.head()"
   ]
  },
  {
   "cell_type": "code",
   "execution_count": 14,
   "metadata": {
    "collapsed": false
   },
   "outputs": [
    {
     "data": {
      "text/plain": [
       "Temperature (deg F)    70.1\n",
       "Dew Point (deg F)      50.0\n",
       "Pressure (atm)          0.0\n",
       "Name: 2014-01-01 01:00:00, dtype: float64"
      ]
     },
     "execution_count": 14,
     "metadata": {},
     "output_type": "execute_result"
    }
   ],
   "source": [
    "df.loc['2014-01-01 01:00:00']"
   ]
  },
  {
   "cell_type": "markdown",
   "metadata": {},
   "source": [
    "# Creating and using a DatetimeIndex"
   ]
  },
  {
   "cell_type": "code",
   "execution_count": 34,
   "metadata": {
    "collapsed": false
   },
   "outputs": [
    {
     "data": {
      "text/plain": [
       "['20140101 00:00',\n",
       " '20140101 01:00',\n",
       " '20140101 02:00',\n",
       " '20140101 03:00',\n",
       " '20140101 04:00']"
      ]
     },
     "execution_count": 34,
     "metadata": {},
     "output_type": "execute_result"
    }
   ],
   "source": [
    "from datetime import datetime\n",
    "\n",
    "# 构建奇葩的time series\n",
    "dates = pd.date_range('2014-01-01 00:00:00', periods=100, freq='1H')\n",
    "dates = [date.strftime('%Y%m%d %H:%M') for date in dates]\n",
    "dates[0:5]"
   ]
  },
  {
   "cell_type": "code",
   "execution_count": 40,
   "metadata": {
    "collapsed": false
   },
   "outputs": [
    {
     "data": {
      "text/plain": [
       "DatetimeIndex(['2014-01-01 00:00:00', '2014-01-01 01:00:00',\n",
       "               '2014-01-01 02:00:00', '2014-01-01 03:00:00',\n",
       "               '2014-01-01 04:00:00'],\n",
       "              dtype='datetime64[ns]', freq=None)"
      ]
     },
     "execution_count": 40,
     "metadata": {},
     "output_type": "execute_result"
    }
   ],
   "source": [
    "# 转成格式化的DatetimeIndex\n",
    "datetimes = pd.to_datetime(dates, format='%Y-%m-%d %H:%M:%S')\n",
    "datetimes[0:5]"
   ]
  },
  {
   "cell_type": "code",
   "execution_count": 43,
   "metadata": {
    "collapsed": false
   },
   "outputs": [
    {
     "data": {
      "text/plain": [
       "2014-01-01 00:00:00    1.179114\n",
       "2014-01-01 01:00:00    1.144815\n",
       "2014-01-01 02:00:00   -0.139964\n",
       "2014-01-01 03:00:00    0.394016\n",
       "2014-01-01 04:00:00    1.326695\n",
       "dtype: float64"
      ]
     },
     "execution_count": 43,
     "metadata": {},
     "output_type": "execute_result"
    }
   ],
   "source": [
    "# 以DatetimeInde为索引构建Series\n",
    "series = pd.Series(np.random.randn(100), index = datetimes)\n",
    "series.head()"
   ]
  },
  {
   "cell_type": "markdown",
   "metadata": {},
   "source": [
    "# Partial string indexing and slicing"
   ]
  },
  {
   "cell_type": "code",
   "execution_count": 45,
   "metadata": {
    "collapsed": false
   },
   "outputs": [
    {
     "data": {
      "text/plain": [
       "2014-01-01 00:00:00    1.179114\n",
       "2014-01-01 01:00:00    1.144815\n",
       "2014-01-01 02:00:00   -0.139964\n",
       "2014-01-01 03:00:00    0.394016\n",
       "2014-01-01 04:00:00    1.326695\n",
       "dtype: float64"
      ]
     },
     "execution_count": 45,
     "metadata": {},
     "output_type": "execute_result"
    }
   ],
   "source": [
    "series.head()"
   ]
  },
  {
   "cell_type": "code",
   "execution_count": 47,
   "metadata": {
    "collapsed": false
   },
   "outputs": [
    {
     "data": {
      "text/plain": [
       "-0.13996423306414421"
      ]
     },
     "execution_count": 47,
     "metadata": {},
     "output_type": "execute_result"
    }
   ],
   "source": [
    "series.loc['2014-01-01 02:00:00']"
   ]
  },
  {
   "cell_type": "code",
   "execution_count": 48,
   "metadata": {
    "collapsed": false
   },
   "outputs": [
    {
     "data": {
      "text/plain": [
       "2014-01-01 00:00:00    1.179114\n",
       "2014-01-01 01:00:00    1.144815\n",
       "2014-01-01 02:00:00   -0.139964\n",
       "2014-01-01 03:00:00    0.394016\n",
       "2014-01-01 04:00:00    1.326695\n",
       "2014-01-01 05:00:00    0.846242\n",
       "2014-01-01 06:00:00   -0.284385\n",
       "2014-01-01 07:00:00    0.132625\n",
       "2014-01-01 08:00:00   -1.489304\n",
       "2014-01-01 09:00:00    0.845247\n",
       "2014-01-01 10:00:00   -0.190809\n",
       "2014-01-01 11:00:00   -0.052209\n",
       "2014-01-01 12:00:00    1.838720\n",
       "2014-01-01 13:00:00   -0.726570\n",
       "2014-01-01 14:00:00    1.089657\n",
       "2014-01-01 15:00:00   -2.598899\n",
       "2014-01-01 16:00:00   -0.752987\n",
       "2014-01-01 17:00:00    0.432658\n",
       "2014-01-01 18:00:00   -2.153558\n",
       "2014-01-01 19:00:00   -1.261777\n",
       "2014-01-01 20:00:00   -0.054899\n",
       "2014-01-01 21:00:00    1.733527\n",
       "2014-01-01 22:00:00    0.288773\n",
       "2014-01-01 23:00:00   -0.865243\n",
       "dtype: float64"
      ]
     },
     "execution_count": 48,
     "metadata": {},
     "output_type": "execute_result"
    }
   ],
   "source": [
    "series.loc['2014-01-01']"
   ]
  },
  {
   "cell_type": "code",
   "execution_count": 49,
   "metadata": {
    "collapsed": false
   },
   "outputs": [
    {
     "data": {
      "text/plain": [
       "2014-01-01 01:00:00    1.144815\n",
       "2014-01-01 02:00:00   -0.139964\n",
       "2014-01-01 03:00:00    0.394016\n",
       "2014-01-01 04:00:00    1.326695\n",
       "2014-01-01 05:00:00    0.846242\n",
       "dtype: float64"
      ]
     },
     "execution_count": 49,
     "metadata": {},
     "output_type": "execute_result"
    }
   ],
   "source": [
    "series.loc['2014-01-01 01:00:00':'2014-01-01 05:00:00']"
   ]
  },
  {
   "cell_type": "markdown",
   "metadata": {},
   "source": []
  },
  {
   "cell_type": "markdown",
   "metadata": {},
   "source": [
    "# Reindexing the Index"
   ]
  },
  {
   "cell_type": "markdown",
   "metadata": {},
   "source": [
    "* Reindexing is useful in preparation for adding or otherwise combining two time series data sets. \n",
    "* To reindex the data, we provide a new index and ask pandas to try and match the old data to the new index. \n",
    "* If data is unavailble for one of the new index dates or times, you must tell pandas how to fill it in. \n",
    "* Otherwise, pandas will fill with NaN by default."
   ]
  },
  {
   "cell_type": "code",
   "execution_count": 56,
   "metadata": {
    "collapsed": false
   },
   "outputs": [
    {
     "data": {
      "text/plain": [
       "2016-07-01     0\n",
       "2016-07-02     1\n",
       "2016-07-03     2\n",
       "2016-07-04     3\n",
       "2016-07-05     4\n",
       "2016-07-06     5\n",
       "2016-07-07     6\n",
       "2016-07-08     7\n",
       "2016-07-09     8\n",
       "2016-07-10     9\n",
       "2016-07-11    10\n",
       "2016-07-12    11\n",
       "2016-07-13    12\n",
       "2016-07-14    13\n",
       "2016-07-15    14\n",
       "2016-07-16    15\n",
       "2016-07-17    16\n",
       "2016-07-18    17\n",
       "2016-07-19    18\n",
       "2016-07-20    19\n",
       "Freq: D, dtype: int64"
      ]
     },
     "execution_count": 56,
     "metadata": {},
     "output_type": "execute_result"
    }
   ],
   "source": [
    "ts1 = pd.date_range('2016-07-01', periods=20)\n",
    "ts1 = pd.Series(range(20), index = ts1)\n",
    "ts1"
   ]
  },
  {
   "cell_type": "code",
   "execution_count": 57,
   "metadata": {
    "collapsed": false
   },
   "outputs": [
    {
     "data": {
      "text/plain": [
       "2016-07-11     0\n",
       "2016-07-12     1\n",
       "2016-07-13     2\n",
       "2016-07-14     3\n",
       "2016-07-15     4\n",
       "2016-07-16     5\n",
       "2016-07-17     6\n",
       "2016-07-18     7\n",
       "2016-07-19     8\n",
       "2016-07-20     9\n",
       "2016-07-21    10\n",
       "2016-07-22    11\n",
       "2016-07-23    12\n",
       "2016-07-24    13\n",
       "2016-07-25    14\n",
       "2016-07-26    15\n",
       "2016-07-27    16\n",
       "2016-07-28    17\n",
       "2016-07-29    18\n",
       "2016-07-30    19\n",
       "Freq: D, dtype: int64"
      ]
     },
     "execution_count": 57,
     "metadata": {},
     "output_type": "execute_result"
    }
   ],
   "source": [
    "ts2 = pd.date_range('2016-07-11', periods=20)\n",
    "ts2 = pd.Series(range(20), index = ts2)\n",
    "ts2"
   ]
  },
  {
   "cell_type": "code",
   "execution_count": 59,
   "metadata": {
    "collapsed": false
   },
   "outputs": [
    {
     "data": {
      "text/plain": [
       "2016-07-01    NaN\n",
       "2016-07-02    NaN\n",
       "2016-07-03    NaN\n",
       "2016-07-04    NaN\n",
       "2016-07-05    NaN\n",
       "2016-07-06    NaN\n",
       "2016-07-07    NaN\n",
       "2016-07-08    NaN\n",
       "2016-07-09    NaN\n",
       "2016-07-10    NaN\n",
       "2016-07-11    0.0\n",
       "2016-07-12    1.0\n",
       "2016-07-13    2.0\n",
       "2016-07-14    3.0\n",
       "2016-07-15    4.0\n",
       "2016-07-16    5.0\n",
       "2016-07-17    6.0\n",
       "2016-07-18    7.0\n",
       "2016-07-19    8.0\n",
       "2016-07-20    9.0\n",
       "Freq: D, dtype: float64"
      ]
     },
     "execution_count": 59,
     "metadata": {},
     "output_type": "execute_result"
    }
   ],
   "source": [
    "# 创建一个新的index，用ts1的来匹配ts2\n",
    "ts3 = ts2.reindex(ts1.index)\n",
    "ts3"
   ]
  },
  {
   "cell_type": "code",
   "execution_count": 60,
   "metadata": {
    "collapsed": false
   },
   "outputs": [
    {
     "data": {
      "text/plain": [
       "2016-07-01    NaN\n",
       "2016-07-02    NaN\n",
       "2016-07-03    NaN\n",
       "2016-07-04    NaN\n",
       "2016-07-05    NaN\n",
       "2016-07-06    NaN\n",
       "2016-07-07    NaN\n",
       "2016-07-08    NaN\n",
       "2016-07-09    NaN\n",
       "2016-07-10    NaN\n",
       "2016-07-11    0.0\n",
       "2016-07-12    1.0\n",
       "2016-07-13    2.0\n",
       "2016-07-14    3.0\n",
       "2016-07-15    4.0\n",
       "2016-07-16    5.0\n",
       "2016-07-17    6.0\n",
       "2016-07-18    7.0\n",
       "2016-07-19    8.0\n",
       "2016-07-20    9.0\n",
       "Freq: D, dtype: float64"
      ]
     },
     "execution_count": 60,
     "metadata": {},
     "output_type": "execute_result"
    }
   ],
   "source": [
    "ts4 = ts2.reindex(ts1.index, method = 'ffill')\n",
    "ts4"
   ]
  },
  {
   "cell_type": "code",
   "execution_count": 61,
   "metadata": {
    "collapsed": false
   },
   "outputs": [
    {
     "data": {
      "text/plain": [
       "2016-07-01    0\n",
       "2016-07-02    0\n",
       "2016-07-03    0\n",
       "2016-07-04    0\n",
       "2016-07-05    0\n",
       "2016-07-06    0\n",
       "2016-07-07    0\n",
       "2016-07-08    0\n",
       "2016-07-09    0\n",
       "2016-07-10    0\n",
       "2016-07-11    0\n",
       "2016-07-12    1\n",
       "2016-07-13    2\n",
       "2016-07-14    3\n",
       "2016-07-15    4\n",
       "2016-07-16    5\n",
       "2016-07-17    6\n",
       "2016-07-18    7\n",
       "2016-07-19    8\n",
       "2016-07-20    9\n",
       "Freq: D, dtype: int64"
      ]
     },
     "execution_count": 61,
     "metadata": {},
     "output_type": "execute_result"
    }
   ],
   "source": [
    "ts5 = ts2.reindex(ts1.index, method = 'bfill')\n",
    "ts5"
   ]
  },
  {
   "cell_type": "code",
   "execution_count": 62,
   "metadata": {
    "collapsed": false
   },
   "outputs": [
    {
     "data": {
      "text/plain": [
       "2016-07-01     NaN\n",
       "2016-07-02     NaN\n",
       "2016-07-03     NaN\n",
       "2016-07-04     NaN\n",
       "2016-07-05     NaN\n",
       "2016-07-06     NaN\n",
       "2016-07-07     NaN\n",
       "2016-07-08     NaN\n",
       "2016-07-09     NaN\n",
       "2016-07-10     NaN\n",
       "2016-07-11    10.0\n",
       "2016-07-12    12.0\n",
       "2016-07-13    14.0\n",
       "2016-07-14    16.0\n",
       "2016-07-15    18.0\n",
       "2016-07-16    20.0\n",
       "2016-07-17    22.0\n",
       "2016-07-18    24.0\n",
       "2016-07-19    26.0\n",
       "2016-07-20    28.0\n",
       "2016-07-21     NaN\n",
       "2016-07-22     NaN\n",
       "2016-07-23     NaN\n",
       "2016-07-24     NaN\n",
       "2016-07-25     NaN\n",
       "2016-07-26     NaN\n",
       "2016-07-27     NaN\n",
       "2016-07-28     NaN\n",
       "2016-07-29     NaN\n",
       "2016-07-30     NaN\n",
       "Freq: D, dtype: float64"
      ]
     },
     "execution_count": 62,
     "metadata": {},
     "output_type": "execute_result"
    }
   ],
   "source": [
    "ts1 + ts2"
   ]
  },
  {
   "cell_type": "code",
   "execution_count": 63,
   "metadata": {
    "collapsed": false
   },
   "outputs": [
    {
     "data": {
      "text/plain": [
       "2016-07-01     NaN\n",
       "2016-07-02     NaN\n",
       "2016-07-03     NaN\n",
       "2016-07-04     NaN\n",
       "2016-07-05     NaN\n",
       "2016-07-06     NaN\n",
       "2016-07-07     NaN\n",
       "2016-07-08     NaN\n",
       "2016-07-09     NaN\n",
       "2016-07-10     NaN\n",
       "2016-07-11    10.0\n",
       "2016-07-12    12.0\n",
       "2016-07-13    14.0\n",
       "2016-07-14    16.0\n",
       "2016-07-15    18.0\n",
       "2016-07-16    20.0\n",
       "2016-07-17    22.0\n",
       "2016-07-18    24.0\n",
       "2016-07-19    26.0\n",
       "2016-07-20    28.0\n",
       "Freq: D, dtype: float64"
      ]
     },
     "execution_count": 63,
     "metadata": {},
     "output_type": "execute_result"
    }
   ],
   "source": [
    "ts1 + ts3"
   ]
  },
  {
   "cell_type": "code",
   "execution_count": 64,
   "metadata": {
    "collapsed": false
   },
   "outputs": [
    {
     "data": {
      "text/plain": [
       "2016-07-01     NaN\n",
       "2016-07-02     NaN\n",
       "2016-07-03     NaN\n",
       "2016-07-04     NaN\n",
       "2016-07-05     NaN\n",
       "2016-07-06     NaN\n",
       "2016-07-07     NaN\n",
       "2016-07-08     NaN\n",
       "2016-07-09     NaN\n",
       "2016-07-10     NaN\n",
       "2016-07-11    10.0\n",
       "2016-07-12    12.0\n",
       "2016-07-13    14.0\n",
       "2016-07-14    16.0\n",
       "2016-07-15    18.0\n",
       "2016-07-16    20.0\n",
       "2016-07-17    22.0\n",
       "2016-07-18    24.0\n",
       "2016-07-19    26.0\n",
       "2016-07-20    28.0\n",
       "Freq: D, dtype: float64"
      ]
     },
     "execution_count": 64,
     "metadata": {},
     "output_type": "execute_result"
    }
   ],
   "source": [
    "ts1 + ts4"
   ]
  },
  {
   "cell_type": "code",
   "execution_count": 65,
   "metadata": {
    "collapsed": false
   },
   "outputs": [
    {
     "data": {
      "text/plain": [
       "2016-07-01     0\n",
       "2016-07-02     1\n",
       "2016-07-03     2\n",
       "2016-07-04     3\n",
       "2016-07-05     4\n",
       "2016-07-06     5\n",
       "2016-07-07     6\n",
       "2016-07-08     7\n",
       "2016-07-09     8\n",
       "2016-07-10     9\n",
       "2016-07-11    10\n",
       "2016-07-12    12\n",
       "2016-07-13    14\n",
       "2016-07-14    16\n",
       "2016-07-15    18\n",
       "2016-07-16    20\n",
       "2016-07-17    22\n",
       "2016-07-18    24\n",
       "2016-07-19    26\n",
       "2016-07-20    28\n",
       "Freq: D, dtype: int64"
      ]
     },
     "execution_count": 65,
     "metadata": {},
     "output_type": "execute_result"
    }
   ],
   "source": [
    "ts1 + ts5"
   ]
  }
 ],
 "metadata": {
  "kernelspec": {
   "display_name": "Python [default]",
   "language": "python",
   "name": "python2"
  },
  "language_info": {
   "codemirror_mode": {
    "name": "ipython",
    "version": 2
   },
   "file_extension": ".py",
   "mimetype": "text/x-python",
   "name": "python",
   "nbconvert_exporter": "python",
   "pygments_lexer": "ipython2",
   "version": "2.7.12"
  }
 },
 "nbformat": 4,
 "nbformat_minor": 1
}

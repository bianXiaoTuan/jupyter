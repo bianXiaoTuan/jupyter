{
 "cells": [
  {
   "cell_type": "code",
   "execution_count": 2,
   "metadata": {
    "collapsed": false
   },
   "outputs": [],
   "source": [
    "import numpy as np\n",
    "import pandas as pd\n",
    "import matplotlib.pyplot as plt"
   ]
  },
  {
   "cell_type": "markdown",
   "metadata": {},
   "source": [
    "# Reading an cleaning data"
   ]
  },
  {
   "cell_type": "markdown",
   "metadata": {},
   "source": [
    "## Reading in a data file"
   ]
  },
  {
   "cell_type": "code",
   "execution_count": 4,
   "metadata": {
    "collapsed": false
   },
   "outputs": [
    {
     "data": {
      "text/html": [
       "<div>\n",
       "<table border=\"1\" class=\"dataframe\">\n",
       "  <thead>\n",
       "    <tr style=\"text-align: right;\">\n",
       "      <th></th>\n",
       "      <th>0</th>\n",
       "      <th>1</th>\n",
       "      <th>2</th>\n",
       "      <th>3</th>\n",
       "      <th>4</th>\n",
       "      <th>5</th>\n",
       "      <th>6</th>\n",
       "      <th>7</th>\n",
       "      <th>8</th>\n",
       "      <th>9</th>\n",
       "      <th>...</th>\n",
       "      <th>34</th>\n",
       "      <th>35</th>\n",
       "      <th>36</th>\n",
       "      <th>37</th>\n",
       "      <th>38</th>\n",
       "      <th>39</th>\n",
       "      <th>40</th>\n",
       "      <th>41</th>\n",
       "      <th>42</th>\n",
       "      <th>43</th>\n",
       "    </tr>\n",
       "  </thead>\n",
       "  <tbody>\n",
       "    <tr>\n",
       "      <th>0</th>\n",
       "      <td>13904</td>\n",
       "      <td>20110101</td>\n",
       "      <td>53</td>\n",
       "      <td>12</td>\n",
       "      <td>OVC045</td>\n",
       "      <td></td>\n",
       "      <td>10.00</td>\n",
       "      <td></td>\n",
       "      <td></td>\n",
       "      <td></td>\n",
       "      <td>...</td>\n",
       "      <td></td>\n",
       "      <td></td>\n",
       "      <td>29.95</td>\n",
       "      <td></td>\n",
       "      <td>AA</td>\n",
       "      <td></td>\n",
       "      <td></td>\n",
       "      <td></td>\n",
       "      <td>29.95</td>\n",
       "      <td></td>\n",
       "    </tr>\n",
       "    <tr>\n",
       "      <th>1</th>\n",
       "      <td>13904</td>\n",
       "      <td>20110101</td>\n",
       "      <td>153</td>\n",
       "      <td>12</td>\n",
       "      <td>OVC049</td>\n",
       "      <td></td>\n",
       "      <td>10.00</td>\n",
       "      <td></td>\n",
       "      <td></td>\n",
       "      <td></td>\n",
       "      <td>...</td>\n",
       "      <td></td>\n",
       "      <td></td>\n",
       "      <td>30.01</td>\n",
       "      <td></td>\n",
       "      <td>AA</td>\n",
       "      <td></td>\n",
       "      <td></td>\n",
       "      <td></td>\n",
       "      <td>30.02</td>\n",
       "      <td></td>\n",
       "    </tr>\n",
       "    <tr>\n",
       "      <th>2</th>\n",
       "      <td>13904</td>\n",
       "      <td>20110101</td>\n",
       "      <td>253</td>\n",
       "      <td>12</td>\n",
       "      <td>OVC060</td>\n",
       "      <td></td>\n",
       "      <td>10.00</td>\n",
       "      <td></td>\n",
       "      <td></td>\n",
       "      <td></td>\n",
       "      <td>...</td>\n",
       "      <td>030</td>\n",
       "      <td></td>\n",
       "      <td>30.01</td>\n",
       "      <td></td>\n",
       "      <td>AA</td>\n",
       "      <td></td>\n",
       "      <td></td>\n",
       "      <td></td>\n",
       "      <td>30.02</td>\n",
       "      <td></td>\n",
       "    </tr>\n",
       "    <tr>\n",
       "      <th>3</th>\n",
       "      <td>13904</td>\n",
       "      <td>20110101</td>\n",
       "      <td>353</td>\n",
       "      <td>12</td>\n",
       "      <td>OVC065</td>\n",
       "      <td></td>\n",
       "      <td>10.00</td>\n",
       "      <td></td>\n",
       "      <td></td>\n",
       "      <td></td>\n",
       "      <td>...</td>\n",
       "      <td></td>\n",
       "      <td></td>\n",
       "      <td>30.03</td>\n",
       "      <td></td>\n",
       "      <td>AA</td>\n",
       "      <td></td>\n",
       "      <td></td>\n",
       "      <td></td>\n",
       "      <td>30.04</td>\n",
       "      <td></td>\n",
       "    </tr>\n",
       "    <tr>\n",
       "      <th>4</th>\n",
       "      <td>13904</td>\n",
       "      <td>20110101</td>\n",
       "      <td>453</td>\n",
       "      <td>12</td>\n",
       "      <td>BKN070</td>\n",
       "      <td></td>\n",
       "      <td>10.00</td>\n",
       "      <td></td>\n",
       "      <td></td>\n",
       "      <td></td>\n",
       "      <td>...</td>\n",
       "      <td></td>\n",
       "      <td></td>\n",
       "      <td>30.04</td>\n",
       "      <td></td>\n",
       "      <td>AA</td>\n",
       "      <td></td>\n",
       "      <td></td>\n",
       "      <td></td>\n",
       "      <td>30.04</td>\n",
       "      <td></td>\n",
       "    </tr>\n",
       "  </tbody>\n",
       "</table>\n",
       "<p>5 rows × 44 columns</p>\n",
       "</div>"
      ],
      "text/plain": [
       "      0         1    2   3       4  5      6  7  8  9  ...   34 35     36 37  \\\n",
       "0  13904  20110101   53  12  OVC045     10.00          ...          29.95      \n",
       "1  13904  20110101  153  12  OVC049     10.00          ...          30.01      \n",
       "2  13904  20110101  253  12  OVC060     10.00          ...  030     30.01      \n",
       "3  13904  20110101  353  12  OVC065     10.00          ...          30.03      \n",
       "4  13904  20110101  453  12  BKN070     10.00          ...          30.04      \n",
       "\n",
       "   38 39 40 41     42 43  \n",
       "0  AA           29.95     \n",
       "1  AA           30.02     \n",
       "2  AA           30.02     \n",
       "3  AA           30.04     \n",
       "4  AA           30.04     \n",
       "\n",
       "[5 rows x 44 columns]"
      ]
     },
     "execution_count": 4,
     "metadata": {},
     "output_type": "execute_result"
    }
   ],
   "source": [
    "df = pd.read_csv('data/NOAA_QCLCD_2011_hourly_13904.csv', header=-1)\n",
    "df.head()"
   ]
  },
  {
   "cell_type": "markdown",
   "metadata": {},
   "source": [
    "## Re-assigning column names"
   ]
  },
  {
   "cell_type": "code",
   "execution_count": 6,
   "metadata": {
    "collapsed": false
   },
   "outputs": [
    {
     "data": {
      "text/plain": [
       "44"
      ]
     },
     "execution_count": 6,
     "metadata": {},
     "output_type": "execute_result"
    }
   ],
   "source": [
    "column_labels = 'Wban,date,Time,StationType,sky_condition,sky_conditionFlag,visibility,visibilityFlag,wx_and_obst_to_vision,wx_and_obst_to_visionFlag,dry_bulb_faren,dry_bulb_farenFlag,dry_bulb_cel,dry_bulb_celFlag,wet_bulb_faren,wet_bulb_farenFlag,wet_bulb_cel,wet_bulb_celFlag,dew_point_faren,dew_point_farenFlag,dew_point_cel,dew_point_celFlag,relative_humidity,relative_humidityFlag,wind_speed,wind_speedFlag,wind_direction,wind_directionFlag,value_for_wind_character,value_for_wind_characterFlag,station_pressure,station_pressureFlag,pressure_tendency,pressure_tendencyFlag,presschange,presschangeFlag,sea_level_pressure,sea_level_pressureFlag,record_type,hourly_precip,hourly_precipFlag,altimeter,altimeterFlag,junk'\n",
    "column_labels_list = column_labels.split(',')\n",
    "len(column_labels_list)"
   ]
  },
  {
   "cell_type": "code",
   "execution_count": 7,
   "metadata": {
    "collapsed": false
   },
   "outputs": [
    {
     "data": {
      "text/html": [
       "<div>\n",
       "<table border=\"1\" class=\"dataframe\">\n",
       "  <thead>\n",
       "    <tr style=\"text-align: right;\">\n",
       "      <th></th>\n",
       "      <th>Wban</th>\n",
       "      <th>date</th>\n",
       "      <th>Time</th>\n",
       "      <th>StationType</th>\n",
       "      <th>sky_condition</th>\n",
       "      <th>sky_conditionFlag</th>\n",
       "      <th>visibility</th>\n",
       "      <th>visibilityFlag</th>\n",
       "      <th>wx_and_obst_to_vision</th>\n",
       "      <th>wx_and_obst_to_visionFlag</th>\n",
       "      <th>...</th>\n",
       "      <th>presschange</th>\n",
       "      <th>presschangeFlag</th>\n",
       "      <th>sea_level_pressure</th>\n",
       "      <th>sea_level_pressureFlag</th>\n",
       "      <th>record_type</th>\n",
       "      <th>hourly_precip</th>\n",
       "      <th>hourly_precipFlag</th>\n",
       "      <th>altimeter</th>\n",
       "      <th>altimeterFlag</th>\n",
       "      <th>junk</th>\n",
       "    </tr>\n",
       "  </thead>\n",
       "  <tbody>\n",
       "    <tr>\n",
       "      <th>0</th>\n",
       "      <td>13904</td>\n",
       "      <td>20110101</td>\n",
       "      <td>53</td>\n",
       "      <td>12</td>\n",
       "      <td>OVC045</td>\n",
       "      <td></td>\n",
       "      <td>10.00</td>\n",
       "      <td></td>\n",
       "      <td></td>\n",
       "      <td></td>\n",
       "      <td>...</td>\n",
       "      <td></td>\n",
       "      <td></td>\n",
       "      <td>29.95</td>\n",
       "      <td></td>\n",
       "      <td>AA</td>\n",
       "      <td></td>\n",
       "      <td></td>\n",
       "      <td></td>\n",
       "      <td>29.95</td>\n",
       "      <td></td>\n",
       "    </tr>\n",
       "    <tr>\n",
       "      <th>1</th>\n",
       "      <td>13904</td>\n",
       "      <td>20110101</td>\n",
       "      <td>153</td>\n",
       "      <td>12</td>\n",
       "      <td>OVC049</td>\n",
       "      <td></td>\n",
       "      <td>10.00</td>\n",
       "      <td></td>\n",
       "      <td></td>\n",
       "      <td></td>\n",
       "      <td>...</td>\n",
       "      <td></td>\n",
       "      <td></td>\n",
       "      <td>30.01</td>\n",
       "      <td></td>\n",
       "      <td>AA</td>\n",
       "      <td></td>\n",
       "      <td></td>\n",
       "      <td></td>\n",
       "      <td>30.02</td>\n",
       "      <td></td>\n",
       "    </tr>\n",
       "    <tr>\n",
       "      <th>2</th>\n",
       "      <td>13904</td>\n",
       "      <td>20110101</td>\n",
       "      <td>253</td>\n",
       "      <td>12</td>\n",
       "      <td>OVC060</td>\n",
       "      <td></td>\n",
       "      <td>10.00</td>\n",
       "      <td></td>\n",
       "      <td></td>\n",
       "      <td></td>\n",
       "      <td>...</td>\n",
       "      <td>030</td>\n",
       "      <td></td>\n",
       "      <td>30.01</td>\n",
       "      <td></td>\n",
       "      <td>AA</td>\n",
       "      <td></td>\n",
       "      <td></td>\n",
       "      <td></td>\n",
       "      <td>30.02</td>\n",
       "      <td></td>\n",
       "    </tr>\n",
       "    <tr>\n",
       "      <th>3</th>\n",
       "      <td>13904</td>\n",
       "      <td>20110101</td>\n",
       "      <td>353</td>\n",
       "      <td>12</td>\n",
       "      <td>OVC065</td>\n",
       "      <td></td>\n",
       "      <td>10.00</td>\n",
       "      <td></td>\n",
       "      <td></td>\n",
       "      <td></td>\n",
       "      <td>...</td>\n",
       "      <td></td>\n",
       "      <td></td>\n",
       "      <td>30.03</td>\n",
       "      <td></td>\n",
       "      <td>AA</td>\n",
       "      <td></td>\n",
       "      <td></td>\n",
       "      <td></td>\n",
       "      <td>30.04</td>\n",
       "      <td></td>\n",
       "    </tr>\n",
       "    <tr>\n",
       "      <th>4</th>\n",
       "      <td>13904</td>\n",
       "      <td>20110101</td>\n",
       "      <td>453</td>\n",
       "      <td>12</td>\n",
       "      <td>BKN070</td>\n",
       "      <td></td>\n",
       "      <td>10.00</td>\n",
       "      <td></td>\n",
       "      <td></td>\n",
       "      <td></td>\n",
       "      <td>...</td>\n",
       "      <td></td>\n",
       "      <td></td>\n",
       "      <td>30.04</td>\n",
       "      <td></td>\n",
       "      <td>AA</td>\n",
       "      <td></td>\n",
       "      <td></td>\n",
       "      <td></td>\n",
       "      <td>30.04</td>\n",
       "      <td></td>\n",
       "    </tr>\n",
       "  </tbody>\n",
       "</table>\n",
       "<p>5 rows × 44 columns</p>\n",
       "</div>"
      ],
      "text/plain": [
       "    Wban      date  Time  StationType sky_condition sky_conditionFlag  \\\n",
       "0  13904  20110101    53           12        OVC045                     \n",
       "1  13904  20110101   153           12        OVC049                     \n",
       "2  13904  20110101   253           12        OVC060                     \n",
       "3  13904  20110101   353           12        OVC065                     \n",
       "4  13904  20110101   453           12        BKN070                     \n",
       "\n",
       "  visibility visibilityFlag wx_and_obst_to_vision wx_and_obst_to_visionFlag  \\\n",
       "0      10.00                                                                  \n",
       "1      10.00                                                                  \n",
       "2      10.00                                                                  \n",
       "3      10.00                                                                  \n",
       "4      10.00                                                                  \n",
       "\n",
       "  ...  presschange presschangeFlag sea_level_pressure sea_level_pressureFlag  \\\n",
       "0 ...                                           29.95                          \n",
       "1 ...                                           30.01                          \n",
       "2 ...          030                              30.01                          \n",
       "3 ...                                           30.03                          \n",
       "4 ...                                           30.04                          \n",
       "\n",
       "  record_type hourly_precip hourly_precipFlag altimeter altimeterFlag junk  \n",
       "0          AA                                                   29.95       \n",
       "1          AA                                                   30.02       \n",
       "2          AA                                                   30.02       \n",
       "3          AA                                                   30.04       \n",
       "4          AA                                                   30.04       \n",
       "\n",
       "[5 rows x 44 columns]"
      ]
     },
     "execution_count": 7,
     "metadata": {},
     "output_type": "execute_result"
    }
   ],
   "source": [
    "df.columns = column_labels_list\n",
    "df.head()"
   ]
  },
  {
   "cell_type": "markdown",
   "metadata": {},
   "source": [
    "## Drop unuse columns"
   ]
  },
  {
   "cell_type": "code",
   "execution_count": 10,
   "metadata": {
    "collapsed": false
   },
   "outputs": [
    {
     "data": {
      "text/html": [
       "<div>\n",
       "<table border=\"1\" class=\"dataframe\">\n",
       "  <thead>\n",
       "    <tr style=\"text-align: right;\">\n",
       "      <th></th>\n",
       "      <th>Wban</th>\n",
       "      <th>date</th>\n",
       "      <th>Time</th>\n",
       "      <th>StationType</th>\n",
       "      <th>sky_condition</th>\n",
       "      <th>visibility</th>\n",
       "      <th>dry_bulb_faren</th>\n",
       "      <th>dry_bulb_cel</th>\n",
       "      <th>wet_bulb_faren</th>\n",
       "      <th>wet_bulb_cel</th>\n",
       "      <th>dew_point_faren</th>\n",
       "      <th>dew_point_cel</th>\n",
       "      <th>relative_humidity</th>\n",
       "      <th>wind_speed</th>\n",
       "      <th>wind_direction</th>\n",
       "      <th>station_pressure</th>\n",
       "      <th>sea_level_pressure</th>\n",
       "    </tr>\n",
       "  </thead>\n",
       "  <tbody>\n",
       "    <tr>\n",
       "      <th>0</th>\n",
       "      <td>13904</td>\n",
       "      <td>20110101</td>\n",
       "      <td>53</td>\n",
       "      <td>12</td>\n",
       "      <td>OVC045</td>\n",
       "      <td>10.00</td>\n",
       "      <td>51</td>\n",
       "      <td>10.6</td>\n",
       "      <td>38</td>\n",
       "      <td>3.1</td>\n",
       "      <td>15</td>\n",
       "      <td>-9.4</td>\n",
       "      <td>24</td>\n",
       "      <td>15</td>\n",
       "      <td>360</td>\n",
       "      <td>29.42</td>\n",
       "      <td>29.95</td>\n",
       "    </tr>\n",
       "    <tr>\n",
       "      <th>1</th>\n",
       "      <td>13904</td>\n",
       "      <td>20110101</td>\n",
       "      <td>153</td>\n",
       "      <td>12</td>\n",
       "      <td>OVC049</td>\n",
       "      <td>10.00</td>\n",
       "      <td>51</td>\n",
       "      <td>10.6</td>\n",
       "      <td>37</td>\n",
       "      <td>3.0</td>\n",
       "      <td>14</td>\n",
       "      <td>-10.0</td>\n",
       "      <td>23</td>\n",
       "      <td>10</td>\n",
       "      <td>340</td>\n",
       "      <td>29.49</td>\n",
       "      <td>30.01</td>\n",
       "    </tr>\n",
       "    <tr>\n",
       "      <th>2</th>\n",
       "      <td>13904</td>\n",
       "      <td>20110101</td>\n",
       "      <td>253</td>\n",
       "      <td>12</td>\n",
       "      <td>OVC060</td>\n",
       "      <td>10.00</td>\n",
       "      <td>51</td>\n",
       "      <td>10.6</td>\n",
       "      <td>37</td>\n",
       "      <td>2.9</td>\n",
       "      <td>13</td>\n",
       "      <td>-10.6</td>\n",
       "      <td>22</td>\n",
       "      <td>15</td>\n",
       "      <td>010</td>\n",
       "      <td>29.49</td>\n",
       "      <td>30.01</td>\n",
       "    </tr>\n",
       "    <tr>\n",
       "      <th>3</th>\n",
       "      <td>13904</td>\n",
       "      <td>20110101</td>\n",
       "      <td>353</td>\n",
       "      <td>12</td>\n",
       "      <td>OVC065</td>\n",
       "      <td>10.00</td>\n",
       "      <td>50</td>\n",
       "      <td>10.0</td>\n",
       "      <td>38</td>\n",
       "      <td>3.1</td>\n",
       "      <td>17</td>\n",
       "      <td>-8.3</td>\n",
       "      <td>27</td>\n",
       "      <td>7</td>\n",
       "      <td>350</td>\n",
       "      <td>29.51</td>\n",
       "      <td>30.03</td>\n",
       "    </tr>\n",
       "    <tr>\n",
       "      <th>4</th>\n",
       "      <td>13904</td>\n",
       "      <td>20110101</td>\n",
       "      <td>453</td>\n",
       "      <td>12</td>\n",
       "      <td>BKN070</td>\n",
       "      <td>10.00</td>\n",
       "      <td>50</td>\n",
       "      <td>10.0</td>\n",
       "      <td>37</td>\n",
       "      <td>2.8</td>\n",
       "      <td>15</td>\n",
       "      <td>-9.4</td>\n",
       "      <td>25</td>\n",
       "      <td>11</td>\n",
       "      <td>020</td>\n",
       "      <td>29.51</td>\n",
       "      <td>30.04</td>\n",
       "    </tr>\n",
       "  </tbody>\n",
       "</table>\n",
       "</div>"
      ],
      "text/plain": [
       "    Wban      date  Time  StationType sky_condition visibility dry_bulb_faren  \\\n",
       "0  13904  20110101    53           12        OVC045      10.00             51   \n",
       "1  13904  20110101   153           12        OVC049      10.00             51   \n",
       "2  13904  20110101   253           12        OVC060      10.00             51   \n",
       "3  13904  20110101   353           12        OVC065      10.00             50   \n",
       "4  13904  20110101   453           12        BKN070      10.00             50   \n",
       "\n",
       "  dry_bulb_cel wet_bulb_faren wet_bulb_cel dew_point_faren dew_point_cel  \\\n",
       "0         10.6             38          3.1              15          -9.4   \n",
       "1         10.6             37          3.0              14         -10.0   \n",
       "2         10.6             37          2.9              13         -10.6   \n",
       "3         10.0             38          3.1              17          -8.3   \n",
       "4         10.0             37          2.8              15          -9.4   \n",
       "\n",
       "  relative_humidity wind_speed wind_direction station_pressure  \\\n",
       "0                24         15            360            29.42   \n",
       "1                23         10            340            29.49   \n",
       "2                22         15            010            29.49   \n",
       "3                27          7            350            29.51   \n",
       "4                25         11            020            29.51   \n",
       "\n",
       "  sea_level_pressure  \n",
       "0              29.95  \n",
       "1              30.01  \n",
       "2              30.01  \n",
       "3              30.03  \n",
       "4              30.04  "
      ]
     },
     "execution_count": 10,
     "metadata": {},
     "output_type": "execute_result"
    }
   ],
   "source": [
    "list_to_drop = ['sky_conditionFlag',\n",
    " 'visibilityFlag',\n",
    " 'wx_and_obst_to_vision',\n",
    " 'wx_and_obst_to_visionFlag',\n",
    " 'dry_bulb_farenFlag',\n",
    " 'dry_bulb_celFlag',\n",
    " 'wet_bulb_farenFlag',\n",
    " 'wet_bulb_celFlag',\n",
    " 'dew_point_farenFlag',\n",
    " 'dew_point_celFlag',\n",
    " 'relative_humidityFlag',\n",
    " 'wind_speedFlag',\n",
    " 'wind_directionFlag',\n",
    " 'value_for_wind_character',\n",
    " 'value_for_wind_characterFlag',\n",
    " 'station_pressureFlag',\n",
    " 'pressure_tendencyFlag',\n",
    " 'pressure_tendency',\n",
    " 'presschange',\n",
    " 'presschangeFlag',\n",
    " 'sea_level_pressureFlag',\n",
    " 'hourly_precip',\n",
    " 'hourly_precipFlag',\n",
    " 'altimeter',\n",
    " 'record_type',\n",
    " 'altimeterFlag',\n",
    " 'junk']\n",
    "\n",
    "df_dropped = df.drop(list_to_drop, axis='columns')\n",
    "df_dropped.head()"
   ]
  },
  {
   "cell_type": "markdown",
   "metadata": {},
   "source": [
    "## Cleaning and tidying datetime data"
   ]
  },
  {
   "cell_type": "code",
   "execution_count": 16,
   "metadata": {
    "collapsed": false
   },
   "outputs": [
    {
     "data": {
      "text/plain": [
       "'20110101'"
      ]
     },
     "execution_count": 16,
     "metadata": {},
     "output_type": "execute_result"
    }
   ],
   "source": [
    "# Change int to string\n",
    "df_dropped['date'] = df_dropped['date'].astype(str)\n",
    "df_dropped['date'][0]"
   ]
  },
  {
   "cell_type": "code",
   "execution_count": 17,
   "metadata": {
    "collapsed": false
   },
   "outputs": [
    {
     "data": {
      "text/plain": [
       "'0053'"
      ]
     },
     "execution_count": 17,
     "metadata": {},
     "output_type": "execute_result"
    }
   ],
   "source": [
    "# Time 组增加0\n",
    "df_dropped['Time'] = df_dropped['Time'].apply(lambda x: '{:0>4}'.format(x))\n",
    "df_dropped['Time'][0]"
   ]
  },
  {
   "cell_type": "code",
   "execution_count": 18,
   "metadata": {
    "collapsed": false
   },
   "outputs": [
    {
     "data": {
      "text/plain": [
       "0    201101010053\n",
       "1    201101010153\n",
       "2    201101010253\n",
       "3    201101010353\n",
       "4    201101010453\n",
       "dtype: object"
      ]
     },
     "execution_count": 18,
     "metadata": {},
     "output_type": "execute_result"
    }
   ],
   "source": [
    "date_string = df_dropped['date'] + df_dropped['Time']\n",
    "date_string.head()"
   ]
  },
  {
   "cell_type": "code",
   "execution_count": 19,
   "metadata": {
    "collapsed": false
   },
   "outputs": [
    {
     "data": {
      "text/plain": [
       "0   2011-01-01 00:53:00\n",
       "1   2011-01-01 01:53:00\n",
       "2   2011-01-01 02:53:00\n",
       "3   2011-01-01 03:53:00\n",
       "4   2011-01-01 04:53:00\n",
       "dtype: datetime64[ns]"
      ]
     },
     "execution_count": 19,
     "metadata": {},
     "output_type": "execute_result"
    }
   ],
   "source": [
    "date_times = pd.to_datetime(date_string, format='%Y%m%d%H%M')\n",
    "date_times.head()"
   ]
  },
  {
   "cell_type": "code",
   "execution_count": 23,
   "metadata": {
    "collapsed": false
   },
   "outputs": [
    {
     "data": {
      "text/html": [
       "<div>\n",
       "<table border=\"1\" class=\"dataframe\">\n",
       "  <thead>\n",
       "    <tr style=\"text-align: right;\">\n",
       "      <th></th>\n",
       "      <th>Wban</th>\n",
       "      <th>date</th>\n",
       "      <th>Time</th>\n",
       "      <th>StationType</th>\n",
       "      <th>sky_condition</th>\n",
       "      <th>visibility</th>\n",
       "      <th>dry_bulb_faren</th>\n",
       "      <th>dry_bulb_cel</th>\n",
       "      <th>wet_bulb_faren</th>\n",
       "      <th>wet_bulb_cel</th>\n",
       "      <th>dew_point_faren</th>\n",
       "      <th>dew_point_cel</th>\n",
       "      <th>relative_humidity</th>\n",
       "      <th>wind_speed</th>\n",
       "      <th>wind_direction</th>\n",
       "      <th>station_pressure</th>\n",
       "      <th>sea_level_pressure</th>\n",
       "    </tr>\n",
       "  </thead>\n",
       "  <tbody>\n",
       "    <tr>\n",
       "      <th>2011-01-01 00:53:00</th>\n",
       "      <td>13904</td>\n",
       "      <td>20110101</td>\n",
       "      <td>0053</td>\n",
       "      <td>12</td>\n",
       "      <td>OVC045</td>\n",
       "      <td>10.00</td>\n",
       "      <td>51</td>\n",
       "      <td>10.6</td>\n",
       "      <td>38</td>\n",
       "      <td>3.1</td>\n",
       "      <td>15</td>\n",
       "      <td>-9.4</td>\n",
       "      <td>24</td>\n",
       "      <td>15</td>\n",
       "      <td>360</td>\n",
       "      <td>29.42</td>\n",
       "      <td>29.95</td>\n",
       "    </tr>\n",
       "    <tr>\n",
       "      <th>2011-01-01 01:53:00</th>\n",
       "      <td>13904</td>\n",
       "      <td>20110101</td>\n",
       "      <td>0153</td>\n",
       "      <td>12</td>\n",
       "      <td>OVC049</td>\n",
       "      <td>10.00</td>\n",
       "      <td>51</td>\n",
       "      <td>10.6</td>\n",
       "      <td>37</td>\n",
       "      <td>3.0</td>\n",
       "      <td>14</td>\n",
       "      <td>-10.0</td>\n",
       "      <td>23</td>\n",
       "      <td>10</td>\n",
       "      <td>340</td>\n",
       "      <td>29.49</td>\n",
       "      <td>30.01</td>\n",
       "    </tr>\n",
       "    <tr>\n",
       "      <th>2011-01-01 02:53:00</th>\n",
       "      <td>13904</td>\n",
       "      <td>20110101</td>\n",
       "      <td>0253</td>\n",
       "      <td>12</td>\n",
       "      <td>OVC060</td>\n",
       "      <td>10.00</td>\n",
       "      <td>51</td>\n",
       "      <td>10.6</td>\n",
       "      <td>37</td>\n",
       "      <td>2.9</td>\n",
       "      <td>13</td>\n",
       "      <td>-10.6</td>\n",
       "      <td>22</td>\n",
       "      <td>15</td>\n",
       "      <td>010</td>\n",
       "      <td>29.49</td>\n",
       "      <td>30.01</td>\n",
       "    </tr>\n",
       "    <tr>\n",
       "      <th>2011-01-01 03:53:00</th>\n",
       "      <td>13904</td>\n",
       "      <td>20110101</td>\n",
       "      <td>0353</td>\n",
       "      <td>12</td>\n",
       "      <td>OVC065</td>\n",
       "      <td>10.00</td>\n",
       "      <td>50</td>\n",
       "      <td>10.0</td>\n",
       "      <td>38</td>\n",
       "      <td>3.1</td>\n",
       "      <td>17</td>\n",
       "      <td>-8.3</td>\n",
       "      <td>27</td>\n",
       "      <td>7</td>\n",
       "      <td>350</td>\n",
       "      <td>29.51</td>\n",
       "      <td>30.03</td>\n",
       "    </tr>\n",
       "    <tr>\n",
       "      <th>2011-01-01 04:53:00</th>\n",
       "      <td>13904</td>\n",
       "      <td>20110101</td>\n",
       "      <td>0453</td>\n",
       "      <td>12</td>\n",
       "      <td>BKN070</td>\n",
       "      <td>10.00</td>\n",
       "      <td>50</td>\n",
       "      <td>10.0</td>\n",
       "      <td>37</td>\n",
       "      <td>2.8</td>\n",
       "      <td>15</td>\n",
       "      <td>-9.4</td>\n",
       "      <td>25</td>\n",
       "      <td>11</td>\n",
       "      <td>020</td>\n",
       "      <td>29.51</td>\n",
       "      <td>30.04</td>\n",
       "    </tr>\n",
       "  </tbody>\n",
       "</table>\n",
       "</div>"
      ],
      "text/plain": [
       "                      Wban      date  Time  StationType sky_condition  \\\n",
       "2011-01-01 00:53:00  13904  20110101  0053           12        OVC045   \n",
       "2011-01-01 01:53:00  13904  20110101  0153           12        OVC049   \n",
       "2011-01-01 02:53:00  13904  20110101  0253           12        OVC060   \n",
       "2011-01-01 03:53:00  13904  20110101  0353           12        OVC065   \n",
       "2011-01-01 04:53:00  13904  20110101  0453           12        BKN070   \n",
       "\n",
       "                    visibility dry_bulb_faren dry_bulb_cel wet_bulb_faren  \\\n",
       "2011-01-01 00:53:00      10.00             51         10.6             38   \n",
       "2011-01-01 01:53:00      10.00             51         10.6             37   \n",
       "2011-01-01 02:53:00      10.00             51         10.6             37   \n",
       "2011-01-01 03:53:00      10.00             50         10.0             38   \n",
       "2011-01-01 04:53:00      10.00             50         10.0             37   \n",
       "\n",
       "                    wet_bulb_cel dew_point_faren dew_point_cel  \\\n",
       "2011-01-01 00:53:00          3.1              15          -9.4   \n",
       "2011-01-01 01:53:00          3.0              14         -10.0   \n",
       "2011-01-01 02:53:00          2.9              13         -10.6   \n",
       "2011-01-01 03:53:00          3.1              17          -8.3   \n",
       "2011-01-01 04:53:00          2.8              15          -9.4   \n",
       "\n",
       "                    relative_humidity wind_speed wind_direction  \\\n",
       "2011-01-01 00:53:00                24         15            360   \n",
       "2011-01-01 01:53:00                23         10            340   \n",
       "2011-01-01 02:53:00                22         15            010   \n",
       "2011-01-01 03:53:00                27          7            350   \n",
       "2011-01-01 04:53:00                25         11            020   \n",
       "\n",
       "                    station_pressure sea_level_pressure  \n",
       "2011-01-01 00:53:00            29.42              29.95  \n",
       "2011-01-01 01:53:00            29.49              30.01  \n",
       "2011-01-01 02:53:00            29.49              30.01  \n",
       "2011-01-01 03:53:00            29.51              30.03  \n",
       "2011-01-01 04:53:00            29.51              30.04  "
      ]
     },
     "execution_count": 23,
     "metadata": {},
     "output_type": "execute_result"
    }
   ],
   "source": [
    "df_clean = df_dropped.set_index(date_times)\n",
    "df_clean.head()"
   ]
  },
  {
   "cell_type": "markdown",
   "metadata": {},
   "source": [
    "## Cleaning the numeric columns"
   ]
  },
  {
   "cell_type": "code",
   "execution_count": 25,
   "metadata": {
    "collapsed": false
   },
   "outputs": [
    {
     "data": {
      "text/plain": [
       "2011-06-20 08:27:00     M\n",
       "2011-06-20 08:28:00     M\n",
       "2011-06-20 08:29:00     M\n",
       "2011-06-20 08:30:00     M\n",
       "2011-06-20 08:31:00     M\n",
       "2011-06-20 08:32:00     M\n",
       "2011-06-20 08:33:00     M\n",
       "2011-06-20 08:34:00     M\n",
       "2011-06-20 08:35:00     M\n",
       "2011-06-20 08:53:00    83\n",
       "2011-06-20 09:08:00    84\n",
       "2011-06-20 09:53:00    88\n",
       "Name: dry_bulb_faren, dtype: object"
      ]
     },
     "execution_count": 25,
     "metadata": {},
     "output_type": "execute_result"
    }
   ],
   "source": [
    "df_clean.loc['2011-June-20 8AM' : '2011-June-20 9AM', 'dry_bulb_faren']"
   ]
  },
  {
   "cell_type": "code",
   "execution_count": 28,
   "metadata": {
    "collapsed": false
   },
   "outputs": [
    {
     "data": {
      "text/plain": [
       "2011-06-20 08:27:00     NaN\n",
       "2011-06-20 08:28:00     NaN\n",
       "2011-06-20 08:29:00     NaN\n",
       "2011-06-20 08:30:00     NaN\n",
       "2011-06-20 08:31:00     NaN\n",
       "2011-06-20 08:32:00     NaN\n",
       "2011-06-20 08:33:00     NaN\n",
       "2011-06-20 08:34:00     NaN\n",
       "2011-06-20 08:35:00     NaN\n",
       "2011-06-20 08:53:00    83.0\n",
       "2011-06-20 09:08:00    84.0\n",
       "2011-06-20 09:53:00    88.0\n",
       "Name: dry_bulb_faren, dtype: float64"
      ]
     },
     "execution_count": 28,
     "metadata": {},
     "output_type": "execute_result"
    }
   ],
   "source": [
    "# 将非numberic的数字转成Nan\n",
    "df_clean['dry_bulb_faren'] = pd.to_numeric(df_clean['dry_bulb_faren'], errors='coerce')\n",
    "df_clean.loc['2011-June-20 8AM' : '2011-June-20 9AM', 'dry_bulb_faren']"
   ]
  },
  {
   "cell_type": "code",
   "execution_count": 29,
   "metadata": {
    "collapsed": false
   },
   "outputs": [
    {
     "data": {
      "text/html": [
       "<div>\n",
       "<table border=\"1\" class=\"dataframe\">\n",
       "  <thead>\n",
       "    <tr style=\"text-align: right;\">\n",
       "      <th></th>\n",
       "      <th>Wban</th>\n",
       "      <th>date</th>\n",
       "      <th>Time</th>\n",
       "      <th>StationType</th>\n",
       "      <th>sky_condition</th>\n",
       "      <th>visibility</th>\n",
       "      <th>dry_bulb_faren</th>\n",
       "      <th>dry_bulb_cel</th>\n",
       "      <th>wet_bulb_faren</th>\n",
       "      <th>wet_bulb_cel</th>\n",
       "      <th>dew_point_faren</th>\n",
       "      <th>dew_point_cel</th>\n",
       "      <th>relative_humidity</th>\n",
       "      <th>wind_speed</th>\n",
       "      <th>wind_direction</th>\n",
       "      <th>station_pressure</th>\n",
       "      <th>sea_level_pressure</th>\n",
       "    </tr>\n",
       "  </thead>\n",
       "  <tbody>\n",
       "    <tr>\n",
       "      <th>2011-01-01 00:53:00</th>\n",
       "      <td>13904</td>\n",
       "      <td>20110101</td>\n",
       "      <td>0053</td>\n",
       "      <td>12</td>\n",
       "      <td>OVC045</td>\n",
       "      <td>10.0</td>\n",
       "      <td>51.0</td>\n",
       "      <td>10.6</td>\n",
       "      <td>38</td>\n",
       "      <td>3.1</td>\n",
       "      <td>15.0</td>\n",
       "      <td>-9.4</td>\n",
       "      <td>24</td>\n",
       "      <td>15</td>\n",
       "      <td>360</td>\n",
       "      <td>29.42</td>\n",
       "      <td>29.95</td>\n",
       "    </tr>\n",
       "    <tr>\n",
       "      <th>2011-01-01 01:53:00</th>\n",
       "      <td>13904</td>\n",
       "      <td>20110101</td>\n",
       "      <td>0153</td>\n",
       "      <td>12</td>\n",
       "      <td>OVC049</td>\n",
       "      <td>10.0</td>\n",
       "      <td>51.0</td>\n",
       "      <td>10.6</td>\n",
       "      <td>37</td>\n",
       "      <td>3.0</td>\n",
       "      <td>14.0</td>\n",
       "      <td>-10.0</td>\n",
       "      <td>23</td>\n",
       "      <td>10</td>\n",
       "      <td>340</td>\n",
       "      <td>29.49</td>\n",
       "      <td>30.01</td>\n",
       "    </tr>\n",
       "    <tr>\n",
       "      <th>2011-01-01 02:53:00</th>\n",
       "      <td>13904</td>\n",
       "      <td>20110101</td>\n",
       "      <td>0253</td>\n",
       "      <td>12</td>\n",
       "      <td>OVC060</td>\n",
       "      <td>10.0</td>\n",
       "      <td>51.0</td>\n",
       "      <td>10.6</td>\n",
       "      <td>37</td>\n",
       "      <td>2.9</td>\n",
       "      <td>13.0</td>\n",
       "      <td>-10.6</td>\n",
       "      <td>22</td>\n",
       "      <td>15</td>\n",
       "      <td>010</td>\n",
       "      <td>29.49</td>\n",
       "      <td>30.01</td>\n",
       "    </tr>\n",
       "    <tr>\n",
       "      <th>2011-01-01 03:53:00</th>\n",
       "      <td>13904</td>\n",
       "      <td>20110101</td>\n",
       "      <td>0353</td>\n",
       "      <td>12</td>\n",
       "      <td>OVC065</td>\n",
       "      <td>10.0</td>\n",
       "      <td>50.0</td>\n",
       "      <td>10.0</td>\n",
       "      <td>38</td>\n",
       "      <td>3.1</td>\n",
       "      <td>17.0</td>\n",
       "      <td>-8.3</td>\n",
       "      <td>27</td>\n",
       "      <td>7</td>\n",
       "      <td>350</td>\n",
       "      <td>29.51</td>\n",
       "      <td>30.03</td>\n",
       "    </tr>\n",
       "    <tr>\n",
       "      <th>2011-01-01 04:53:00</th>\n",
       "      <td>13904</td>\n",
       "      <td>20110101</td>\n",
       "      <td>0453</td>\n",
       "      <td>12</td>\n",
       "      <td>BKN070</td>\n",
       "      <td>10.0</td>\n",
       "      <td>50.0</td>\n",
       "      <td>10.0</td>\n",
       "      <td>37</td>\n",
       "      <td>2.8</td>\n",
       "      <td>15.0</td>\n",
       "      <td>-9.4</td>\n",
       "      <td>25</td>\n",
       "      <td>11</td>\n",
       "      <td>020</td>\n",
       "      <td>29.51</td>\n",
       "      <td>30.04</td>\n",
       "    </tr>\n",
       "  </tbody>\n",
       "</table>\n",
       "</div>"
      ],
      "text/plain": [
       "                      Wban      date  Time  StationType sky_condition  \\\n",
       "2011-01-01 00:53:00  13904  20110101  0053           12        OVC045   \n",
       "2011-01-01 01:53:00  13904  20110101  0153           12        OVC049   \n",
       "2011-01-01 02:53:00  13904  20110101  0253           12        OVC060   \n",
       "2011-01-01 03:53:00  13904  20110101  0353           12        OVC065   \n",
       "2011-01-01 04:53:00  13904  20110101  0453           12        BKN070   \n",
       "\n",
       "                     visibility  dry_bulb_faren dry_bulb_cel wet_bulb_faren  \\\n",
       "2011-01-01 00:53:00        10.0            51.0         10.6             38   \n",
       "2011-01-01 01:53:00        10.0            51.0         10.6             37   \n",
       "2011-01-01 02:53:00        10.0            51.0         10.6             37   \n",
       "2011-01-01 03:53:00        10.0            50.0         10.0             38   \n",
       "2011-01-01 04:53:00        10.0            50.0         10.0             37   \n",
       "\n",
       "                    wet_bulb_cel  dew_point_faren dew_point_cel  \\\n",
       "2011-01-01 00:53:00          3.1             15.0          -9.4   \n",
       "2011-01-01 01:53:00          3.0             14.0         -10.0   \n",
       "2011-01-01 02:53:00          2.9             13.0         -10.6   \n",
       "2011-01-01 03:53:00          3.1             17.0          -8.3   \n",
       "2011-01-01 04:53:00          2.8             15.0          -9.4   \n",
       "\n",
       "                    relative_humidity wind_speed wind_direction  \\\n",
       "2011-01-01 00:53:00                24         15            360   \n",
       "2011-01-01 01:53:00                23         10            340   \n",
       "2011-01-01 02:53:00                22         15            010   \n",
       "2011-01-01 03:53:00                27          7            350   \n",
       "2011-01-01 04:53:00                25         11            020   \n",
       "\n",
       "                    station_pressure sea_level_pressure  \n",
       "2011-01-01 00:53:00            29.42              29.95  \n",
       "2011-01-01 01:53:00            29.49              30.01  \n",
       "2011-01-01 02:53:00            29.49              30.01  \n",
       "2011-01-01 03:53:00            29.51              30.03  \n",
       "2011-01-01 04:53:00            29.51              30.04  "
      ]
     },
     "execution_count": 29,
     "metadata": {},
     "output_type": "execute_result"
    }
   ],
   "source": [
    "df_clean['visibility'] = pd.to_numeric(df_clean['visibility'], errors='coerce')\n",
    "df_clean['dew_point_faren'] = pd.to_numeric(df_clean['dew_point_faren'], errors='coerce')\n",
    "df_clean.head()"
   ]
  },
  {
   "cell_type": "markdown",
   "metadata": {},
   "source": [
    "# Statistical exploratory data analysis"
   ]
  },
  {
   "cell_type": "markdown",
   "metadata": {},
   "source": [
    "## Signal min, max, median"
   ]
  },
  {
   "cell_type": "code",
   "execution_count": 30,
   "metadata": {
    "collapsed": false
   },
   "outputs": [
    {
     "data": {
      "text/plain": [
       "72.0"
      ]
     },
     "execution_count": 30,
     "metadata": {},
     "output_type": "execute_result"
    }
   ],
   "source": [
    "df_clean['dry_bulb_faren'].median()"
   ]
  },
  {
   "cell_type": "code",
   "execution_count": 31,
   "metadata": {
    "collapsed": false
   },
   "outputs": [
    {
     "data": {
      "text/plain": [
       "78.0"
      ]
     },
     "execution_count": 31,
     "metadata": {},
     "output_type": "execute_result"
    }
   ],
   "source": [
    "df_clean.loc['2011-Apr':'2011-Jun','dry_bulb_faren'].median()"
   ]
  },
  {
   "cell_type": "code",
   "execution_count": 33,
   "metadata": {
    "collapsed": false
   },
   "outputs": [
    {
     "data": {
      "text/plain": [
       "48.0"
      ]
     },
     "execution_count": 33,
     "metadata": {},
     "output_type": "execute_result"
    }
   ],
   "source": [
    "df_clean.loc['2011-Jan','dry_bulb_faren'].median()"
   ]
  }
 ],
 "metadata": {
  "anaconda-cloud": {},
  "kernelspec": {
   "display_name": "Python [default]",
   "language": "python",
   "name": "python2"
  },
  "language_info": {
   "codemirror_mode": {
    "name": "ipython",
    "version": 2
   },
   "file_extension": ".py",
   "mimetype": "text/x-python",
   "name": "python",
   "nbconvert_exporter": "python",
   "pygments_lexer": "ipython2",
   "version": "2.7.12"
  }
 },
 "nbformat": 4,
 "nbformat_minor": 1
}

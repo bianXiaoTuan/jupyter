{
 "cells": [
  {
   "cell_type": "code",
   "execution_count": 9,
   "metadata": {
    "collapsed": false
   },
   "outputs": [
    {
     "name": "stdout",
     "output_type": "stream",
     "text": [
      "DatetimeIndex(['2013-01-01', '2013-01-02', '2013-01-03', '2013-01-04',\n",
      "               '2013-01-05', '2013-01-06'],\n",
      "              dtype='datetime64[ns]', freq='D')\n",
      "                   A         B         C         D\n",
      "2013-01-01  0.095876 -1.685793  0.473558 -1.445777\n",
      "2013-01-02 -0.786207  1.187875  0.375612 -0.464824\n",
      "2013-01-03 -0.386562  0.260442  1.518813  0.931808\n",
      "2013-01-04 -1.577789  1.059093  1.499156 -1.610017\n",
      "2013-01-05 -0.692189  3.006897  1.587740 -0.309389\n",
      "2013-01-06  0.204739  2.604360 -0.041576 -0.241877\n"
     ]
    }
   ],
   "source": [
    "import pandas as pd\n",
    "import numpy as np\n",
    "import matplotlib.pyplot as plt\n",
    "\n",
    "dates = pd.date_range('20130101', periods=6)\n",
    "df = pd.DataFrame(np.random.randn(6,4), index=dates, columns=list('ABCD'))\n",
    "\n",
    "print dates\n",
    "print df"
   ]
  },
  {
   "cell_type": "code",
   "execution_count": 10,
   "metadata": {
    "collapsed": false
   },
   "outputs": [
    {
     "name": "stdout",
     "output_type": "stream",
     "text": [
      "A   -0.523689\n",
      "B    1.072146\n",
      "C    0.902217\n",
      "D   -0.523346\n",
      "dtype: float64\n",
      "2013-01-01   -0.640534\n",
      "2013-01-02    0.078114\n",
      "2013-01-03    0.581125\n",
      "2013-01-04   -0.157389\n",
      "2013-01-05    0.898265\n",
      "2013-01-06    0.631412\n",
      "Freq: D, dtype: float64\n"
     ]
    }
   ],
   "source": [
    "# Stats\n",
    "print df.mean()\n",
    "\n",
    "print df.mean(1)"
   ]
  },
  {
   "cell_type": "code",
   "execution_count": 11,
   "metadata": {
    "collapsed": false
   },
   "outputs": [
    {
     "name": "stdout",
     "output_type": "stream",
     "text": [
      "                   A         B         C         D\n",
      "2013-01-01  0.095876 -1.685793  0.473558 -1.445777\n",
      "2013-01-02 -0.690331 -0.497917  0.849169 -1.910601\n",
      "2013-01-03 -1.076892 -0.237475  2.367982 -0.978794\n",
      "2013-01-04 -2.654682  0.821618  3.867138 -2.588810\n",
      "2013-01-05 -3.346871  3.828515  5.454878 -2.898199\n",
      "2013-01-06 -3.142132  6.432876  5.413302 -3.140076\n",
      "A    1.782528\n",
      "B    4.692690\n",
      "C    1.629316\n",
      "D    2.541825\n",
      "dtype: float64\n"
     ]
    }
   ],
   "source": [
    "#Apply\n",
    "print df.apply(np.cumsum)\n",
    "\n",
    "print df.apply(lambda x: x.max() - x.min())"
   ]
  },
  {
   "cell_type": "code",
   "execution_count": 12,
   "metadata": {
    "collapsed": false
   },
   "outputs": [
    {
     "name": "stdout",
     "output_type": "stream",
     "text": [
      "0    5\n",
      "1    4\n",
      "2    1\n",
      "3    4\n",
      "4    6\n",
      "5    0\n",
      "6    4\n",
      "7    4\n",
      "8    6\n",
      "9    1\n",
      "dtype: int64\n",
      "4    4\n",
      "6    2\n",
      "1    2\n",
      "5    1\n",
      "0    1\n",
      "dtype: int64\n"
     ]
    }
   ],
   "source": [
    "# Histogramming\n",
    "s = pd.Series(np.random.randint(0, 7, size=10))\n",
    "\n",
    "print s\n",
    "\n",
    "print s.value_counts()"
   ]
  }
 ],
 "metadata": {
  "anaconda-cloud": {},
  "kernelspec": {
   "display_name": "Python [default]",
   "language": "python",
   "name": "python2"
  },
  "language_info": {
   "codemirror_mode": {
    "name": "ipython",
    "version": 2
   },
   "file_extension": ".py",
   "mimetype": "text/x-python",
   "name": "python",
   "nbconvert_exporter": "python",
   "pygments_lexer": "ipython2",
   "version": "2.7.12"
  }
 },
 "nbformat": 4,
 "nbformat_minor": 1
}

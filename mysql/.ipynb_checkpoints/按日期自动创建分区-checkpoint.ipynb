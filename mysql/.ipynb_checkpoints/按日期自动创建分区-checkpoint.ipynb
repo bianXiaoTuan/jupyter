{
 "cells": [
  {
   "cell_type": "markdown",
   "metadata": {},
   "source": [
    "# partition"
   ]
  },
  {
   "cell_type": "code",
   "execution_count": null,
   "metadata": {
    "collapsed": true
   },
   "outputs": [],
   "source": [
    "-- 非分区表修改为分区表\n",
    "mysql > ALTER TABLE tablename BY RANGE COLUMNS(generate_time)\n",
    "( \n",
    "PARTITION old_part VALUES LESS THAN ('2016-12-01 00:00:00'),\n",
    "PARTITION p20161201 VALUES LESS THAN ('2016-12-02 00:00:00'),\n",
    "PARTITION p20161202 VALUES LESS THAN ('2016-12-03 00:00:00'),\n",
    "PARTITION p20161203 VALUES LESS THAN ('2016-12-04 00:00:00')\n",
    ");\n",
    "\n",
    "-- 增加分区\n",
    "ALTER TABLE tablename ADD PARTITION (PARTITION p20161204 VALUES LESS THAN ('2016-12-05 00:00:00'));\n",
    "\n",
    "-- 删除分区\n",
    "ALTER TABLE tablename DROP PARTITION old_part;"
   ]
  },
  {
   "cell_type": "markdown",
   "metadata": {},
   "source": [
    "# procedure\n",
    "\n",
    "procedure可理解成MySQL中的UDF"
   ]
  },
  {
   "cell_type": "code",
   "execution_count": null,
   "metadata": {
    "collapsed": true
   },
   "outputs": [],
   "source": [
    "-- 查看procedure\n",
    "show procedure status\n",
    "\n",
    "-- 查看procedure详情\n",
    "show create procedure procedure_name\n",
    "\n",
    "-- 执行procedure\n",
    "call procedure_name"
   ]
  },
  {
   "cell_type": "code",
   "execution_count": null,
   "metadata": {
    "collapsed": true
   },
   "outputs": [],
   "source": [
    "DELIMITER $$\n",
    "\n",
    "DROP PROCEDURE IF EXISTS `proc_drop_add_partition`;\n",
    "CREATE PROCEDURE `proc_drop_add_partition`(IN v_tablename VARCHAR(50))\n",
    "BEGIN\n",
    "START TRANSACTION;\n",
    "\n",
    "/*\n",
    "当前日期: 2016-12-14\n",
    "创建Partition: p20161215 VALUES LESS THAN ('2016-12-16')\n",
    "*/\n",
    "\n",
    "-- 构建ALTER TABLE odps_frontend_request_internal_1min_result_sql DROP PARTITION p20161114\n",
    "SET @partition_name=DATE_FORMAT(DATE_SUB(NOW(), INTERVAL 15 DAY), '%Y%m%d');\n",
    "SET @t=CONCAT('ALTER TABLE ' ,v_tablename ,' DROP PARTITION p', @partition_name);\n",
    "\n",
    "-- 执行ALTER\n",
    "SELECT @t;\n",
    "PREPARE stmt FROM @t;\n",
    "EXECUTE stmt;\n",
    "DEALLOCATE PREPARE stmt;\n",
    "\n",
    "-- 构建ALTER TABLE odps_frontend_request_internal_1min_result_sql ADD PARTITION (PARTITION p20161215 VALUES LESS THAN ('2016-12-16 00:00:00'));\n",
    "SET @partition_name=DATE_FORMAT(DATE_ADD(NOW(), INTERVAL 1 DAY), '%Y%m%d');\n",
    "SET @partition_date=DATE_FORMAT(DATE_ADD(NOW(), INTERVAL 2 DAY), '%Y-%m-%d 00:00:00');\n",
    "SET @s=CONCAT('ALTER TABLE ', v_tablename, ' ADD PARTITION (PARTITION p', @partition_name ,' VALUES LESS THAN (''', @partition_date, '''))');\n",
    "\n",
    "-- 执行ALTER\n",
    "SELECT @s;\n",
    "PREPARE stmt FROM @s;\n",
    "EXECUTE stmt;\n",
    "DEALLOCATE PREPARE stmt;\n",
    "\n",
    "-- 提交变更\n",
    "COMMIT;\n",
    "END;\n",
    "\n",
    "$$\n",
    "DELIMITER ;"
   ]
  },
  {
   "cell_type": "markdown",
   "metadata": {},
   "source": [
    "# event\n",
    "\n",
    "event可理解成MySQL中crontab"
   ]
  },
  {
   "cell_type": "code",
   "execution_count": null,
   "metadata": {
    "collapsed": true
   },
   "outputs": [],
   "source": [
    "-- 查看event\n",
    "show events;\n",
    "\n",
    "-- 查看event详情\n",
    "show create event event_name\n",
    "\n",
    "-- 查看定时调度是否打开\n",
    "show VARIABLES LIKE 'event_scheduler'\n",
    "\n",
    "-- 打开定时调度\n",
    "SET GLOBAL event_scheduler = 1;"
   ]
  },
  {
   "cell_type": "code",
   "execution_count": null,
   "metadata": {
    "collapsed": true
   },
   "outputs": [],
   "source": [
    "DELIMITER $$\n",
    "\n",
    "DROP EVENT IF EXISTS `event_name`;\n",
    "CREATE EVENT `event_name`\n",
    "ON SCHEDULE EVERY 1 DAY STARTS '2016-12-14 12:50:00'\n",
    "ON COMPLETION PRESERVE\n",
    "ENABLE\n",
    "DO\n",
    "BEGIN\n",
    "CALL proc_drop_add_partition('table_name');\n",
    "END;\n",
    "\n",
    "$$\n",
    "DELIMITER ;"
   ]
  }
 ],
 "metadata": {
  "anaconda-cloud": {},
  "kernelspec": {
   "display_name": "Python [default]",
   "language": "python",
   "name": "python2"
  },
  "language_info": {
   "codemirror_mode": {
    "name": "ipython",
    "version": 2
   },
   "file_extension": ".py",
   "mimetype": "text/x-python",
   "name": "python",
   "nbconvert_exporter": "python",
   "pygments_lexer": "ipython2",
   "version": "2.7.12"
  }
 },
 "nbformat": 4,
 "nbformat_minor": 1
}

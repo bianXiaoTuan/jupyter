{
 "cells": [
  {
   "cell_type": "code",
   "execution_count": 10,
   "metadata": {
    "collapsed": false
   },
   "outputs": [
    {
     "name": "stdout",
     "output_type": "stream",
     "text": [
      "0    1.0\n",
      "1    3.0\n",
      "2    5.0\n",
      "3    NaN\n",
      "4    6.0\n",
      "5    8.0\n",
      "dtype: float64\n",
      "DatetimeIndex(['2013-01-01', '2013-01-02', '2013-01-03', '2013-01-04',\n",
      "               '2013-01-05', '2013-01-06'],\n",
      "              dtype='datetime64[ns]', freq='D')\n",
      "                   A         B         C         D\n",
      "2013-01-01  1.195931  2.487208 -0.340391 -0.196876\n",
      "2013-01-02  0.946425 -2.055844  0.383997 -0.149093\n",
      "2013-01-03  0.645720  0.141517 -0.498599  1.801969\n",
      "2013-01-04  0.014744 -1.790281  2.029388  0.510842\n",
      "2013-01-05  0.207936  0.861723  0.847610 -0.660514\n",
      "2013-01-06  0.456270  1.027832  1.051592  1.841935\n",
      "     A          B  C\n",
      "0  1.0 2013-01-02  3\n",
      "1  1.0 2013-01-02  3\n",
      "2  1.0 2013-01-02  3\n",
      "3  1.0 2013-01-02  3\n"
     ]
    }
   ],
   "source": [
    "import pandas as pd\n",
    "import numpy as np\n",
    "import matplotlib.pyplot as plt\n",
    "\n",
    "# Series\n",
    "series_data = pd.Series([1, 3, 5, np.nan, 6, 8])\n",
    "print series_data\n",
    "\n",
    "# DataFrame\n",
    "dates = pd.date_range('20130101', periods=6)\n",
    "print dates\n",
    "\n",
    "# DataFrame\n",
    "data_frame = pd.DataFrame(np.random.randn(6,4), index=dates, columns=list('ABCD'))\n",
    "print data_frame\n",
    "\n",
    "# DataFrame\n",
    "data_frame = pd.DataFrame({\n",
    "        'A' : 1.,\n",
    "        'B' : pd.Timestamp('20130102'),\n",
    "        'C' : np.array([3]*4, dtype='int32')\n",
    "    })\n",
    "print data_frame"
   ]
  }
 ],
 "metadata": {
  "anaconda-cloud": {},
  "kernelspec": {
   "display_name": "Python [default]",
   "language": "python",
   "name": "python2"
  },
  "language_info": {
   "codemirror_mode": {
    "name": "ipython",
    "version": 2
   },
   "file_extension": ".py",
   "mimetype": "text/x-python",
   "name": "python",
   "nbconvert_exporter": "python",
   "pygments_lexer": "ipython2",
   "version": "2.7.12"
  }
 },
 "nbformat": 4,
 "nbformat_minor": 1
}

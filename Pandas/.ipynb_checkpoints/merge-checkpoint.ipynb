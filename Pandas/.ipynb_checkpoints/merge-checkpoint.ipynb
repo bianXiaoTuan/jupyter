{
 "cells": [
  {
   "cell_type": "code",
   "execution_count": 2,
   "metadata": {
    "collapsed": false
   },
   "outputs": [
    {
     "name": "stdout",
     "output_type": "stream",
     "text": [
      "          0         1         2         3\n",
      "0 -0.213868 -1.807571 -0.226292 -0.663431\n",
      "1  0.382122  0.056875 -1.592288  2.046009\n",
      "2  0.204330  0.830182  0.036085  0.773409\n",
      "3  1.185723  0.505538 -1.176828 -1.285025\n",
      "4 -0.234874  0.377793 -1.194984 -1.644394\n",
      "5  0.416291 -1.781505  1.135154  0.410989\n",
      "6  0.917544 -0.072091 -0.133869  1.322274\n",
      "7 -0.196691 -1.085966  0.417507 -0.272447\n",
      "8 -0.644531  0.498189 -0.771941  0.225911\n",
      "9  0.197051  0.072775 -1.468955  0.247115\n"
     ]
    }
   ],
   "source": [
    "import pandas as pd\n",
    "import numpy as np\n",
    "import matplotlib.pyplot as plt\n",
    "\n",
    "df = pd.DataFrame(np.random.randn(10, 4))\n",
    "print df"
   ]
  },
  {
   "cell_type": "code",
   "execution_count": 5,
   "metadata": {
    "collapsed": false
   },
   "outputs": [
    {
     "data": {
      "text/html": [
       "<div>\n",
       "<table border=\"1\" class=\"dataframe\">\n",
       "  <thead>\n",
       "    <tr style=\"text-align: right;\">\n",
       "      <th></th>\n",
       "      <th>0</th>\n",
       "      <th>1</th>\n",
       "      <th>2</th>\n",
       "      <th>3</th>\n",
       "    </tr>\n",
       "  </thead>\n",
       "  <tbody>\n",
       "    <tr>\n",
       "      <th>0</th>\n",
       "      <td>-0.213868</td>\n",
       "      <td>-1.807571</td>\n",
       "      <td>-0.226292</td>\n",
       "      <td>-0.663431</td>\n",
       "    </tr>\n",
       "    <tr>\n",
       "      <th>1</th>\n",
       "      <td>0.382122</td>\n",
       "      <td>0.056875</td>\n",
       "      <td>-1.592288</td>\n",
       "      <td>2.046009</td>\n",
       "    </tr>\n",
       "    <tr>\n",
       "      <th>2</th>\n",
       "      <td>0.204330</td>\n",
       "      <td>0.830182</td>\n",
       "      <td>0.036085</td>\n",
       "      <td>0.773409</td>\n",
       "    </tr>\n",
       "    <tr>\n",
       "      <th>3</th>\n",
       "      <td>1.185723</td>\n",
       "      <td>0.505538</td>\n",
       "      <td>-1.176828</td>\n",
       "      <td>-1.285025</td>\n",
       "    </tr>\n",
       "    <tr>\n",
       "      <th>4</th>\n",
       "      <td>-0.234874</td>\n",
       "      <td>0.377793</td>\n",
       "      <td>-1.194984</td>\n",
       "      <td>-1.644394</td>\n",
       "    </tr>\n",
       "    <tr>\n",
       "      <th>5</th>\n",
       "      <td>0.416291</td>\n",
       "      <td>-1.781505</td>\n",
       "      <td>1.135154</td>\n",
       "      <td>0.410989</td>\n",
       "    </tr>\n",
       "    <tr>\n",
       "      <th>6</th>\n",
       "      <td>0.917544</td>\n",
       "      <td>-0.072091</td>\n",
       "      <td>-0.133869</td>\n",
       "      <td>1.322274</td>\n",
       "    </tr>\n",
       "    <tr>\n",
       "      <th>7</th>\n",
       "      <td>-0.196691</td>\n",
       "      <td>-1.085966</td>\n",
       "      <td>0.417507</td>\n",
       "      <td>-0.272447</td>\n",
       "    </tr>\n",
       "    <tr>\n",
       "      <th>8</th>\n",
       "      <td>-0.644531</td>\n",
       "      <td>0.498189</td>\n",
       "      <td>-0.771941</td>\n",
       "      <td>0.225911</td>\n",
       "    </tr>\n",
       "    <tr>\n",
       "      <th>9</th>\n",
       "      <td>0.197051</td>\n",
       "      <td>0.072775</td>\n",
       "      <td>-1.468955</td>\n",
       "      <td>0.247115</td>\n",
       "    </tr>\n",
       "  </tbody>\n",
       "</table>\n",
       "</div>"
      ],
      "text/plain": [
       "          0         1         2         3\n",
       "0 -0.213868 -1.807571 -0.226292 -0.663431\n",
       "1  0.382122  0.056875 -1.592288  2.046009\n",
       "2  0.204330  0.830182  0.036085  0.773409\n",
       "3  1.185723  0.505538 -1.176828 -1.285025\n",
       "4 -0.234874  0.377793 -1.194984 -1.644394\n",
       "5  0.416291 -1.781505  1.135154  0.410989\n",
       "6  0.917544 -0.072091 -0.133869  1.322274\n",
       "7 -0.196691 -1.085966  0.417507 -0.272447\n",
       "8 -0.644531  0.498189 -0.771941  0.225911\n",
       "9  0.197051  0.072775 -1.468955  0.247115"
      ]
     },
     "execution_count": 5,
     "metadata": {},
     "output_type": "execute_result"
    }
   ],
   "source": [
    "# concat\n",
    "pieces = [df[:3], df[3:7], df[7:]]\n",
    "pd.concat(pieces)"
   ]
  },
  {
   "cell_type": "code",
   "execution_count": 8,
   "metadata": {
    "collapsed": false
   },
   "outputs": [
    {
     "name": "stdout",
     "output_type": "stream",
     "text": [
      "   key  lval\n",
      "0  foo     1\n",
      "1  foo     2\n",
      "   key  rval\n",
      "0  foo     4\n",
      "1  foo     5\n"
     ]
    },
    {
     "data": {
      "text/html": [
       "<div>\n",
       "<table border=\"1\" class=\"dataframe\">\n",
       "  <thead>\n",
       "    <tr style=\"text-align: right;\">\n",
       "      <th></th>\n",
       "      <th>key</th>\n",
       "      <th>lval</th>\n",
       "      <th>rval</th>\n",
       "    </tr>\n",
       "  </thead>\n",
       "  <tbody>\n",
       "    <tr>\n",
       "      <th>0</th>\n",
       "      <td>foo</td>\n",
       "      <td>1</td>\n",
       "      <td>4</td>\n",
       "    </tr>\n",
       "    <tr>\n",
       "      <th>1</th>\n",
       "      <td>foo</td>\n",
       "      <td>1</td>\n",
       "      <td>5</td>\n",
       "    </tr>\n",
       "    <tr>\n",
       "      <th>2</th>\n",
       "      <td>foo</td>\n",
       "      <td>2</td>\n",
       "      <td>4</td>\n",
       "    </tr>\n",
       "    <tr>\n",
       "      <th>3</th>\n",
       "      <td>foo</td>\n",
       "      <td>2</td>\n",
       "      <td>5</td>\n",
       "    </tr>\n",
       "  </tbody>\n",
       "</table>\n",
       "</div>"
      ],
      "text/plain": [
       "   key  lval  rval\n",
       "0  foo     1     4\n",
       "1  foo     1     5\n",
       "2  foo     2     4\n",
       "3  foo     2     5"
      ]
     },
     "execution_count": 8,
     "metadata": {},
     "output_type": "execute_result"
    }
   ],
   "source": [
    "# Join\n",
    "left = pd.DataFrame({'key': ['foo', 'foo'], 'lval': [1, 2]})\n",
    "right = pd.DataFrame({'key': ['foo', 'foo'], 'rval': [4, 5]})\n",
    "\n",
    "print left\n",
    "print right\n",
    "\n",
    "pd.merge(left, right, on='key')"
   ]
  },
  {
   "cell_type": "code",
   "execution_count": 9,
   "metadata": {
    "collapsed": false
   },
   "outputs": [
    {
     "data": {
      "text/html": [
       "<div>\n",
       "<table border=\"1\" class=\"dataframe\">\n",
       "  <thead>\n",
       "    <tr style=\"text-align: right;\">\n",
       "      <th></th>\n",
       "      <th>key</th>\n",
       "      <th>lval</th>\n",
       "      <th>rval</th>\n",
       "    </tr>\n",
       "  </thead>\n",
       "  <tbody>\n",
       "    <tr>\n",
       "      <th>0</th>\n",
       "      <td>foo</td>\n",
       "      <td>1</td>\n",
       "      <td>4</td>\n",
       "    </tr>\n",
       "    <tr>\n",
       "      <th>1</th>\n",
       "      <td>bar</td>\n",
       "      <td>2</td>\n",
       "      <td>5</td>\n",
       "    </tr>\n",
       "  </tbody>\n",
       "</table>\n",
       "</div>"
      ],
      "text/plain": [
       "   key  lval  rval\n",
       "0  foo     1     4\n",
       "1  bar     2     5"
      ]
     },
     "execution_count": 9,
     "metadata": {},
     "output_type": "execute_result"
    }
   ],
   "source": [
    "# Join\n",
    "left = pd.DataFrame({'key': ['foo', 'bar'], 'lval': [1, 2]})\n",
    "right = pd.DataFrame({'key': ['foo', 'bar'], 'rval': [4, 5]})\n",
    "    \n",
    "pd.merge(left, right, on='key')"
   ]
  },
  {
   "cell_type": "code",
   "execution_count": 11,
   "metadata": {
    "collapsed": false
   },
   "outputs": [
    {
     "name": "stdout",
     "output_type": "stream",
     "text": [
      "A   -1.647834\n",
      "B    0.691195\n",
      "C    1.957951\n",
      "D    0.209513\n",
      "Name: 3, dtype: float64\n"
     ]
    },
    {
     "data": {
      "text/html": [
       "<div>\n",
       "<table border=\"1\" class=\"dataframe\">\n",
       "  <thead>\n",
       "    <tr style=\"text-align: right;\">\n",
       "      <th></th>\n",
       "      <th>A</th>\n",
       "      <th>B</th>\n",
       "      <th>C</th>\n",
       "      <th>D</th>\n",
       "    </tr>\n",
       "  </thead>\n",
       "  <tbody>\n",
       "    <tr>\n",
       "      <th>0</th>\n",
       "      <td>1.014210</td>\n",
       "      <td>1.107628</td>\n",
       "      <td>-0.114250</td>\n",
       "      <td>0.310079</td>\n",
       "    </tr>\n",
       "    <tr>\n",
       "      <th>1</th>\n",
       "      <td>-1.034981</td>\n",
       "      <td>-1.316266</td>\n",
       "      <td>-0.791154</td>\n",
       "      <td>-0.383627</td>\n",
       "    </tr>\n",
       "    <tr>\n",
       "      <th>2</th>\n",
       "      <td>1.019069</td>\n",
       "      <td>-0.139836</td>\n",
       "      <td>0.372123</td>\n",
       "      <td>1.261822</td>\n",
       "    </tr>\n",
       "    <tr>\n",
       "      <th>3</th>\n",
       "      <td>-1.647834</td>\n",
       "      <td>0.691195</td>\n",
       "      <td>1.957951</td>\n",
       "      <td>0.209513</td>\n",
       "    </tr>\n",
       "    <tr>\n",
       "      <th>4</th>\n",
       "      <td>-1.177856</td>\n",
       "      <td>-0.626683</td>\n",
       "      <td>-1.163836</td>\n",
       "      <td>0.239937</td>\n",
       "    </tr>\n",
       "    <tr>\n",
       "      <th>5</th>\n",
       "      <td>0.028772</td>\n",
       "      <td>-1.312719</td>\n",
       "      <td>0.145514</td>\n",
       "      <td>0.851990</td>\n",
       "    </tr>\n",
       "    <tr>\n",
       "      <th>6</th>\n",
       "      <td>-0.487295</td>\n",
       "      <td>0.702497</td>\n",
       "      <td>0.834289</td>\n",
       "      <td>0.529885</td>\n",
       "    </tr>\n",
       "    <tr>\n",
       "      <th>7</th>\n",
       "      <td>0.682866</td>\n",
       "      <td>1.419415</td>\n",
       "      <td>0.440749</td>\n",
       "      <td>-0.024049</td>\n",
       "    </tr>\n",
       "    <tr>\n",
       "      <th>8</th>\n",
       "      <td>-1.647834</td>\n",
       "      <td>0.691195</td>\n",
       "      <td>1.957951</td>\n",
       "      <td>0.209513</td>\n",
       "    </tr>\n",
       "  </tbody>\n",
       "</table>\n",
       "</div>"
      ],
      "text/plain": [
       "          A         B         C         D\n",
       "0  1.014210  1.107628 -0.114250  0.310079\n",
       "1 -1.034981 -1.316266 -0.791154 -0.383627\n",
       "2  1.019069 -0.139836  0.372123  1.261822\n",
       "3 -1.647834  0.691195  1.957951  0.209513\n",
       "4 -1.177856 -0.626683 -1.163836  0.239937\n",
       "5  0.028772 -1.312719  0.145514  0.851990\n",
       "6 -0.487295  0.702497  0.834289  0.529885\n",
       "7  0.682866  1.419415  0.440749 -0.024049\n",
       "8 -1.647834  0.691195  1.957951  0.209513"
      ]
     },
     "execution_count": 11,
     "metadata": {},
     "output_type": "execute_result"
    }
   ],
   "source": [
    "# Append\n",
    "df = pd.DataFrame(np.random.randn(8, 4), columns=['A','B','C','D'])\n",
    "\n",
    "s = df.iloc[3]\n",
    "print s\n",
    "\n",
    "df.append(s, ignore_index=True)    # 把第3行append在最后"
   ]
  }
 ],
 "metadata": {
  "kernelspec": {
   "display_name": "Python [default]",
   "language": "python",
   "name": "python2"
  },
  "language_info": {
   "codemirror_mode": {
    "name": "ipython",
    "version": 2
   },
   "file_extension": ".py",
   "mimetype": "text/x-python",
   "name": "python",
   "nbconvert_exporter": "python",
   "pygments_lexer": "ipython2",
   "version": "2.7.12"
  }
 },
 "nbformat": 4,
 "nbformat_minor": 1
}

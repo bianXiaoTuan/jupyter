{
 "cells": [
  {
   "cell_type": "code",
   "execution_count": 2,
   "metadata": {
    "collapsed": false
   },
   "outputs": [
    {
     "name": "stdout",
     "output_type": "stream",
     "text": [
      "0.989657915672\n",
      "{'kernel': 'rbf', 'C': 10, 'gamma': 0.001}\n",
      "0.990740740741\n"
     ]
    }
   ],
   "source": [
    "import numpy as np\n",
    "from sklearn import datasets, svm\n",
    "from sklearn.model_selection import train_test_split\n",
    "from sklearn.model_selection import GridSearchCV, cross_val_score\n",
    "\n",
    "# Load Data\n",
    "digits = datasets.load_digits()\n",
    "X = digits.data\n",
    "y = digits.target\n",
    "\n",
    "X_train, X_test, y_train, y_test = train_test_split(X, y, test_size=0.3, random_state=0)\n",
    "\n",
    "# SVM\n",
    "svc = svm.SVC(C=1, kernel='linear')\n",
    "\n",
    "# 遍历组合参数\n",
    "param_grid = [\n",
    "  {'C': [1, 10, 100, 1000], 'kernel': ['linear']},\n",
    "  {'C': [1, 10, 100, 1000], 'gamma': [0.001, 0.0001], 'kernel': ['rbf']},\n",
    "]\n",
    "\n",
    "# n_jobs=-1 means that the computation will be dispatched on all the CPUs of the computer\n",
    "clf = GridSearchCV(estimator=svc, param_grid=param_grid, n_jobs=-1)\n",
    "clf.fit(X_train, y_train)\n",
    "\n",
    "# Score\n",
    "print clf.best_score_\n",
    "print clf.best_params_\n",
    "\n",
    "print clf.score(X_test, y_test)"
   ]
  },
  {
   "cell_type": "code",
   "execution_count": 4,
   "metadata": {
    "collapsed": false
   },
   "outputs": [
    {
     "name": "stdout",
     "output_type": "stream",
     "text": [
      "0.989657915672\n",
      "{'kernel': 'rbf', 'C': 1000, 'gamma': 0.001}\n",
      "0.990740740741\n"
     ]
    }
   ],
   "source": [
    "import scipy\n",
    "import numpy as np\n",
    "from sklearn import datasets, svm\n",
    "from sklearn.model_selection import train_test_split\n",
    "from sklearn.model_selection import RandomizedSearchCV\n",
    "\n",
    "# Load Data\n",
    "digits = datasets.load_digits()\n",
    "X = digits.data\n",
    "y = digits.target\n",
    "\n",
    "X_train, X_test, y_train, y_test = train_test_split(X, y, test_size=0.3, random_state=0)\n",
    "\n",
    "# SVM\n",
    "svc = svm.SVC(C=1, kernel='linear')\n",
    "\n",
    "# 遍历组合参数\n",
    "param_dist = {\n",
    "    'kernel' : ['rbf', 'linear', 'sigmoid'],\n",
    "    'C' : [1, 10, 100, 1000],\n",
    "    'gamma' : [0.001, 0.0001]\n",
    "}\n",
    "\n",
    "n_iter_search = 20\n",
    "clf = RandomizedSearchCV(svc, param_distributions=param_dist, n_iter=n_iter_search, n_jobs=-1)\n",
    "clf.fit(X_train, y_train)\n",
    "\n",
    "# Score\n",
    "print clf.best_score_\n",
    "print clf.best_params_\n",
    "\n",
    "print clf.score(X_test, y_test)"
   ]
  },
  {
   "cell_type": "markdown",
   "metadata": {},
   "source": [
    "http://scikit-learn.org/stable/modules/grid_search.html"
   ]
  }
 ],
 "metadata": {
  "kernelspec": {
   "display_name": "Python [default]",
   "language": "python",
   "name": "python2"
  },
  "language_info": {
   "codemirror_mode": {
    "name": "ipython",
    "version": 2
   },
   "file_extension": ".py",
   "mimetype": "text/x-python",
   "name": "python",
   "nbconvert_exporter": "python",
   "pygments_lexer": "ipython2",
   "version": "2.7.12"
  }
 },
 "nbformat": 4,
 "nbformat_minor": 1
}

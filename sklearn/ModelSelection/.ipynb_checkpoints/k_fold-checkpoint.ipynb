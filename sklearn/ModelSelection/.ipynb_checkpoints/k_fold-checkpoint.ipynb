{
 "cells": [
  {
   "cell_type": "code",
   "execution_count": 4,
   "metadata": {
    "collapsed": false
   },
   "outputs": [
    {
     "name": "stdout",
     "output_type": "stream",
     "text": [
      "[0.93489148580968284, 0.95659432387312182, 0.93989983305509184]\n",
      "[ 0.93489149  0.95659432  0.93989983]\n"
     ]
    }
   ],
   "source": [
    "from sklearn import datasets, svm\n",
    "from sklearn.model_selection import KFold, cross_val_score\n",
    "\n",
    "# Load Data\n",
    "digits = datasets.load_digits()\n",
    "X = digits.data\n",
    "y = digits.target\n",
    "\n",
    "# SVM\n",
    "svc = svm.SVC(C=1, kernel='linear')\n",
    "\n",
    "# KFold 方法一\n",
    "k_fold = KFold(n_splits=3)\n",
    "print [svc.fit(X[train], y[train]).score(X[test], y[test]) for train, test in k_fold.split(X)]\n",
    "\n",
    "# KFold 方法二\n",
    "# n_jobs=-1 means that the computation will be dispatched on all the CPUs of the computer\n",
    "print cross_val_score(svc, X, y, cv=k_fold, n_jobs=-1)"
   ]
  }
 ],
 "metadata": {
  "anaconda-cloud": {},
  "kernelspec": {
   "display_name": "Python [default]",
   "language": "python",
   "name": "python2"
  },
  "language_info": {
   "codemirror_mode": {
    "name": "ipython",
    "version": 2
   },
   "file_extension": ".py",
   "mimetype": "text/x-python",
   "name": "python",
   "nbconvert_exporter": "python",
   "pygments_lexer": "ipython2",
   "version": "2.7.12"
  }
 },
 "nbformat": 4,
 "nbformat_minor": 1
}

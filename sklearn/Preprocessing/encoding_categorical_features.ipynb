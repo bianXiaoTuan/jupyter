{
 "cells": [
  {
   "cell_type": "code",
   "execution_count": 14,
   "metadata": {
    "collapsed": false
   },
   "outputs": [
    {
     "name": "stdout",
     "output_type": "stream",
     "text": [
      "[[ 1.  0.  0.  0.]]\n",
      "[[ 0.  1.  0.  0.]]\n",
      "[[ 0.  0.  1.  0.]]\n",
      "[[ 0.  0.  0.  1.]]\n"
     ]
    }
   ],
   "source": [
    "from sklearn import preprocessing\n",
    "import numpy as np\n",
    "\n",
    "'''\n",
    "[\"male\", \"female\"]\n",
    "[\"from Europe\", \"from US\", \"from Asia\"]\n",
    "[\"uses Firefox\", \"uses Chrome\", \"uses Safari\", \"uses Internet Explorer\"]\n",
    "\n",
    "[\"male\", \"from US\", \"uses Internet Explorer\"] as [0, 1, 3]\n",
    "[\"female\", \"from Asia\", \"uses Chrome\"] as [1, 2, 1]\n",
    "\n",
    "\n",
    "Such integer representation can not be used directly with scikit-learn estimators as these expect continuous \n",
    "input, and would interpret the categories as being ordered, which is often not desired.\n",
    "\n",
    "One possibility to convert categorical features to features that can be used with scikit-learn estimators is \n",
    "to use a one-of-K or one-hot encoding, which is implemented in OneHotEncoder. \n",
    "\n",
    "This estimator transforms each categorical feature with m possible values into m binary features, with only \n",
    "one active.\n",
    "'''\n",
    "\n",
    "X = [[0], [1], [1], [2], [3]]\n",
    "\n",
    "enc = preprocessing.OneHotEncoder()\n",
    "enc.fit(X)\n",
    "\n",
    "print enc.transform([[0]]).toarray()\n",
    "print enc.transform([[1]]).toarray()\n",
    "print enc.transform([[2]]).toarray()\n",
    "print enc.transform([[3]]).toarray()"
   ]
  },
  {
   "cell_type": "code",
   "execution_count": 15,
   "metadata": {
    "collapsed": false
   },
   "outputs": [
    {
     "data": {
      "text/plain": [
       "array([[ 1.,  0.,  0.,  1.,  0.,  0.,  0.,  0.,  1.]])"
      ]
     },
     "execution_count": 15,
     "metadata": {},
     "output_type": "execute_result"
    }
   ],
   "source": [
    "X = [[0, 0, 3], [1, 1, 0], [0, 2, 1], [1, 0, 2]]\n",
    "\n",
    "enc = preprocessing.OneHotEncoder()\n",
    "enc.fit(X)\n",
    "\n",
    "enc.transform([[0, 1, 3]]).toarray()"
   ]
  },
  {
   "cell_type": "code",
   "execution_count": null,
   "metadata": {
    "collapsed": true
   },
   "outputs": [],
   "source": [
    "'''\n",
    "By default, how many values each feature can take is inferred automatically from the dataset. \n",
    "It is possible to specify this explicitly using the parameter n_values. \n",
    "\n",
    "There are two genders, three possible continents and four web browsers in our dataset. Then we fit \n",
    "the estimator, and transform a data point. \n",
    "\n",
    "In the result, the first two numbers encode the gender, the next set of three numbers the \n",
    "continent and the last four the web browser.\n",
    "'''"
   ]
  },
  {
   "cell_type": "code",
   "execution_count": 16,
   "metadata": {
    "collapsed": false
   },
   "outputs": [
    {
     "name": "stdout",
     "output_type": "stream",
     "text": [
      "[[ 0.  1.  1.  0.  0.  1.  0.  0.  0.]]\n",
      "[[ 1.  0.  0.  1.  0.  1.  0.  0.  0.]]\n",
      "[[ 0.  1.  0.  0.  1.  0.  0.  0.  1.]]\n"
     ]
    }
   ],
   "source": [
    "enc = preprocessing.OneHotEncoder(n_values=[2, 3, 4])\n",
    "\n",
    "enc.fit([[1, 2, 3], [0, 2, 0]])\n",
    "\n",
    "print enc.transform([[1, 0, 0]]).toarray()\n",
    "\n",
    "print enc.transform([[0, 1, 0]]).toarray()\n",
    "\n",
    "print enc.transform([[1, 2, 3]]).toarray()"
   ]
  }
 ],
 "metadata": {
  "kernelspec": {
   "display_name": "Python [default]",
   "language": "python",
   "name": "python2"
  },
  "language_info": {
   "codemirror_mode": {
    "name": "ipython",
    "version": 2
   },
   "file_extension": ".py",
   "mimetype": "text/x-python",
   "name": "python",
   "nbconvert_exporter": "python",
   "pygments_lexer": "ipython2",
   "version": "2.7.12"
  }
 },
 "nbformat": 4,
 "nbformat_minor": 1
}

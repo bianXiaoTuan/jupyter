{
 "cells": [
  {
   "cell_type": "code",
   "execution_count": 1,
   "metadata": {
    "collapsed": false
   },
   "outputs": [
    {
     "data": {
      "text/plain": [
       "0    1.0\n",
       "1    3.0\n",
       "2    5.0\n",
       "3    NaN\n",
       "4    6.0\n",
       "5    8.0\n",
       "dtype: float64"
      ]
     },
     "execution_count": 1,
     "metadata": {},
     "output_type": "execute_result"
    }
   ],
   "source": [
    "import pandas as pd\n",
    "import numpy as np\n",
    "import matplotlib.pyplot as plt\n",
    "\n",
    "# Series\n",
    "pd.Series([1, 3, 5, np.nan, 6, 8])"
   ]
  },
  {
   "cell_type": "code",
   "execution_count": 6,
   "metadata": {
    "collapsed": false
   },
   "outputs": [
    {
     "name": "stdout",
     "output_type": "stream",
     "text": [
      "DatetimeIndex(['2013-01-01', '2013-01-02', '2013-01-03', '2013-01-04',\n",
      "               '2013-01-05', '2013-01-06'],\n",
      "              dtype='datetime64[ns]', freq='D')\n"
     ]
    }
   ],
   "source": [
    "# DataFrame\n",
    "dates = pd.date_range('20130101', periods=6)\n",
    "print dates"
   ]
  },
  {
   "cell_type": "code",
   "execution_count": 7,
   "metadata": {
    "collapsed": false
   },
   "outputs": [
    {
     "data": {
      "text/html": [
       "<div>\n",
       "<table border=\"1\" class=\"dataframe\">\n",
       "  <thead>\n",
       "    <tr style=\"text-align: right;\">\n",
       "      <th></th>\n",
       "      <th>A</th>\n",
       "      <th>B</th>\n",
       "      <th>C</th>\n",
       "      <th>D</th>\n",
       "    </tr>\n",
       "  </thead>\n",
       "  <tbody>\n",
       "    <tr>\n",
       "      <th>2013-01-01</th>\n",
       "      <td>-0.383711</td>\n",
       "      <td>-0.155094</td>\n",
       "      <td>0.368879</td>\n",
       "      <td>0.486944</td>\n",
       "    </tr>\n",
       "    <tr>\n",
       "      <th>2013-01-02</th>\n",
       "      <td>-0.314146</td>\n",
       "      <td>-1.401072</td>\n",
       "      <td>0.492830</td>\n",
       "      <td>0.379466</td>\n",
       "    </tr>\n",
       "    <tr>\n",
       "      <th>2013-01-03</th>\n",
       "      <td>1.158859</td>\n",
       "      <td>0.519939</td>\n",
       "      <td>0.332764</td>\n",
       "      <td>0.998800</td>\n",
       "    </tr>\n",
       "    <tr>\n",
       "      <th>2013-01-04</th>\n",
       "      <td>0.014253</td>\n",
       "      <td>1.479176</td>\n",
       "      <td>0.550150</td>\n",
       "      <td>-0.141773</td>\n",
       "    </tr>\n",
       "    <tr>\n",
       "      <th>2013-01-05</th>\n",
       "      <td>-0.616845</td>\n",
       "      <td>-0.266862</td>\n",
       "      <td>0.038908</td>\n",
       "      <td>0.326740</td>\n",
       "    </tr>\n",
       "    <tr>\n",
       "      <th>2013-01-06</th>\n",
       "      <td>-0.085392</td>\n",
       "      <td>1.024913</td>\n",
       "      <td>1.216737</td>\n",
       "      <td>0.526546</td>\n",
       "    </tr>\n",
       "  </tbody>\n",
       "</table>\n",
       "</div>"
      ],
      "text/plain": [
       "                   A         B         C         D\n",
       "2013-01-01 -0.383711 -0.155094  0.368879  0.486944\n",
       "2013-01-02 -0.314146 -1.401072  0.492830  0.379466\n",
       "2013-01-03  1.158859  0.519939  0.332764  0.998800\n",
       "2013-01-04  0.014253  1.479176  0.550150 -0.141773\n",
       "2013-01-05 -0.616845 -0.266862  0.038908  0.326740\n",
       "2013-01-06 -0.085392  1.024913  1.216737  0.526546"
      ]
     },
     "execution_count": 7,
     "metadata": {},
     "output_type": "execute_result"
    }
   ],
   "source": [
    "# DataFrame\n",
    "pd.DataFrame(np.random.randn(6,4), index=dates, columns=list('ABCD'))"
   ]
  },
  {
   "cell_type": "code",
   "execution_count": 8,
   "metadata": {
    "collapsed": false
   },
   "outputs": [
    {
     "name": "stdout",
     "output_type": "stream",
     "text": [
      "     A          B  C\n",
      "0  1.0 2013-01-02  3\n",
      "1  1.0 2013-01-02  3\n",
      "2  1.0 2013-01-02  3\n",
      "3  1.0 2013-01-02  3\n"
     ]
    }
   ],
   "source": [
    "# DataFrame\n",
    "data_frame = pd.DataFrame({\n",
    "        'A' : 1.,\n",
    "        'B' : pd.Timestamp('20130102'),\n",
    "        'C' : np.array([3]*4, dtype='int32')\n",
    "    })\n",
    "print data_frame"
   ]
  }
 ],
 "metadata": {
  "anaconda-cloud": {},
  "kernelspec": {
   "display_name": "Python [default]",
   "language": "python",
   "name": "python2"
  },
  "language_info": {
   "codemirror_mode": {
    "name": "ipython",
    "version": 2
   },
   "file_extension": ".py",
   "mimetype": "text/x-python",
   "name": "python",
   "nbconvert_exporter": "python",
   "pygments_lexer": "ipython2",
   "version": "2.7.12"
  }
 },
 "nbformat": 4,
 "nbformat_minor": 1
}

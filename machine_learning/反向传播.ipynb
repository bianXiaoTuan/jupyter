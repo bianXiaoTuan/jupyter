{
 "cells": [
  {
   "cell_type": "code",
   "execution_count": 45,
   "metadata": {
    "collapsed": false
   },
   "outputs": [],
   "source": [
    "import numpy as np\n",
    "\n",
    "def sigmoid(x):\n",
    "    \"\"\"\n",
    "    Calculate sigmoid\n",
    "    \"\"\"\n",
    "    return 1 / (1 + np.exp(-x))"
   ]
  },
  {
   "cell_type": "code",
   "execution_count": 46,
   "metadata": {
    "collapsed": false
   },
   "outputs": [],
   "source": [
    "# Hyperparameters\n",
    "n_hidden = 2  # number of hidden units\n",
    "epochs = 1\n",
    "learnrate = 0.5\n",
    "x = [0.5, -0.2, 0.1]\n",
    "y = [0.4]\n",
    "\n",
    "n_records = 1 \n",
    "n_features = 3\n",
    "\n",
    "# Initialize weights\n",
    "weights_input_hidden = np.array([[0.1, 0.4, -0.3], [-0.2, 0.5, 0.2]])\n",
    "weights_hidden_output = np.array([[0.3, -0.1]])"
   ]
  },
  {
   "cell_type": "code",
   "execution_count": 47,
   "metadata": {
    "collapsed": false
   },
   "outputs": [
    {
     "name": "stdout",
     "output_type": "stream",
     "text": [
      "[-0.06 -0.18]\n",
      "[ 0.4850045   0.45512111]\n",
      "[ 0.5249765]\n"
     ]
    }
   ],
   "source": [
    "# 前向传播\n",
    "del_w_input_hidden = np.zeros(weights_input_hidden.shape)\n",
    "del_w_hidden_output = np.zeros(weights_hidden_output.shape)\n",
    "\n",
    "## Forward pass ##\n",
    "hidden_input = np.dot(weights_input_hidden, x)\n",
    "print hidden_input\n",
    "hidden_output = sigmoid(hidden_input)\n",
    "print hidden_output\n",
    "\n",
    "output = sigmoid(np.dot(weights_hidden_output, hidden_output))\n",
    "print output"
   ]
  },
  {
   "cell_type": "code",
   "execution_count": 48,
   "metadata": {
    "collapsed": false
   },
   "outputs": [
    {
     "name": "stdout",
     "output_type": "stream",
     "text": [
      "[-0.1249765]\n",
      "[-0.03116616]\n",
      "[[-0.01511573 -0.01418438]]\n",
      "[[-0.00755786 -0.00709219]]\n",
      "[[ 0.3 -0.1]]\n",
      "[[ 0.29244214 -0.10709219]]\n"
     ]
    }
   ],
   "source": [
    "# TODO: Calculate error term for the output unit\n",
    "error = y - output\n",
    "print error\n",
    "output_error_term = error * output * (1 - output)\n",
    "print output_error_term\n",
    "del_w_hidden_output += output_error_term * hidden_output\n",
    "print del_w_hidden_output\n",
    "\n",
    "print learnrate * del_w_hidden_output\n",
    "print weights_hidden_output\n",
    "weights_hidden_output += learnrate * del_w_hidden_output\n",
    "print weights_hidden_output"
   ]
  },
  {
   "cell_type": "code",
   "execution_count": null,
   "metadata": {
    "collapsed": true
   },
   "outputs": [],
   "source": []
  }
 ],
 "metadata": {
  "kernelspec": {
   "display_name": "Python [default]",
   "language": "python",
   "name": "python2"
  },
  "language_info": {
   "codemirror_mode": {
    "name": "ipython",
    "version": 2
   },
   "file_extension": ".py",
   "mimetype": "text/x-python",
   "name": "python",
   "nbconvert_exporter": "python",
   "pygments_lexer": "ipython2",
   "version": "2.7.12"
  }
 },
 "nbformat": 4,
 "nbformat_minor": 1
}

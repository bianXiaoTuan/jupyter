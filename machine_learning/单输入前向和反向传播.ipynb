{
 "cells": [
  {
   "cell_type": "markdown",
   "metadata": {},
   "source": [
    "# 背景\n",
    "\n",
    "背景为3*2*1的神经网络，训练样本只有一个:   \n",
    "x = [0.5, -0.2, -0.1]   \n",
    "y = [0.4]"
   ]
  },
  {
   "cell_type": "code",
   "execution_count": 1,
   "metadata": {
    "collapsed": true
   },
   "outputs": [],
   "source": [
    "import numpy as np\n",
    "import pandas as pd\n",
    "import matplotlib.pyplot as plt"
   ]
  },
  {
   "cell_type": "code",
   "execution_count": 10,
   "metadata": {
    "collapsed": true
   },
   "outputs": [],
   "source": [
    "inputs = [0.5, -0.2, 0.1]\n",
    "targets = [0.4]\n",
    "input_hidden_weight = np.array([[0.1, 0.4, -0.3], [-0.2, 0.5, 0.2]])\n",
    "hidden_output_weight = np.array([[0.3, -0.1]])\n",
    "learning_rate=0.5"
   ]
  },
  {
   "cell_type": "code",
   "execution_count": 11,
   "metadata": {
    "collapsed": true
   },
   "outputs": [],
   "source": [
    "def sigmoid(x):\n",
    "    return 1.0 / (1 + np.exp(-x))"
   ]
  },
  {
   "cell_type": "markdown",
   "metadata": {},
   "source": [
    "# 前向传播"
   ]
  },
  {
   "cell_type": "code",
   "execution_count": 12,
   "metadata": {
    "collapsed": false
   },
   "outputs": [
    {
     "data": {
      "text/plain": [
       "array([-0.06, -0.18])"
      ]
     },
     "execution_count": 12,
     "metadata": {},
     "output_type": "execute_result"
    }
   ],
   "source": [
    "z_1 = np.dot(input_hidden_weight, inputs)\n",
    "z_1"
   ]
  },
  {
   "cell_type": "code",
   "execution_count": 13,
   "metadata": {
    "collapsed": false
   },
   "outputs": [
    {
     "data": {
      "text/plain": [
       "array([ 0.4850045 ,  0.45512111])"
      ]
     },
     "execution_count": 13,
     "metadata": {},
     "output_type": "execute_result"
    }
   ],
   "source": [
    "a_1 = sigmoid(z_1)\n",
    "a_1"
   ]
  },
  {
   "cell_type": "code",
   "execution_count": 14,
   "metadata": {
    "collapsed": false
   },
   "outputs": [
    {
     "data": {
      "text/plain": [
       "array([ 0.09998924])"
      ]
     },
     "execution_count": 14,
     "metadata": {},
     "output_type": "execute_result"
    }
   ],
   "source": [
    "z_2 = np.dot(hidden_output_weight, a_1)\n",
    "z_2"
   ]
  },
  {
   "cell_type": "code",
   "execution_count": 15,
   "metadata": {
    "collapsed": false
   },
   "outputs": [
    {
     "data": {
      "text/plain": [
       "array([ 0.5249765])"
      ]
     },
     "execution_count": 15,
     "metadata": {},
     "output_type": "execute_result"
    }
   ],
   "source": [
    "y = sigmoid(z_2)\n",
    "y"
   ]
  },
  {
   "cell_type": "markdown",
   "metadata": {},
   "source": [
    "# 反向传播"
   ]
  },
  {
   "cell_type": "code",
   "execution_count": 16,
   "metadata": {
    "collapsed": false
   },
   "outputs": [
    {
     "data": {
      "text/plain": [
       "array([-0.1249765])"
      ]
     },
     "execution_count": 16,
     "metadata": {},
     "output_type": "execute_result"
    }
   ],
   "source": [
    "# output layer's error\n",
    "output_error = targets - y\n",
    "output_error"
   ]
  },
  {
   "cell_type": "code",
   "execution_count": 43,
   "metadata": {
    "collapsed": false
   },
   "outputs": [
    {
     "data": {
      "text/plain": [
       "array([-0.01511573, -0.01418438])"
      ]
     },
     "execution_count": 43,
     "metadata": {},
     "output_type": "execute_result"
    }
   ],
   "source": [
    "# output layer's gradient\n",
    "output_gradient_1 = output_error * y * (1 - y) * a_1[0]\n",
    "output_gradient_2 = output_error * y * (1 - y) * a_1[1]\n",
    "output_gradient = np.array([output_gradient_1[0], output_gradient_2[0]])\n",
    "output_gradient"
   ]
  },
  {
   "cell_type": "code",
   "execution_count": 48,
   "metadata": {
    "collapsed": false
   },
   "outputs": [
    {
     "data": {
      "text/plain": [
       "array([-0.01511573, -0.01418438])"
      ]
     },
     "execution_count": 48,
     "metadata": {},
     "output_type": "execute_result"
    }
   ],
   "source": [
    "# output layer's gradient 的矩阵实现\n",
    "output_gradient = output_error * y * (1 - y) * a_1\n",
    "output_gradient"
   ]
  },
  {
   "cell_type": "code",
   "execution_count": 44,
   "metadata": {
    "collapsed": false
   },
   "outputs": [
    {
     "data": {
      "text/plain": [
       "array([-0.03749295,  0.01249765])"
      ]
     },
     "execution_count": 44,
     "metadata": {},
     "output_type": "execute_result"
    }
   ],
   "source": [
    "# hidden layer's error\n",
    "hidden_error = np.dot(output_error, hidden_output_weight)\n",
    "hidden_error"
   ]
  },
  {
   "cell_type": "code",
   "execution_count": 45,
   "metadata": {
    "collapsed": false
   },
   "outputs": [
    {
     "data": {
      "text/plain": [
       "array([[-0.0046824 ,  0.00187296, -0.00093648],\n",
       "       [ 0.00154962, -0.00061985,  0.00030992]])"
      ]
     },
     "execution_count": 45,
     "metadata": {},
     "output_type": "execute_result"
    }
   ],
   "source": [
    "# hidden layer's gradient\n",
    "hidden_gradient_01 = hidden_error[0] * (1 - a_1[0]) * a_1[0] * inputs[0]\n",
    "hidden_gradient_02 = hidden_error[0] * (1 - a_1[0]) * a_1[0] * inputs[1]\n",
    "hidden_gradient_03 = hidden_error[0] * (1 - a_1[0]) * a_1[0] * inputs[2]\n",
    "\n",
    "hidden_gradient_11 = hidden_error[1] * (1 - a_1[1]) * a_1[1] * inputs[0]\n",
    "hidden_gradient_12 = hidden_error[1] * (1 - a_1[1]) * a_1[1] * inputs[1]\n",
    "hidden_gradient_13 = hidden_error[1] * (1 - a_1[1]) * a_1[1] * inputs[2]\n",
    "\n",
    "hidden_gradient = np.array([\n",
    "    [hidden_gradient_01, hidden_gradient_02, hidden_gradient_03],\n",
    "    [hidden_gradient_11, hidden_gradient_12, hidden_gradient_13]\n",
    "])\n",
    "hidden_gradient"
   ]
  },
  {
   "cell_type": "code",
   "execution_count": 117,
   "metadata": {
    "collapsed": false
   },
   "outputs": [
    {
     "data": {
      "text/plain": [
       "array([[-0.0046824 ,  0.00187296, -0.00093648],\n",
       "       [ 0.00154962, -0.00061985,  0.00030992]])"
      ]
     },
     "execution_count": 117,
     "metadata": {},
     "output_type": "execute_result"
    }
   ],
   "source": [
    "# hidden layer's gradient 的矩阵实现\n",
    "hidden_gradient = np.dot(np.array([hidden_error * a_1 * (1 - a_1)]).T, np.array([list(inputs)]))\n",
    "hidden_gradient"
   ]
  },
  {
   "cell_type": "code",
   "execution_count": 118,
   "metadata": {
    "collapsed": false
   },
   "outputs": [
    {
     "data": {
      "text/plain": [
       "array([[ 0.29244214, -0.10709219]])"
      ]
     },
     "execution_count": 118,
     "metadata": {},
     "output_type": "execute_result"
    }
   ],
   "source": [
    "# new output weight\n",
    "new_hidden_output_weight = hidden_output_weight + learning_rate * output_gradient\n",
    "new_hidden_output_weight"
   ]
  },
  {
   "cell_type": "code",
   "execution_count": 119,
   "metadata": {
    "collapsed": false
   },
   "outputs": [
    {
     "data": {
      "text/plain": [
       "array([[ 0.0976588 ,  0.40093648, -0.30046824],\n",
       "       [-0.19922519,  0.49969008,  0.20015496]])"
      ]
     },
     "execution_count": 119,
     "metadata": {},
     "output_type": "execute_result"
    }
   ],
   "source": [
    "# new hidden weight\n",
    "new_input_hidden_weight = input_hidden_weight + learning_rate * hidden_gradient\n",
    "new_input_hidden_weight"
   ]
  }
 ],
 "metadata": {
  "anaconda-cloud": {},
  "kernelspec": {
   "display_name": "Python [default]",
   "language": "python",
   "name": "python2"
  },
  "language_info": {
   "codemirror_mode": {
    "name": "ipython",
    "version": 2
   },
   "file_extension": ".py",
   "mimetype": "text/x-python",
   "name": "python",
   "nbconvert_exporter": "python",
   "pygments_lexer": "ipython2",
   "version": "2.7.12"
  }
 },
 "nbformat": 4,
 "nbformat_minor": 1
}
